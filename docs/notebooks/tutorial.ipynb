{
 "cells": [
  {
   "cell_type": "markdown",
   "id": "947f441f13ced60a",
   "metadata": {},
   "source": [
    "### Import dependencies"
   ]
  },
  {
   "cell_type": "code",
   "execution_count": null,
   "id": "7b173024d3e8f76",
   "metadata": {
    "ExecuteTime": {
     "end_time": "2025-02-24T16:59:37.448259Z",
     "start_time": "2025-02-24T16:59:36.960817Z"
    }
   },
   "outputs": [],
   "source": [
    "import polars_bio as pb\n",
    "import pandas as pd\n",
    "from polars_bio.range_viz import visualize_intervals"
   ]
  },
  {
   "cell_type": "markdown",
   "id": "d2bb8c193890f27f",
   "metadata": {},
   "source": [
    "### Sample data"
   ]
  },
  {
   "cell_type": "code",
   "execution_count": null,
   "id": "86fe039c3780140e",
   "metadata": {
    "ExecuteTime": {
     "end_time": "2025-02-24T16:59:37.455237Z",
     "start_time": "2025-02-24T16:59:37.452650Z"
    }
   },
   "outputs": [],
   "source": [
    "df1 = pd.DataFrame(\n",
    "    [[\"chr1\", 1, 5], [\"chr1\", 3, 8], [\"chr1\", 8, 10], [\"chr1\", 12, 14]],\n",
    "    columns=[\"chrom\", \"start\", \"end\"],\n",
    ")\n",
    "\n",
    "df2 = pd.DataFrame(\n",
    "    [[\"chr1\", 4, 8], [\"chr1\", 10, 11]], columns=[\"chrom\", \"start\", \"end\"]\n",
    ")"
   ]
  },
  {
   "cell_type": "markdown",
   "id": "a884cd2960796fdb",
   "metadata": {},
   "source": [
    "### Overlap"
   ]
  },
  {
   "cell_type": "code",
   "execution_count": null,
   "id": "304f3aa6fcdc9650",
   "metadata": {
    "ExecuteTime": {
     "end_time": "2025-02-24T16:59:37.545853Z",
     "start_time": "2025-02-24T16:59:37.538707Z"
    }
   },
   "outputs": [],
   "source": [
    "overlapping_intervals = pb.overlap(df1, df2, output_type=\"pandas.DataFrame\")"
   ]
  },
  {
   "cell_type": "code",
   "execution_count": null,
   "id": "61c9254622598622",
   "metadata": {
    "ExecuteTime": {
     "end_time": "2025-02-24T16:59:37.556977Z",
     "start_time": "2025-02-24T16:59:37.552440Z"
    }
   },
   "outputs": [],
   "source": [
    "display(overlapping_intervals)"
   ]
  },
  {
   "cell_type": "code",
   "execution_count": null,
   "id": "e640901ec6e6ce11",
   "metadata": {
    "ExecuteTime": {
     "end_time": "2025-02-24T16:59:37.649614Z",
     "start_time": "2025-02-24T16:59:37.581481Z"
    }
   },
   "outputs": [],
   "source": [
    "visualize_intervals(overlapping_intervals)"
   ]
  },
  {
   "cell_type": "markdown",
   "id": "8e2509b9cb5237d8",
   "metadata": {},
   "source": [
    "### Nearest"
   ]
  },
  {
   "cell_type": "code",
   "execution_count": null,
   "id": "bc0f8689c31221b3",
   "metadata": {
    "ExecuteTime": {
     "end_time": "2025-02-24T16:59:37.658412Z",
     "start_time": "2025-02-24T16:59:37.652480Z"
    }
   },
   "outputs": [],
   "source": [
    "nearest_intervals = pb.nearest(df1, df2, output_type=\"pandas.DataFrame\")"
   ]
  },
  {
   "cell_type": "code",
   "execution_count": null,
   "id": "aad83ab53e1294fc",
   "metadata": {
    "ExecuteTime": {
     "end_time": "2025-02-24T16:59:37.668268Z",
     "start_time": "2025-02-24T16:59:37.665033Z"
    }
   },
   "outputs": [],
   "source": [
    "display(nearest_intervals)"
   ]
  },
  {
   "cell_type": "code",
   "execution_count": null,
   "id": "5f69f700b50f58e2",
   "metadata": {
    "ExecuteTime": {
     "end_time": "2025-02-24T16:59:37.780899Z",
     "start_time": "2025-02-24T16:59:37.673937Z"
    }
   },
   "outputs": [],
   "source": [
    "visualize_intervals(nearest_intervals, \"nearest pair\")"
   ]
  }
 ],
 "metadata": {
  "kernelspec": {
   "display_name": "Python 3",
   "language": "python",
   "name": "python3"
  },
  "language_info": {
   "codemirror_mode": {
    "name": "ipython",
    "version": 3
   },
   "file_extension": ".py",
   "mimetype": "text/x-python",
   "name": "python",
   "nbconvert_exporter": "python",
   "pygments_lexer": "ipython3",
   "version": "3.10.12"
  }
 },
 "nbformat": 4,
 "nbformat_minor": 5
}
