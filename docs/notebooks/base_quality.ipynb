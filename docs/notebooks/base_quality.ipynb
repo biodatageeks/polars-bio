{
 "cells": [
  {
   "cell_type": "code",
   "execution_count": 11,
   "id": "3daa25cc",
   "metadata": {},
   "outputs": [
    {
     "name": "stderr",
     "output_type": "stream",
     "text": [
      "INFO:polars_bio:Table: example registered for path: ../../tests/data/base_quality/example.fastq\n"
     ]
    },
    {
     "name": "stdout",
     "output_type": "stream",
     "text": [
      "['FilterOp', 'InputFormat', 'LazyFrame', 'POLARS_BIO_MAX_THREADS', 'ReadOptions', 'VcfReadOptions', '__all__', '__builtins__', '__cached__', '__doc__', '__file__', '__loader__', '__name__', '__package__', '__path__', '__spec__', '__version__', 'constants', 'context', 'count_overlaps', 'coverage', 'ctx', 'describe_vcf', 'from_polars', 'interval_op_helpers', 'io', 'logging', 'merge', 'nearest', 'operations', 'overlap', 'polars_bio', 'polars_ext', 'range_op', 'range_op_helpers', 'range_op_io', 'range_viz', 'range_wrappers', 'read_bam', 'read_fasta', 'read_fastq', 'read_table', 'read_vcf', 'register_vcf', 'register_view', 'set_option', 'sql', 'visualize_intervals']\n"
     ]
    },
    {
     "ename": "AttributeError",
     "evalue": "module 'polars_bio' has no attribute 'base_quality'",
     "output_type": "error",
     "traceback": [
      "\u001b[0;31m---------------------------------------------------------------------------\u001b[0m",
      "\u001b[0;31mAttributeError\u001b[0m                            Traceback (most recent call last)",
      "Cell \u001b[0;32mIn[11], line 17\u001b[0m\n\u001b[1;32m     14\u001b[0m \u001b[38;5;28mprint\u001b[39m(funcs)\n\u001b[1;32m     16\u001b[0m \u001b[38;5;66;03m# Run your base quality metrics function\u001b[39;00m\n\u001b[0;32m---> 17\u001b[0m metrics_df \u001b[38;5;241m=\u001b[39m \u001b[43mpb\u001b[49m\u001b[38;5;241;43m.\u001b[39;49m\u001b[43mbase_quality\u001b[49m(df)\n",
      "\u001b[0;31mAttributeError\u001b[0m: module 'polars_bio' has no attribute 'base_quality'"
     ]
    }
   ],
   "source": [
    "import polars_bio as pb\n",
    "\n",
    "# Load test FASTQ data\n",
    "df = pb.io.read_fastq(\"../../tests/data/base_quality/example.fastq\")\n",
    "\n",
    "funcs = dir(pb)\n",
    "\n",
    "funcs = sorted(funcs)\n",
    "\n",
    "for f_ in funcs:\n",
    "    if f_ == \"base_quality\":\n",
    "        print(True)\n",
    "\n",
    "print(funcs)\n",
    "\n",
    "# Run your base quality metrics function\n",
    "metrics_df = pb.base_quality(df)"
   ]
  },
  {
   "cell_type": "code",
   "execution_count": null,
   "id": "02b2ef56",
   "metadata": {},
   "outputs": [],
   "source": [
    "from polars_bio.quality.visualization import plot_base_quality\n",
    "\n",
    "plot_base_quality(metrics_df)"
   ]
  }
 ],
 "metadata": {
  "kernelspec": {
   "display_name": ".venv",
   "language": "python",
   "name": "python3"
  },
  "language_info": {
   "codemirror_mode": {
    "name": "ipython",
    "version": 3
   },
   "file_extension": ".py",
   "mimetype": "text/x-python",
   "name": "python",
   "nbconvert_exporter": "python",
   "pygments_lexer": "ipython3",
   "version": "3.12.3"
  }
 },
 "nbformat": 4,
 "nbformat_minor": 5
}
