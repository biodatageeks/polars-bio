{
 "cells": [
  {
   "cell_type": "markdown",
   "id": "83d7ccd7",
   "metadata": {},
   "source": [
    "### Import dependencies"
   ]
  },
  {
   "cell_type": "code",
   "execution_count": 1,
   "id": "58b40aa6",
   "metadata": {},
   "outputs": [
    {
     "name": "stderr",
     "output_type": "stream",
     "text": [
      "/home/user/.pyenv/versions/3.12.9/lib/python3.12/site-packages/tqdm/auto.py:21: TqdmWarning: IProgress not found. Please update jupyter and ipywidgets. See https://ipywidgets.readthedocs.io/en/stable/user_install.html\n",
      "  from .autonotebook import tqdm as notebook_tqdm\n",
      "INFO:polars_bio:Creating BioSessionContext\n"
     ]
    }
   ],
   "source": [
    "import polars_bio as pb\n",
    "import pandas as pd"
   ]
  },
  {
   "cell_type": "markdown",
   "id": "2e29cd0a",
   "metadata": {},
   "source": [
    "### Usage examples"
   ]
  },
  {
   "cell_type": "markdown",
   "id": "f9aedeb9",
   "metadata": {},
   "source": [
    "#### Usage example - calling UDAF directly in SQL"
   ]
  },
  {
   "cell_type": "code",
   "execution_count": null,
   "id": "5f6fccf3",
   "metadata": {},
   "outputs": [],
   "source": [
    "a_lazyframe = pb.read_fastq(\"./example.fastq\")\n",
    "# not implemented yet\n",
    "result = pb.sql(\"???\").collect()\n",
    "print(result)"
   ]
  },
  {
   "cell_type": "markdown",
   "id": "b238193d",
   "metadata": {},
   "source": [
    "#### Usage example - .fastq file"
   ]
  },
  {
   "cell_type": "code",
   "execution_count": 3,
   "id": "0420c240",
   "metadata": {},
   "outputs": [
    {
     "name": "stdout",
     "output_type": "stream",
     "text": [
      "       pos  score\n",
      "0        0      2\n",
      "1        1     19\n",
      "2        2     33\n",
      "3        3     35\n",
      "4        4     37\n",
      "...    ...    ...\n",
      "20195   96     35\n",
      "20196   97     32\n",
      "20197   98     35\n",
      "20198   99     35\n",
      "20199  100     33\n",
      "\n",
      "[20200 rows x 2 columns]\n"
     ]
    }
   ],
   "source": [
    "result = pb.base_sequence_quality(\"example.fastq\", output_type=\"pandas.DataFrame\")\n",
    "print(result)"
   ]
  },
  {
   "cell_type": "markdown",
   "id": "9886c394",
   "metadata": {},
   "source": [
    "#### Usage example - .csv file"
   ]
  },
  {
   "cell_type": "code",
   "execution_count": 4,
   "id": "66c3af24",
   "metadata": {},
   "outputs": [
    {
     "data": {
      "text/html": [
       "<div><style>\n",
       ".dataframe > thead > tr,\n",
       ".dataframe > tbody > tr {\n",
       "  text-align: right;\n",
       "  white-space: pre-wrap;\n",
       "}\n",
       "</style>\n",
       "<small>shape: (20_200, 2)</small><table border=\"1\" class=\"dataframe\"><thead><tr><th>pos</th><th>score</th></tr><tr><td>i64</td><td>i8</td></tr></thead><tbody><tr><td>0</td><td>2</td></tr><tr><td>1</td><td>19</td></tr><tr><td>2</td><td>33</td></tr><tr><td>3</td><td>35</td></tr><tr><td>4</td><td>37</td></tr><tr><td>&hellip;</td><td>&hellip;</td></tr><tr><td>96</td><td>35</td></tr><tr><td>97</td><td>32</td></tr><tr><td>98</td><td>35</td></tr><tr><td>99</td><td>35</td></tr><tr><td>100</td><td>33</td></tr></tbody></table></div>"
      ],
      "text/plain": [
       "shape: (20_200, 2)\n",
       "┌─────┬───────┐\n",
       "│ pos ┆ score │\n",
       "│ --- ┆ ---   │\n",
       "│ i64 ┆ i8    │\n",
       "╞═════╪═══════╡\n",
       "│ 0   ┆ 2     │\n",
       "│ 1   ┆ 19    │\n",
       "│ 2   ┆ 33    │\n",
       "│ 3   ┆ 35    │\n",
       "│ 4   ┆ 37    │\n",
       "│ …   ┆ …     │\n",
       "│ 96  ┆ 35    │\n",
       "│ 97  ┆ 32    │\n",
       "│ 98  ┆ 35    │\n",
       "│ 99  ┆ 35    │\n",
       "│ 100 ┆ 33    │\n",
       "└─────┴───────┘"
      ]
     },
     "execution_count": 4,
     "metadata": {},
     "output_type": "execute_result"
    }
   ],
   "source": [
    "pb.base_sequence_quality(\"example.csv\")"
   ]
  },
  {
   "cell_type": "markdown",
   "id": "5ab1da41",
   "metadata": {},
   "source": [
    "#### Usage example - .parquet file"
   ]
  },
  {
   "cell_type": "code",
   "execution_count": 5,
   "id": "a2cb9c97",
   "metadata": {},
   "outputs": [
    {
     "data": {
      "text/html": [
       "<div><style>\n",
       ".dataframe > thead > tr,\n",
       ".dataframe > tbody > tr {\n",
       "  text-align: right;\n",
       "  white-space: pre-wrap;\n",
       "}\n",
       "</style>\n",
       "<small>shape: (20_200, 2)</small><table border=\"1\" class=\"dataframe\"><thead><tr><th>pos</th><th>score</th></tr><tr><td>i64</td><td>i8</td></tr></thead><tbody><tr><td>0</td><td>2</td></tr><tr><td>1</td><td>19</td></tr><tr><td>2</td><td>33</td></tr><tr><td>3</td><td>35</td></tr><tr><td>4</td><td>37</td></tr><tr><td>&hellip;</td><td>&hellip;</td></tr><tr><td>96</td><td>35</td></tr><tr><td>97</td><td>32</td></tr><tr><td>98</td><td>35</td></tr><tr><td>99</td><td>35</td></tr><tr><td>100</td><td>33</td></tr></tbody></table></div>"
      ],
      "text/plain": [
       "shape: (20_200, 2)\n",
       "┌─────┬───────┐\n",
       "│ pos ┆ score │\n",
       "│ --- ┆ ---   │\n",
       "│ i64 ┆ i8    │\n",
       "╞═════╪═══════╡\n",
       "│ 0   ┆ 2     │\n",
       "│ 1   ┆ 19    │\n",
       "│ 2   ┆ 33    │\n",
       "│ 3   ┆ 35    │\n",
       "│ 4   ┆ 37    │\n",
       "│ …   ┆ …     │\n",
       "│ 96  ┆ 35    │\n",
       "│ 97  ┆ 32    │\n",
       "│ 98  ┆ 35    │\n",
       "│ 99  ┆ 35    │\n",
       "│ 100 ┆ 33    │\n",
       "└─────┴───────┘"
      ]
     },
     "execution_count": 5,
     "metadata": {},
     "output_type": "execute_result"
    }
   ],
   "source": [
    "pb.base_sequence_quality(\"example.parquet\")"
   ]
  },
  {
   "cell_type": "markdown",
   "id": "b519abbd",
   "metadata": {},
   "source": [
    "#### Usage example - `polars.lazyframe.frame.LazyFrame` object"
   ]
  },
  {
   "cell_type": "code",
   "execution_count": 6,
   "id": "1899ca01",
   "metadata": {},
   "outputs": [
    {
     "name": "stderr",
     "output_type": "stream",
     "text": [
      "INFO:polars_bio:Table: example registered for path: ./example.fastq\n"
     ]
    },
    {
     "name": "stdout",
     "output_type": "stream",
     "text": [
      "<class 'polars.lazyframe.frame.LazyFrame'>\n"
     ]
    },
    {
     "name": "stderr",
     "output_type": "stream",
     "text": [
      "200rows [00:00, 85580.58rows/s]\n"
     ]
    },
    {
     "data": {
      "text/html": [
       "<div><style>\n",
       ".dataframe > thead > tr,\n",
       ".dataframe > tbody > tr {\n",
       "  text-align: right;\n",
       "  white-space: pre-wrap;\n",
       "}\n",
       "</style>\n",
       "<small>shape: (20_200, 2)</small><table border=\"1\" class=\"dataframe\"><thead><tr><th>pos</th><th>score</th></tr><tr><td>i64</td><td>i8</td></tr></thead><tbody><tr><td>0</td><td>2</td></tr><tr><td>1</td><td>19</td></tr><tr><td>2</td><td>33</td></tr><tr><td>3</td><td>35</td></tr><tr><td>4</td><td>37</td></tr><tr><td>&hellip;</td><td>&hellip;</td></tr><tr><td>96</td><td>35</td></tr><tr><td>97</td><td>32</td></tr><tr><td>98</td><td>35</td></tr><tr><td>99</td><td>35</td></tr><tr><td>100</td><td>33</td></tr></tbody></table></div>"
      ],
      "text/plain": [
       "shape: (20_200, 2)\n",
       "┌─────┬───────┐\n",
       "│ pos ┆ score │\n",
       "│ --- ┆ ---   │\n",
       "│ i64 ┆ i8    │\n",
       "╞═════╪═══════╡\n",
       "│ 0   ┆ 2     │\n",
       "│ 1   ┆ 19    │\n",
       "│ 2   ┆ 33    │\n",
       "│ 3   ┆ 35    │\n",
       "│ 4   ┆ 37    │\n",
       "│ …   ┆ …     │\n",
       "│ 96  ┆ 35    │\n",
       "│ 97  ┆ 32    │\n",
       "│ 98  ┆ 35    │\n",
       "│ 99  ┆ 35    │\n",
       "│ 100 ┆ 33    │\n",
       "└─────┴───────┘"
      ]
     },
     "execution_count": 6,
     "metadata": {},
     "output_type": "execute_result"
    }
   ],
   "source": [
    "a_lazyframe = pb.read_fastq(\"./example.fastq\")\n",
    "print(type(a_lazyframe))\n",
    "pb.base_sequence_quality(a_lazyframe)"
   ]
  },
  {
   "cell_type": "markdown",
   "id": "cdb4aad6",
   "metadata": {},
   "source": [
    "#### Usage example - `polars.dataframe.frame.DataFrame` object"
   ]
  },
  {
   "cell_type": "code",
   "execution_count": 7,
   "id": "7830b8aa",
   "metadata": {},
   "outputs": [
    {
     "name": "stderr",
     "output_type": "stream",
     "text": [
      "INFO:polars_bio:Table: example registered for path: ./example.fastq\n",
      "200rows [00:00, 99332.24rows/s]"
     ]
    },
    {
     "name": "stdout",
     "output_type": "stream",
     "text": [
      "<class 'polars.dataframe.frame.DataFrame'>\n"
     ]
    },
    {
     "name": "stderr",
     "output_type": "stream",
     "text": [
      "\n"
     ]
    },
    {
     "data": {
      "text/html": [
       "<div><style>\n",
       ".dataframe > thead > tr,\n",
       ".dataframe > tbody > tr {\n",
       "  text-align: right;\n",
       "  white-space: pre-wrap;\n",
       "}\n",
       "</style>\n",
       "<small>shape: (20_200, 2)</small><table border=\"1\" class=\"dataframe\"><thead><tr><th>pos</th><th>score</th></tr><tr><td>i64</td><td>i8</td></tr></thead><tbody><tr><td>0</td><td>2</td></tr><tr><td>1</td><td>19</td></tr><tr><td>2</td><td>33</td></tr><tr><td>3</td><td>35</td></tr><tr><td>4</td><td>37</td></tr><tr><td>&hellip;</td><td>&hellip;</td></tr><tr><td>96</td><td>35</td></tr><tr><td>97</td><td>32</td></tr><tr><td>98</td><td>35</td></tr><tr><td>99</td><td>35</td></tr><tr><td>100</td><td>33</td></tr></tbody></table></div>"
      ],
      "text/plain": [
       "shape: (20_200, 2)\n",
       "┌─────┬───────┐\n",
       "│ pos ┆ score │\n",
       "│ --- ┆ ---   │\n",
       "│ i64 ┆ i8    │\n",
       "╞═════╪═══════╡\n",
       "│ 0   ┆ 2     │\n",
       "│ 1   ┆ 19    │\n",
       "│ 2   ┆ 33    │\n",
       "│ 3   ┆ 35    │\n",
       "│ 4   ┆ 37    │\n",
       "│ …   ┆ …     │\n",
       "│ 96  ┆ 35    │\n",
       "│ 97  ┆ 32    │\n",
       "│ 98  ┆ 35    │\n",
       "│ 99  ┆ 35    │\n",
       "│ 100 ┆ 33    │\n",
       "└─────┴───────┘"
      ]
     },
     "execution_count": 7,
     "metadata": {},
     "output_type": "execute_result"
    }
   ],
   "source": [
    "a_lazyframe = pb.read_fastq(\"./example.fastq\")\n",
    "a_dataframe = a_lazyframe.collect()\n",
    "print(type(a_dataframe))\n",
    "pb.base_sequence_quality(a_dataframe)"
   ]
  },
  {
   "cell_type": "markdown",
   "id": "ddf5da9d",
   "metadata": {},
   "source": [
    "#### Usage example - `pandas.core.frame.DataFrame` object"
   ]
  },
  {
   "cell_type": "code",
   "execution_count": 8,
   "id": "56817174",
   "metadata": {},
   "outputs": [
    {
     "name": "stderr",
     "output_type": "stream",
     "text": [
      "INFO:polars_bio:Table: example registered for path: ./example.fastq\n",
      "200rows [00:00, 91638.72rows/s]"
     ]
    },
    {
     "name": "stdout",
     "output_type": "stream",
     "text": [
      "<class 'pandas.core.frame.DataFrame'>\n"
     ]
    },
    {
     "name": "stderr",
     "output_type": "stream",
     "text": [
      "\n"
     ]
    },
    {
     "data": {
      "text/html": [
       "<div><style>\n",
       ".dataframe > thead > tr,\n",
       ".dataframe > tbody > tr {\n",
       "  text-align: right;\n",
       "  white-space: pre-wrap;\n",
       "}\n",
       "</style>\n",
       "<small>shape: (20_200, 2)</small><table border=\"1\" class=\"dataframe\"><thead><tr><th>pos</th><th>score</th></tr><tr><td>i64</td><td>i8</td></tr></thead><tbody><tr><td>0</td><td>2</td></tr><tr><td>1</td><td>19</td></tr><tr><td>2</td><td>33</td></tr><tr><td>3</td><td>35</td></tr><tr><td>4</td><td>37</td></tr><tr><td>&hellip;</td><td>&hellip;</td></tr><tr><td>96</td><td>35</td></tr><tr><td>97</td><td>32</td></tr><tr><td>98</td><td>35</td></tr><tr><td>99</td><td>35</td></tr><tr><td>100</td><td>33</td></tr></tbody></table></div>"
      ],
      "text/plain": [
       "shape: (20_200, 2)\n",
       "┌─────┬───────┐\n",
       "│ pos ┆ score │\n",
       "│ --- ┆ ---   │\n",
       "│ i64 ┆ i8    │\n",
       "╞═════╪═══════╡\n",
       "│ 0   ┆ 2     │\n",
       "│ 1   ┆ 19    │\n",
       "│ 2   ┆ 33    │\n",
       "│ 3   ┆ 35    │\n",
       "│ 4   ┆ 37    │\n",
       "│ …   ┆ …     │\n",
       "│ 96  ┆ 35    │\n",
       "│ 97  ┆ 32    │\n",
       "│ 98  ┆ 35    │\n",
       "│ 99  ┆ 35    │\n",
       "│ 100 ┆ 33    │\n",
       "└─────┴───────┘"
      ]
     },
     "execution_count": 8,
     "metadata": {},
     "output_type": "execute_result"
    }
   ],
   "source": [
    "a_lazyframe = pb.read_fastq(\"./example.fastq\")\n",
    "a_pandas_dataframe = a_lazyframe.collect().to_pandas()\n",
    "print(type(a_pandas_dataframe))\n",
    "pb.base_sequence_quality(a_pandas_dataframe)"
   ]
  }
 ],
 "metadata": {
  "kernelspec": {
   "display_name": "3.12.9",
   "language": "python",
   "name": "python3"
  },
  "language_info": {
   "codemirror_mode": {
    "name": "ipython",
    "version": 3
   },
   "file_extension": ".py",
   "mimetype": "text/x-python",
   "name": "python",
   "nbconvert_exporter": "python",
   "pygments_lexer": "ipython3",
   "version": "3.12.9"
  }
 },
 "nbformat": 4,
 "nbformat_minor": 5
}
