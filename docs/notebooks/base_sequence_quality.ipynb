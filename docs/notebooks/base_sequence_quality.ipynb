{
 "cells": [
  {
   "cell_type": "markdown",
   "id": "83d7ccd7",
   "metadata": {},
   "source": [
    "### Import dependencies"
   ]
  },
  {
   "cell_type": "code",
   "execution_count": 1,
   "id": "58b40aa6",
   "metadata": {},
   "outputs": [
    {
     "name": "stderr",
     "output_type": "stream",
     "text": [
      "/home/user/.pyenv/versions/3.12.9/lib/python3.12/site-packages/tqdm/auto.py:21: TqdmWarning: IProgress not found. Please update jupyter and ipywidgets. See https://ipywidgets.readthedocs.io/en/stable/user_install.html\n",
      "  from .autonotebook import tqdm as notebook_tqdm\n",
      "INFO:polars_bio:Creating BioSessionContext\n"
     ]
    }
   ],
   "source": [
    "import polars_bio as pb\n",
    "import pandas as pd"
   ]
  },
  {
   "cell_type": "markdown",
   "id": "2e29cd0a",
   "metadata": {},
   "source": [
    "### Usage examples"
   ]
  },
  {
   "cell_type": "markdown",
   "id": "b238193d",
   "metadata": {},
   "source": [
    "#### Usage example - .fastq file"
   ]
  },
  {
   "cell_type": "code",
   "execution_count": 2,
   "id": "0420c240",
   "metadata": {},
   "outputs": [
    {
     "name": "stdout",
     "output_type": "stream",
     "text": [
      "     pos     avg         q1     median         q3      lower      upper\n",
      "0     47  37.665  37.535714  39.921053  41.060185  32.249008  46.346892\n",
      "1     38  37.640  37.964286  40.067308  41.024038  33.374657  45.613668\n",
      "2     65  35.995  35.190000  37.433333  39.810000  28.260000  46.740000\n",
      "3      3  35.690  35.483333  37.208661  37.600394  32.307743  40.775984\n",
      "4     41  37.870  37.678571  40.116071  41.004902  32.689076  45.994398\n",
      "..   ...     ...        ...        ...        ...        ...        ...\n",
      "96    42  37.780  37.583333  40.139344  40.954918  32.525956  46.012295\n",
      "97    43  37.775  38.114583  40.126866  40.869403  33.982354  45.001632\n",
      "98    15  38.725  38.226190  40.352459  41.168033  33.813427  45.580796\n",
      "99    46  37.790  37.479167  39.975000  41.042453  32.134237  46.387382\n",
      "100   24  38.265  38.397059  40.095745  41.125000  34.305147  45.216912\n",
      "\n",
      "[101 rows x 7 columns]\n"
     ]
    }
   ],
   "source": [
    "result = pb.base_sequence_quality(\"example.fastq\", output_type=\"pandas.DataFrame\", target_partitions=2)\n",
    "print(result)"
   ]
  },
  {
   "cell_type": "markdown",
   "id": "9886c394",
   "metadata": {},
   "source": [
    "#### Usage example - .csv file"
   ]
  },
  {
   "cell_type": "code",
   "execution_count": 3,
   "id": "66c3af24",
   "metadata": {},
   "outputs": [
    {
     "data": {
      "text/html": [
       "<div><style>\n",
       ".dataframe > thead > tr,\n",
       ".dataframe > tbody > tr {\n",
       "  text-align: right;\n",
       "  white-space: pre-wrap;\n",
       "}\n",
       "</style>\n",
       "<small>shape: (101, 7)</small><table border=\"1\" class=\"dataframe\"><thead><tr><th>pos</th><th>avg</th><th>q1</th><th>median</th><th>q3</th><th>lower</th><th>upper</th></tr><tr><td>u64</td><td>f64</td><td>f64</td><td>f64</td><td>f64</td><td>f64</td><td>f64</td></tr></thead><tbody><tr><td>47</td><td>37.665</td><td>37.535714</td><td>39.921053</td><td>41.060185</td><td>32.249008</td><td>46.346892</td></tr><tr><td>90</td><td>32.275</td><td>33.183333</td><td>34.986842</td><td>35.63961</td><td>29.498918</td><td>39.324026</td></tr><tr><td>26</td><td>37.855</td><td>38.028846</td><td>40.078947</td><td>40.951754</td><td>33.644484</td><td>45.336117</td></tr><tr><td>7</td><td>35.4</td><td>35.465909</td><td>36.90625</td><td>37.487374</td><td>32.433712</td><td>40.519571</td></tr><tr><td>3</td><td>35.69</td><td>35.483333</td><td>37.208661</td><td>37.600394</td><td>32.307743</td><td>40.775984</td></tr><tr><td>&hellip;</td><td>&hellip;</td><td>&hellip;</td><td>&hellip;</td><td>&hellip;</td><td>&hellip;</td><td>&hellip;</td></tr><tr><td>19</td><td>38.425</td><td>38.2375</td><td>40.238462</td><td>41.004902</td><td>34.086397</td><td>45.156005</td></tr><tr><td>94</td><td>30.775</td><td>32.057692</td><td>34.651515</td><td>35.51</td><td>26.879231</td><td>40.688462</td></tr><tr><td>17</td><td>38.505</td><td>38.125</td><td>40.127451</td><td>41.09375</td><td>33.671875</td><td>45.546875</td></tr><tr><td>79</td><td>32.46</td><td>31.96875</td><td>35.205357</td><td>36.4375</td><td>25.265625</td><td>43.140625</td></tr><tr><td>41</td><td>37.87</td><td>37.678571</td><td>40.116071</td><td>41.004902</td><td>32.689076</td><td>45.994398</td></tr></tbody></table></div>"
      ],
      "text/plain": [
       "shape: (101, 7)\n",
       "┌─────┬────────┬───────────┬───────────┬───────────┬───────────┬───────────┐\n",
       "│ pos ┆ avg    ┆ q1        ┆ median    ┆ q3        ┆ lower     ┆ upper     │\n",
       "│ --- ┆ ---    ┆ ---       ┆ ---       ┆ ---       ┆ ---       ┆ ---       │\n",
       "│ u64 ┆ f64    ┆ f64       ┆ f64       ┆ f64       ┆ f64       ┆ f64       │\n",
       "╞═════╪════════╪═══════════╪═══════════╪═══════════╪═══════════╪═══════════╡\n",
       "│ 47  ┆ 37.665 ┆ 37.535714 ┆ 39.921053 ┆ 41.060185 ┆ 32.249008 ┆ 46.346892 │\n",
       "│ 90  ┆ 32.275 ┆ 33.183333 ┆ 34.986842 ┆ 35.63961  ┆ 29.498918 ┆ 39.324026 │\n",
       "│ 26  ┆ 37.855 ┆ 38.028846 ┆ 40.078947 ┆ 40.951754 ┆ 33.644484 ┆ 45.336117 │\n",
       "│ 7   ┆ 35.4   ┆ 35.465909 ┆ 36.90625  ┆ 37.487374 ┆ 32.433712 ┆ 40.519571 │\n",
       "│ 3   ┆ 35.69  ┆ 35.483333 ┆ 37.208661 ┆ 37.600394 ┆ 32.307743 ┆ 40.775984 │\n",
       "│ …   ┆ …      ┆ …         ┆ …         ┆ …         ┆ …         ┆ …         │\n",
       "│ 19  ┆ 38.425 ┆ 38.2375   ┆ 40.238462 ┆ 41.004902 ┆ 34.086397 ┆ 45.156005 │\n",
       "│ 94  ┆ 30.775 ┆ 32.057692 ┆ 34.651515 ┆ 35.51     ┆ 26.879231 ┆ 40.688462 │\n",
       "│ 17  ┆ 38.505 ┆ 38.125    ┆ 40.127451 ┆ 41.09375  ┆ 33.671875 ┆ 45.546875 │\n",
       "│ 79  ┆ 32.46  ┆ 31.96875  ┆ 35.205357 ┆ 36.4375   ┆ 25.265625 ┆ 43.140625 │\n",
       "│ 41  ┆ 37.87  ┆ 37.678571 ┆ 40.116071 ┆ 41.004902 ┆ 32.689076 ┆ 45.994398 │\n",
       "└─────┴────────┴───────────┴───────────┴───────────┴───────────┴───────────┘"
      ]
     },
     "execution_count": 3,
     "metadata": {},
     "output_type": "execute_result"
    }
   ],
   "source": [
    "pb.base_sequence_quality(\"example.csv\")"
   ]
  },
  {
   "cell_type": "markdown",
   "id": "5ab1da41",
   "metadata": {},
   "source": [
    "#### Usage example - .parquet file"
   ]
  },
  {
   "cell_type": "code",
   "execution_count": 4,
   "id": "a2cb9c97",
   "metadata": {},
   "outputs": [
    {
     "data": {
      "text/html": [
       "<div><style>\n",
       ".dataframe > thead > tr,\n",
       ".dataframe > tbody > tr {\n",
       "  text-align: right;\n",
       "  white-space: pre-wrap;\n",
       "}\n",
       "</style>\n",
       "<small>shape: (101, 7)</small><table border=\"1\" class=\"dataframe\"><thead><tr><th>pos</th><th>avg</th><th>q1</th><th>median</th><th>q3</th><th>lower</th><th>upper</th></tr><tr><td>u64</td><td>f64</td><td>f64</td><td>f64</td><td>f64</td><td>f64</td><td>f64</td></tr></thead><tbody><tr><td>44</td><td>37.565</td><td>37.71875</td><td>40.133929</td><td>41.024038</td><td>32.760817</td><td>45.981971</td></tr><tr><td>27</td><td>38.44</td><td>38.234375</td><td>40.27</td><td>41.207031</td><td>33.775391</td><td>45.666016</td></tr><tr><td>72</td><td>33.265</td><td>33.861111</td><td>35.6875</td><td>37.923913</td><td>27.766908</td><td>44.018116</td></tr><tr><td>86</td><td>31.815</td><td>33.365385</td><td>35.132911</td><td>35.762658</td><td>29.769474</td><td>39.358569</td></tr><tr><td>90</td><td>32.275</td><td>33.183333</td><td>34.986842</td><td>35.63961</td><td>29.498918</td><td>39.324026</td></tr><tr><td>&hellip;</td><td>&hellip;</td><td>&hellip;</td><td>&hellip;</td><td>&hellip;</td><td>&hellip;</td><td>&hellip;</td></tr><tr><td>34</td><td>38.205</td><td>37.979167</td><td>40.159574</td><td>41.168033</td><td>33.195867</td><td>45.951332</td></tr><tr><td>84</td><td>32.415</td><td>33.25</td><td>35.182432</td><td>35.85473</td><td>29.342905</td><td>39.761824</td></tr><tr><td>49</td><td>37.21</td><td>36.678571</td><td>39.645833</td><td>40.763889</td><td>30.550595</td><td>46.891865</td></tr><tr><td>63</td><td>36.25</td><td>35.215909</td><td>38.026316</td><td>40.275</td><td>27.627273</td><td>47.863636</td></tr><tr><td>80</td><td>32.61</td><td>32.625</td><td>35.289474</td><td>36.420455</td><td>26.931818</td><td>42.113636</td></tr></tbody></table></div>"
      ],
      "text/plain": [
       "shape: (101, 7)\n",
       "┌─────┬────────┬───────────┬───────────┬───────────┬───────────┬───────────┐\n",
       "│ pos ┆ avg    ┆ q1        ┆ median    ┆ q3        ┆ lower     ┆ upper     │\n",
       "│ --- ┆ ---    ┆ ---       ┆ ---       ┆ ---       ┆ ---       ┆ ---       │\n",
       "│ u64 ┆ f64    ┆ f64       ┆ f64       ┆ f64       ┆ f64       ┆ f64       │\n",
       "╞═════╪════════╪═══════════╪═══════════╪═══════════╪═══════════╪═══════════╡\n",
       "│ 44  ┆ 37.565 ┆ 37.71875  ┆ 40.133929 ┆ 41.024038 ┆ 32.760817 ┆ 45.981971 │\n",
       "│ 27  ┆ 38.44  ┆ 38.234375 ┆ 40.27     ┆ 41.207031 ┆ 33.775391 ┆ 45.666016 │\n",
       "│ 72  ┆ 33.265 ┆ 33.861111 ┆ 35.6875   ┆ 37.923913 ┆ 27.766908 ┆ 44.018116 │\n",
       "│ 86  ┆ 31.815 ┆ 33.365385 ┆ 35.132911 ┆ 35.762658 ┆ 29.769474 ┆ 39.358569 │\n",
       "│ 90  ┆ 32.275 ┆ 33.183333 ┆ 34.986842 ┆ 35.63961  ┆ 29.498918 ┆ 39.324026 │\n",
       "│ …   ┆ …      ┆ …         ┆ …         ┆ …         ┆ …         ┆ …         │\n",
       "│ 34  ┆ 38.205 ┆ 37.979167 ┆ 40.159574 ┆ 41.168033 ┆ 33.195867 ┆ 45.951332 │\n",
       "│ 84  ┆ 32.415 ┆ 33.25     ┆ 35.182432 ┆ 35.85473  ┆ 29.342905 ┆ 39.761824 │\n",
       "│ 49  ┆ 37.21  ┆ 36.678571 ┆ 39.645833 ┆ 40.763889 ┆ 30.550595 ┆ 46.891865 │\n",
       "│ 63  ┆ 36.25  ┆ 35.215909 ┆ 38.026316 ┆ 40.275    ┆ 27.627273 ┆ 47.863636 │\n",
       "│ 80  ┆ 32.61  ┆ 32.625    ┆ 35.289474 ┆ 36.420455 ┆ 26.931818 ┆ 42.113636 │\n",
       "└─────┴────────┴───────────┴───────────┴───────────┴───────────┴───────────┘"
      ]
     },
     "execution_count": 4,
     "metadata": {},
     "output_type": "execute_result"
    }
   ],
   "source": [
    "pb.base_sequence_quality(\"example.parquet\")"
   ]
  },
  {
   "cell_type": "markdown",
   "id": "b519abbd",
   "metadata": {},
   "source": [
    "#### Usage example - `polars.lazyframe.frame.LazyFrame` object"
   ]
  },
  {
   "cell_type": "code",
   "execution_count": 5,
   "id": "1899ca01",
   "metadata": {},
   "outputs": [
    {
     "name": "stderr",
     "output_type": "stream",
     "text": [
      "INFO:polars_bio:Table: example registered for path: ./example.fastq\n"
     ]
    },
    {
     "name": "stdout",
     "output_type": "stream",
     "text": [
      "<class 'polars.lazyframe.frame.LazyFrame'>\n"
     ]
    },
    {
     "name": "stderr",
     "output_type": "stream",
     "text": [
      "200rows [00:00, 62156.25rows/s]\n"
     ]
    },
    {
     "data": {
      "text/html": [
       "<div><style>\n",
       ".dataframe > thead > tr,\n",
       ".dataframe > tbody > tr {\n",
       "  text-align: right;\n",
       "  white-space: pre-wrap;\n",
       "}\n",
       "</style>\n",
       "<small>shape: (101, 7)</small><table border=\"1\" class=\"dataframe\"><thead><tr><th>pos</th><th>avg</th><th>q1</th><th>median</th><th>q3</th><th>lower</th><th>upper</th></tr><tr><td>u64</td><td>f64</td><td>f64</td><td>f64</td><td>f64</td><td>f64</td><td>f64</td></tr></thead><tbody><tr><td>64</td><td>36.095</td><td>35.064815</td><td>37.7</td><td>40.145833</td><td>27.443287</td><td>47.767361</td></tr><tr><td>4</td><td>35.68</td><td>35.552885</td><td>37.208661</td><td>37.600394</td><td>32.481621</td><td>40.671657</td></tr><tr><td>68</td><td>35.91</td><td>34.940476</td><td>36.931818</td><td>39.539474</td><td>28.04198</td><td>46.43797</td></tr><tr><td>72</td><td>33.265</td><td>33.861111</td><td>35.6875</td><td>37.923913</td><td>27.766908</td><td>44.018116</td></tr><tr><td>58</td><td>36.77</td><td>35.338235</td><td>38.90625</td><td>40.717105</td><td>27.26993</td><td>48.78541</td></tr><tr><td>&hellip;</td><td>&hellip;</td><td>&hellip;</td><td>&hellip;</td><td>&hellip;</td><td>&hellip;</td><td>&hellip;</td></tr><tr><td>26</td><td>37.855</td><td>38.028846</td><td>40.078947</td><td>40.951754</td><td>33.644484</td><td>45.336117</td></tr><tr><td>9</td><td>37.36</td><td>37.34375</td><td>39.014706</td><td>39.502451</td><td>34.105699</td><td>42.740502</td></tr><tr><td>71</td><td>33.005</td><td>33.791667</td><td>35.851351</td><td>38.583333</td><td>26.604167</td><td>45.770833</td></tr><tr><td>11</td><td>37.71</td><td>37.784483</td><td>39.094595</td><td>39.542793</td><td>35.147018</td><td>42.180258</td></tr><tr><td>24</td><td>38.265</td><td>38.397059</td><td>40.095745</td><td>41.125</td><td>34.305147</td><td>45.216912</td></tr></tbody></table></div>"
      ],
      "text/plain": [
       "shape: (101, 7)\n",
       "┌─────┬────────┬───────────┬───────────┬───────────┬───────────┬───────────┐\n",
       "│ pos ┆ avg    ┆ q1        ┆ median    ┆ q3        ┆ lower     ┆ upper     │\n",
       "│ --- ┆ ---    ┆ ---       ┆ ---       ┆ ---       ┆ ---       ┆ ---       │\n",
       "│ u64 ┆ f64    ┆ f64       ┆ f64       ┆ f64       ┆ f64       ┆ f64       │\n",
       "╞═════╪════════╪═══════════╪═══════════╪═══════════╪═══════════╪═══════════╡\n",
       "│ 64  ┆ 36.095 ┆ 35.064815 ┆ 37.7      ┆ 40.145833 ┆ 27.443287 ┆ 47.767361 │\n",
       "│ 4   ┆ 35.68  ┆ 35.552885 ┆ 37.208661 ┆ 37.600394 ┆ 32.481621 ┆ 40.671657 │\n",
       "│ 68  ┆ 35.91  ┆ 34.940476 ┆ 36.931818 ┆ 39.539474 ┆ 28.04198  ┆ 46.43797  │\n",
       "│ 72  ┆ 33.265 ┆ 33.861111 ┆ 35.6875   ┆ 37.923913 ┆ 27.766908 ┆ 44.018116 │\n",
       "│ 58  ┆ 36.77  ┆ 35.338235 ┆ 38.90625  ┆ 40.717105 ┆ 27.26993  ┆ 48.78541  │\n",
       "│ …   ┆ …      ┆ …         ┆ …         ┆ …         ┆ …         ┆ …         │\n",
       "│ 26  ┆ 37.855 ┆ 38.028846 ┆ 40.078947 ┆ 40.951754 ┆ 33.644484 ┆ 45.336117 │\n",
       "│ 9   ┆ 37.36  ┆ 37.34375  ┆ 39.014706 ┆ 39.502451 ┆ 34.105699 ┆ 42.740502 │\n",
       "│ 71  ┆ 33.005 ┆ 33.791667 ┆ 35.851351 ┆ 38.583333 ┆ 26.604167 ┆ 45.770833 │\n",
       "│ 11  ┆ 37.71  ┆ 37.784483 ┆ 39.094595 ┆ 39.542793 ┆ 35.147018 ┆ 42.180258 │\n",
       "│ 24  ┆ 38.265 ┆ 38.397059 ┆ 40.095745 ┆ 41.125    ┆ 34.305147 ┆ 45.216912 │\n",
       "└─────┴────────┴───────────┴───────────┴───────────┴───────────┴───────────┘"
      ]
     },
     "execution_count": 5,
     "metadata": {},
     "output_type": "execute_result"
    }
   ],
   "source": [
    "a_lazyframe = pb.read_fastq(\"./example.fastq\")\n",
    "print(type(a_lazyframe))\n",
    "pb.base_sequence_quality(a_lazyframe)"
   ]
  },
  {
   "cell_type": "markdown",
   "id": "cdb4aad6",
   "metadata": {},
   "source": [
    "#### Usage example - `polars.dataframe.frame.DataFrame` object"
   ]
  },
  {
   "cell_type": "code",
   "execution_count": 6,
   "id": "7830b8aa",
   "metadata": {},
   "outputs": [
    {
     "name": "stderr",
     "output_type": "stream",
     "text": [
      "INFO:polars_bio:Table: example registered for path: ./example.fastq\n",
      "200rows [00:00, 66234.57rows/s]"
     ]
    },
    {
     "name": "stdout",
     "output_type": "stream",
     "text": [
      "<class 'polars.dataframe.frame.DataFrame'>\n"
     ]
    },
    {
     "name": "stderr",
     "output_type": "stream",
     "text": [
      "\n"
     ]
    },
    {
     "data": {
      "text/html": [
       "<div><style>\n",
       ".dataframe > thead > tr,\n",
       ".dataframe > tbody > tr {\n",
       "  text-align: right;\n",
       "  white-space: pre-wrap;\n",
       "}\n",
       "</style>\n",
       "<small>shape: (101, 7)</small><table border=\"1\" class=\"dataframe\"><thead><tr><th>pos</th><th>avg</th><th>q1</th><th>median</th><th>q3</th><th>lower</th><th>upper</th></tr><tr><td>u64</td><td>f64</td><td>f64</td><td>f64</td><td>f64</td><td>f64</td><td>f64</td></tr></thead><tbody><tr><td>3</td><td>35.69</td><td>35.483333</td><td>37.208661</td><td>37.600394</td><td>32.307743</td><td>40.775984</td></tr><tr><td>29</td><td>38.595</td><td>38.35</td><td>40.258333</td><td>41.09375</td><td>34.234375</td><td>45.209375</td></tr><tr><td>44</td><td>37.565</td><td>37.71875</td><td>40.133929</td><td>41.024038</td><td>32.760817</td><td>45.981971</td></tr><tr><td>76</td><td>30.265</td><td>30.916667</td><td>35.414894</td><td>37.073529</td><td>21.681373</td><td>46.308824</td></tr><tr><td>67</td><td>35.96</td><td>34.723684</td><td>36.972222</td><td>39.81</td><td>27.094211</td><td>47.439474</td></tr><tr><td>&hellip;</td><td>&hellip;</td><td>&hellip;</td><td>&hellip;</td><td>&hellip;</td><td>&hellip;</td><td>&hellip;</td></tr><tr><td>15</td><td>38.725</td><td>38.22619</td><td>40.352459</td><td>41.168033</td><td>33.813427</td><td>45.580796</td></tr><tr><td>26</td><td>37.855</td><td>38.028846</td><td>40.078947</td><td>40.951754</td><td>33.644484</td><td>45.336117</td></tr><tr><td>39</td><td>37.895</td><td>38.027778</td><td>40.125</td><td>40.856618</td><td>33.784518</td><td>45.099877</td></tr><tr><td>97</td><td>30.67</td><td>31.575</td><td>34.890625</td><td>35.557229</td><td>25.601657</td><td>41.530572</td></tr><tr><td>51</td><td>37.53</td><td>36.71875</td><td>39.447368</td><td>41.024038</td><td>30.260817</td><td>47.481971</td></tr></tbody></table></div>"
      ],
      "text/plain": [
       "shape: (101, 7)\n",
       "┌─────┬────────┬───────────┬───────────┬───────────┬───────────┬───────────┐\n",
       "│ pos ┆ avg    ┆ q1        ┆ median    ┆ q3        ┆ lower     ┆ upper     │\n",
       "│ --- ┆ ---    ┆ ---       ┆ ---       ┆ ---       ┆ ---       ┆ ---       │\n",
       "│ u64 ┆ f64    ┆ f64       ┆ f64       ┆ f64       ┆ f64       ┆ f64       │\n",
       "╞═════╪════════╪═══════════╪═══════════╪═══════════╪═══════════╪═══════════╡\n",
       "│ 3   ┆ 35.69  ┆ 35.483333 ┆ 37.208661 ┆ 37.600394 ┆ 32.307743 ┆ 40.775984 │\n",
       "│ 29  ┆ 38.595 ┆ 38.35     ┆ 40.258333 ┆ 41.09375  ┆ 34.234375 ┆ 45.209375 │\n",
       "│ 44  ┆ 37.565 ┆ 37.71875  ┆ 40.133929 ┆ 41.024038 ┆ 32.760817 ┆ 45.981971 │\n",
       "│ 76  ┆ 30.265 ┆ 30.916667 ┆ 35.414894 ┆ 37.073529 ┆ 21.681373 ┆ 46.308824 │\n",
       "│ 67  ┆ 35.96  ┆ 34.723684 ┆ 36.972222 ┆ 39.81     ┆ 27.094211 ┆ 47.439474 │\n",
       "│ …   ┆ …      ┆ …         ┆ …         ┆ …         ┆ …         ┆ …         │\n",
       "│ 15  ┆ 38.725 ┆ 38.22619  ┆ 40.352459 ┆ 41.168033 ┆ 33.813427 ┆ 45.580796 │\n",
       "│ 26  ┆ 37.855 ┆ 38.028846 ┆ 40.078947 ┆ 40.951754 ┆ 33.644484 ┆ 45.336117 │\n",
       "│ 39  ┆ 37.895 ┆ 38.027778 ┆ 40.125    ┆ 40.856618 ┆ 33.784518 ┆ 45.099877 │\n",
       "│ 97  ┆ 30.67  ┆ 31.575    ┆ 34.890625 ┆ 35.557229 ┆ 25.601657 ┆ 41.530572 │\n",
       "│ 51  ┆ 37.53  ┆ 36.71875  ┆ 39.447368 ┆ 41.024038 ┆ 30.260817 ┆ 47.481971 │\n",
       "└─────┴────────┴───────────┴───────────┴───────────┴───────────┴───────────┘"
      ]
     },
     "execution_count": 6,
     "metadata": {},
     "output_type": "execute_result"
    }
   ],
   "source": [
    "a_lazyframe = pb.read_fastq(\"./example.fastq\")\n",
    "a_dataframe = a_lazyframe.collect()\n",
    "print(type(a_dataframe))\n",
    "pb.base_sequence_quality(a_dataframe)"
   ]
  },
  {
   "cell_type": "markdown",
   "id": "ddf5da9d",
   "metadata": {},
   "source": [
    "#### Usage example - `pandas.core.frame.DataFrame` object"
   ]
  },
  {
   "cell_type": "code",
   "execution_count": 7,
   "id": "56817174",
   "metadata": {},
   "outputs": [
    {
     "name": "stderr",
     "output_type": "stream",
     "text": [
      "INFO:polars_bio:Table: example registered for path: ./example.fastq\n",
      "200rows [00:00, 91799.17rows/s]"
     ]
    },
    {
     "name": "stdout",
     "output_type": "stream",
     "text": [
      "<class 'pandas.core.frame.DataFrame'>\n"
     ]
    },
    {
     "name": "stderr",
     "output_type": "stream",
     "text": [
      "\n"
     ]
    },
    {
     "data": {
      "text/html": [
       "<div><style>\n",
       ".dataframe > thead > tr,\n",
       ".dataframe > tbody > tr {\n",
       "  text-align: right;\n",
       "  white-space: pre-wrap;\n",
       "}\n",
       "</style>\n",
       "<small>shape: (101, 7)</small><table border=\"1\" class=\"dataframe\"><thead><tr><th>pos</th><th>avg</th><th>q1</th><th>median</th><th>q3</th><th>lower</th><th>upper</th></tr><tr><td>u64</td><td>f64</td><td>f64</td><td>f64</td><td>f64</td><td>f64</td><td>f64</td></tr></thead><tbody><tr><td>71</td><td>33.005</td><td>33.791667</td><td>35.851351</td><td>38.583333</td><td>26.604167</td><td>45.770833</td></tr><tr><td>74</td><td>30.83</td><td>32.75</td><td>35.532609</td><td>37.485294</td><td>25.647059</td><td>44.588235</td></tr><tr><td>45</td><td>37.45</td><td>36.59375</td><td>40.071429</td><td>41.077273</td><td>29.868466</td><td>47.802557</td></tr><tr><td>49</td><td>37.21</td><td>36.678571</td><td>39.645833</td><td>40.763889</td><td>30.550595</td><td>46.891865</td></tr><tr><td>75</td><td>31.06</td><td>30.958333</td><td>35.418367</td><td>37.283333</td><td>21.470833</td><td>46.770833</td></tr><tr><td>&hellip;</td><td>&hellip;</td><td>&hellip;</td><td>&hellip;</td><td>&hellip;</td><td>&hellip;</td><td>&hellip;</td></tr><tr><td>50</td><td>37.425</td><td>35.975</td><td>39.770833</td><td>41.060185</td><td>28.347222</td><td>48.687963</td></tr><tr><td>3</td><td>35.69</td><td>35.483333</td><td>37.208661</td><td>37.600394</td><td>32.307743</td><td>40.775984</td></tr><tr><td>0</td><td>30.135</td><td>31.213636</td><td>33.722222</td><td>34.482143</td><td>26.310877</td><td>39.384903</td></tr><tr><td>37</td><td>38.0</td><td>38.215278</td><td>40.080357</td><td>40.96875</td><td>34.085069</td><td>45.098958</td></tr><tr><td>65</td><td>35.995</td><td>35.19</td><td>37.433333</td><td>39.81</td><td>28.26</td><td>46.74</td></tr></tbody></table></div>"
      ],
      "text/plain": [
       "shape: (101, 7)\n",
       "┌─────┬────────┬───────────┬───────────┬───────────┬───────────┬───────────┐\n",
       "│ pos ┆ avg    ┆ q1        ┆ median    ┆ q3        ┆ lower     ┆ upper     │\n",
       "│ --- ┆ ---    ┆ ---       ┆ ---       ┆ ---       ┆ ---       ┆ ---       │\n",
       "│ u64 ┆ f64    ┆ f64       ┆ f64       ┆ f64       ┆ f64       ┆ f64       │\n",
       "╞═════╪════════╪═══════════╪═══════════╪═══════════╪═══════════╪═══════════╡\n",
       "│ 71  ┆ 33.005 ┆ 33.791667 ┆ 35.851351 ┆ 38.583333 ┆ 26.604167 ┆ 45.770833 │\n",
       "│ 74  ┆ 30.83  ┆ 32.75     ┆ 35.532609 ┆ 37.485294 ┆ 25.647059 ┆ 44.588235 │\n",
       "│ 45  ┆ 37.45  ┆ 36.59375  ┆ 40.071429 ┆ 41.077273 ┆ 29.868466 ┆ 47.802557 │\n",
       "│ 49  ┆ 37.21  ┆ 36.678571 ┆ 39.645833 ┆ 40.763889 ┆ 30.550595 ┆ 46.891865 │\n",
       "│ 75  ┆ 31.06  ┆ 30.958333 ┆ 35.418367 ┆ 37.283333 ┆ 21.470833 ┆ 46.770833 │\n",
       "│ …   ┆ …      ┆ …         ┆ …         ┆ …         ┆ …         ┆ …         │\n",
       "│ 50  ┆ 37.425 ┆ 35.975    ┆ 39.770833 ┆ 41.060185 ┆ 28.347222 ┆ 48.687963 │\n",
       "│ 3   ┆ 35.69  ┆ 35.483333 ┆ 37.208661 ┆ 37.600394 ┆ 32.307743 ┆ 40.775984 │\n",
       "│ 0   ┆ 30.135 ┆ 31.213636 ┆ 33.722222 ┆ 34.482143 ┆ 26.310877 ┆ 39.384903 │\n",
       "│ 37  ┆ 38.0   ┆ 38.215278 ┆ 40.080357 ┆ 40.96875  ┆ 34.085069 ┆ 45.098958 │\n",
       "│ 65  ┆ 35.995 ┆ 35.19     ┆ 37.433333 ┆ 39.81     ┆ 28.26     ┆ 46.74     │\n",
       "└─────┴────────┴───────────┴───────────┴───────────┴───────────┴───────────┘"
      ]
     },
     "execution_count": 7,
     "metadata": {},
     "output_type": "execute_result"
    }
   ],
   "source": [
    "a_lazyframe = pb.read_fastq(\"./example.fastq\")\n",
    "a_pandas_dataframe = a_lazyframe.collect().to_pandas()\n",
    "print(type(a_pandas_dataframe))\n",
    "pb.base_sequence_quality(a_pandas_dataframe)"
   ]
  }
 ],
 "metadata": {
  "kernelspec": {
   "display_name": "3.12.9",
   "language": "python",
   "name": "python3"
  },
  "language_info": {
   "codemirror_mode": {
    "name": "ipython",
    "version": 3
   },
   "file_extension": ".py",
   "mimetype": "text/x-python",
   "name": "python",
   "nbconvert_exporter": "python",
   "pygments_lexer": "ipython3",
   "version": "3.12.9"
  }
 },
 "nbformat": 4,
 "nbformat_minor": 5
}
