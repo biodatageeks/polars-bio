{
 "cells": [
  {
   "cell_type": "markdown",
   "id": "1e243d24",
   "metadata": {},
   "source": [
    "# Base Sequence Quality"
   ]
  },
  {
   "cell_type": "markdown",
   "id": "5a64264f",
   "metadata": {},
   "source": [
    "#### Import Dependencies"
   ]
  },
  {
   "cell_type": "code",
   "execution_count": 1,
   "id": "1d291568746eae4",
   "metadata": {},
   "outputs": [
    {
     "name": "stderr",
     "output_type": "stream",
     "text": [
      "INFO:polars_bio:Creating BioSessionContext\n"
     ]
    }
   ],
   "source": [
    "import polars_bio as pb\n",
    "import pandas as pd"
   ]
  },
  {
   "cell_type": "markdown",
   "id": "d2af03d2",
   "metadata": {},
   "source": [
    "#### Common"
   ]
  },
  {
   "cell_type": "markdown",
   "id": "8787c0b3",
   "metadata": {},
   "source": [
    "Load Tables"
   ]
  },
  {
   "cell_type": "code",
   "execution_count": 2,
   "id": "96215a56",
   "metadata": {},
   "outputs": [
    {
     "name": "stderr",
     "output_type": "stream",
     "text": [
      "INFO:polars_bio:Table: example registered for path: ./tests/data/base_quality/example.fastq\n",
      "INFO:polars_bio:Table: bench registered for path: ./tests/data/base_quality/bench.fastq\n"
     ]
    }
   ],
   "source": [
    "example_path = \"./tests/data/base_quality/example.fastq\"\n",
    "bench_path = \"./tests/data/base_quality/bench.fastq\"\n",
    "\n",
    "example_data = pb.read_fastq(example_path)\n",
    "bench_data = pb.read_fastq(bench_path)"
   ]
  },
  {
   "cell_type": "markdown",
   "id": "07f1f8f4",
   "metadata": {},
   "source": [
    "Set target partitions"
   ]
  },
  {
   "cell_type": "code",
   "execution_count": 3,
   "id": "6d4b8587",
   "metadata": {},
   "outputs": [],
   "source": [
    "pb.set_option(\"datafusion.execution.target_partitions\", \"8\")"
   ]
  },
  {
   "cell_type": "markdown",
   "id": "7f5865b9",
   "metadata": {},
   "source": [
    "### UDTF for Quality Histogram"
   ]
  },
  {
   "cell_type": "code",
   "execution_count": 8,
   "id": "92718863",
   "metadata": {},
   "outputs": [
    {
     "data": {
      "application/vnd.jupyter.widget-view+json": {
       "model_id": "8b71367187164d8780dbac83d3b1641b",
       "version_major": 2,
       "version_minor": 0
      },
      "text/plain": [
       "0rows [00:00, ?rows/s]"
      ]
     },
     "metadata": {},
     "output_type": "display_data"
    },
    {
     "name": "stdout",
     "output_type": "stream",
     "text": [
      "CPU times: user 17min 38s, sys: 1min 55s, total: 19min 34s\n",
      "Wall time: 1min 44s\n"
     ]
    },
    {
     "data": {
      "text/html": [
       "<div><style>\n",
       ".dataframe > thead > tr,\n",
       ".dataframe > tbody > tr {\n",
       "  text-align: right;\n",
       "  white-space: pre-wrap;\n",
       "}\n",
       "</style>\n",
       "<small>shape: (10, 2)</small><table border=\"1\" class=\"dataframe\"><thead><tr><th>position</th><th>avg</th></tr><tr><td>u64</td><td>f64</td></tr></thead><tbody><tr><td>91</td><td>94.0</td></tr><tr><td>87</td><td>94.0</td></tr><tr><td>74</td><td>94.0</td></tr><tr><td>26</td><td>94.0</td></tr><tr><td>90</td><td>94.0</td></tr><tr><td>88</td><td>94.0</td></tr><tr><td>49</td><td>94.0</td></tr><tr><td>1</td><td>94.0</td></tr><tr><td>84</td><td>94.0</td></tr><tr><td>86</td><td>94.0</td></tr></tbody></table></div>"
      ],
      "text/plain": [
       "shape: (10, 2)\n",
       "┌──────────┬──────┐\n",
       "│ position ┆ avg  │\n",
       "│ ---      ┆ ---  │\n",
       "│ u64      ┆ f64  │\n",
       "╞══════════╪══════╡\n",
       "│ 91       ┆ 94.0 │\n",
       "│ 87       ┆ 94.0 │\n",
       "│ 74       ┆ 94.0 │\n",
       "│ 26       ┆ 94.0 │\n",
       "│ 90       ┆ 94.0 │\n",
       "│ 88       ┆ 94.0 │\n",
       "│ 49       ┆ 94.0 │\n",
       "│ 1        ┆ 94.0 │\n",
       "│ 84       ┆ 94.0 │\n",
       "│ 86       ┆ 94.0 │\n",
       "└──────────┴──────┘"
      ]
     },
     "execution_count": 8,
     "metadata": {},
     "output_type": "execute_result"
    }
   ],
   "source": [
    "%time x = pb.sql(\"SELECT position, q.avg as avg FROM (SELECT position, quality_quartiles(score, count) as q FROM (SELECT * FROM quality_histogram('bench', 'quality_scores')) GROUP BY position)\").collect()\n",
    "x.limit(10)"
   ]
  },
  {
   "cell_type": "code",
   "execution_count": 5,
   "id": "c0b6ed07",
   "metadata": {},
   "outputs": [
    {
     "data": {
      "application/vnd.jupyter.widget-view+json": {
       "model_id": "13ae61f396a74f65b6b4e84160b3851d",
       "version_major": 2,
       "version_minor": 0
      },
      "text/plain": [
       "0rows [00:00, ?rows/s]"
      ]
     },
     "metadata": {},
     "output_type": "display_data"
    },
    {
     "data": {
      "text/html": [
       "<div><style>\n",
       ".dataframe > thead > tr,\n",
       ".dataframe > tbody > tr {\n",
       "  text-align: right;\n",
       "  white-space: pre-wrap;\n",
       "}\n",
       "</style>\n",
       "<small>shape: (10, 2)</small><table border=\"1\" class=\"dataframe\"><thead><tr><th>position</th><th>quartiles</th></tr><tr><td>u64</td><td>struct[1]</td></tr></thead><tbody><tr><td>84</td><td>{94.0}</td></tr><tr><td>55</td><td>{94.0}</td></tr><tr><td>42</td><td>{94.0}</td></tr><tr><td>81</td><td>{94.0}</td></tr><tr><td>24</td><td>{94.0}</td></tr><tr><td>53</td><td>{94.0}</td></tr><tr><td>44</td><td>{94.0}</td></tr><tr><td>62</td><td>{94.0}</td></tr><tr><td>19</td><td>{94.0}</td></tr><tr><td>86</td><td>{94.0}</td></tr></tbody></table></div>"
      ],
      "text/plain": [
       "shape: (10, 2)\n",
       "┌──────────┬───────────┐\n",
       "│ position ┆ quartiles │\n",
       "│ ---      ┆ ---       │\n",
       "│ u64      ┆ struct[1] │\n",
       "╞══════════╪═══════════╡\n",
       "│ 84       ┆ {94.0}    │\n",
       "│ 55       ┆ {94.0}    │\n",
       "│ 42       ┆ {94.0}    │\n",
       "│ 81       ┆ {94.0}    │\n",
       "│ 24       ┆ {94.0}    │\n",
       "│ 53       ┆ {94.0}    │\n",
       "│ 44       ┆ {94.0}    │\n",
       "│ 62       ┆ {94.0}    │\n",
       "│ 19       ┆ {94.0}    │\n",
       "│ 86       ┆ {94.0}    │\n",
       "└──────────┴───────────┘"
      ]
     },
     "execution_count": 5,
     "metadata": {},
     "output_type": "execute_result"
    }
   ],
   "source": [
    "x = pb.sql(\"SELECT position, quality_quartiles(score, count) as quartiles FROM (SELECT position, score, SUM(count) AS count FROM quality_histogram('example', 'quality_scores') GROUP BY position, score) GROUP BY position\").collect()\n",
    "x.limit(10)"
   ]
  },
  {
   "cell_type": "code",
   "execution_count": 6,
   "id": "bb69c9a0",
   "metadata": {},
   "outputs": [
    {
     "data": {
      "application/vnd.jupyter.widget-view+json": {
       "model_id": "7ad1963d1aa84e6fa6bb3fa68f29151a",
       "version_major": 2,
       "version_minor": 0
      },
      "text/plain": [
       "0rows [00:00, ?rows/s]"
      ]
     },
     "metadata": {},
     "output_type": "display_data"
    }
   ],
   "source": [
    "x = pb.sql(\"SELECT position, score, SUM(count) AS count FROM quality_histogram('example', 'quality_scores') GROUP BY position, score\").collect()"
   ]
  },
  {
   "cell_type": "code",
   "execution_count": 7,
   "id": "dde2ad0d",
   "metadata": {},
   "outputs": [
    {
     "data": {
      "text/plain": [
       "(1924,\n",
       " 202.0,\n",
       " 0.104989604989605,\n",
       " shape: (1_924, 3)\n",
       " ┌──────────┬───────┬───────┐\n",
       " │ position ┆ score ┆ count │\n",
       " │ ---      ┆ ---   ┆ ---   │\n",
       " │ u64      ┆ u8    ┆ u64   │\n",
       " ╞══════════╪═══════╪═══════╡\n",
       " │ 89       ┆ 2     ┆ 3     │\n",
       " │ 90       ┆ 2     ┆ 3     │\n",
       " │ 72       ┆ 2     ┆ 5     │\n",
       " │ 84       ┆ 2     ┆ 5     │\n",
       " │ 59       ┆ 2     ┆ 6     │\n",
       " │ …        ┆ …     ┆ …     │\n",
       " │ 16       ┆ 41    ┆ 62    │\n",
       " │ 33       ┆ 41    ┆ 63    │\n",
       " │ 27       ┆ 41    ┆ 64    │\n",
       " │ 25       ┆ 41    ┆ 64    │\n",
       " │ 23       ┆ 41    ┆ 65    │\n",
       " └──────────┴───────┴───────┘)"
      ]
     },
     "execution_count": 7,
     "metadata": {},
     "output_type": "execute_result"
    }
   ],
   "source": [
    "y = x[\"count\"].sum() / 100\n",
    "len(x), y, y / len(x), x.sort(\"count\").sort(\"score\")"
   ]
  },
  {
   "cell_type": "markdown",
   "id": "74405132",
   "metadata": {},
   "source": [
    "### Calculate for file"
   ]
  },
  {
   "cell_type": "code",
   "execution_count": null,
   "id": "af23ce84",
   "metadata": {},
   "outputs": [],
   "source": []
  },
  {
   "cell_type": "code",
   "execution_count": null,
   "id": "278cb3cd",
   "metadata": {},
   "outputs": [],
   "source": [
    "p = \"./tests/data/base_quality/example.fastq\"\n",
    "data = pb.read_fastq(p)\n",
    "result = pb.quality_udaf(data)\n",
    "print(result)"
   ]
  },
  {
   "cell_type": "markdown",
   "id": "9aa47309",
   "metadata": {},
   "source": [
    "### Benchmark"
   ]
  },
  {
   "cell_type": "markdown",
   "id": "938f5369",
   "metadata": {},
   "source": [
    "Prepare LazyDatraframe with sequences"
   ]
  },
  {
   "cell_type": "code",
   "execution_count": null,
   "id": "eb52d04a",
   "metadata": {},
   "outputs": [],
   "source": [
    "p = \"./tests/data/base_quality/bench.fastq\"\n",
    "data = pb.read_fastq(p)\n",
    "pb.set_option(\"datafusion.execution.target_partitions\", \"8\")"
   ]
  },
  {
   "cell_type": "markdown",
   "id": "2445ff62",
   "metadata": {},
   "source": [
    "Measure time"
   ]
  },
  {
   "cell_type": "code",
   "execution_count": null,
   "id": "56e699d1",
   "metadata": {},
   "outputs": [],
   "source": [
    "%time result = pb.quality_udaf(data)"
   ]
  },
  {
   "cell_type": "code",
   "execution_count": null,
   "id": "c94c6222",
   "metadata": {},
   "outputs": [],
   "source": [
    "%time data = data.collect()"
   ]
  },
  {
   "cell_type": "code",
   "execution_count": null,
   "id": "ece6d6f5",
   "metadata": {},
   "outputs": [],
   "source": [
    "result.limit(1)[\"pos\"]"
   ]
  }
 ],
 "metadata": {
  "kernelspec": {
   "display_name": "Python 3 (ipykernel)",
   "language": "python",
   "name": "python3"
  },
  "language_info": {
   "codemirror_mode": {
    "name": "ipython",
    "version": 3
   },
   "file_extension": ".py",
   "mimetype": "text/x-python",
   "name": "python",
   "nbconvert_exporter": "python",
   "pygments_lexer": "ipython3",
   "version": "3.12.3"
  }
 },
 "nbformat": 4,
 "nbformat_minor": 5
}
