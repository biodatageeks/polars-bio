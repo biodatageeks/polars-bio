{
 "cells": [
  {
   "cell_type": "markdown",
   "id": "1e243d24",
   "metadata": {},
   "source": [
    "# Base Sequence Quality"
   ]
  },
  {
   "cell_type": "markdown",
   "id": "5a64264f",
   "metadata": {},
   "source": [
    "#### Import Dependencies"
   ]
  },
  {
   "cell_type": "code",
   "execution_count": 1,
   "id": "1d291568746eae4",
   "metadata": {},
   "outputs": [
    {
     "name": "stderr",
     "output_type": "stream",
     "text": [
      "INFO:polars_bio:Creating BioSessionContext\n"
     ]
    }
   ],
   "source": [
    "from pathlib import Path\n",
    "import subprocess\n",
    "\n",
    "import pandas as pd\n",
    "import polars as pl\n",
    "import polars_bio as pb"
   ]
  },
  {
   "cell_type": "markdown",
   "id": "d2af03d2",
   "metadata": {},
   "source": [
    "#### Common"
   ]
  },
  {
   "cell_type": "markdown",
   "id": "8787c0b3",
   "metadata": {},
   "source": [
    "Load data"
   ]
  },
  {
   "cell_type": "code",
   "execution_count": 2,
   "id": "96215a56",
   "metadata": {},
   "outputs": [
    {
     "name": "stderr",
     "output_type": "stream",
     "text": [
      "INFO:polars_bio:Table: example registered for path: ../../tests/data/base_quality/example.fastq\n",
      "INFO:polars_bio:Table: bench registered for path: ../../tests/data/base_quality/bench.fastq\n"
     ]
    }
   ],
   "source": [
    "root_path = Path(\"./../../\")\n",
    "example_path = root_path / \"tests/data/base_quality/example.fastq\"\n",
    "bench_path = root_path / \"tests/data/base_quality/bench.fastq\"\n",
    "\n",
    "example_data = pb.read_fastq(str(example_path))\n",
    "bench_data = pb.read_fastq(str(bench_path))"
   ]
  },
  {
   "cell_type": "markdown",
   "id": "07f1f8f4",
   "metadata": {},
   "source": [
    "Set target partitions"
   ]
  },
  {
   "cell_type": "code",
   "execution_count": 3,
   "id": "6d4b8587",
   "metadata": {},
   "outputs": [],
   "source": [
    "pb.set_option(\"datafusion.execution.target_partitions\", \"1\")"
   ]
  },
  {
   "cell_type": "markdown",
   "id": "6defe3e2",
   "metadata": {},
   "source": [
    "## Implementation"
   ]
  },
  {
   "cell_type": "markdown",
   "id": "7f5865b9",
   "metadata": {},
   "source": [
    "### UDTF for Quality Histogram"
   ]
  },
  {
   "cell_type": "markdown",
   "id": "414579c8",
   "metadata": {},
   "source": [
    "Description"
   ]
  },
  {
   "cell_type": "code",
   "execution_count": 4,
   "id": "54417300",
   "metadata": {},
   "outputs": [],
   "source": [
    "x = pl.DataFrame({\n",
    "    \"quality_scores\": pl.Series(\"quality_scores\", [], dtype=pl.Utf8),\n",
    "    \"position\": pl.Series(\"position\", [], dtype=pl.UInt32),\n",
    "})\n",
    "y = x.to_arrow()\n",
    "\n",
    "# pb.from_polars(\"x\", x)"
   ]
  },
  {
   "cell_type": "code",
   "execution_count": 5,
   "id": "e36921fd",
   "metadata": {},
   "outputs": [
    {
     "data": {
      "application/vnd.jupyter.widget-view+json": {
       "model_id": "a579607289be4d75838d2fc18cf8b4ec",
       "version_major": 2,
       "version_minor": 0
      },
      "text/plain": [
       "0rows [00:00, ?rows/s]"
      ]
     },
     "metadata": {},
     "output_type": "display_data"
    },
    {
     "data": {
      "text/html": [
       "<div><style>\n",
       ".dataframe > thead > tr,\n",
       ".dataframe > tbody > tr {\n",
       "  text-align: right;\n",
       "  white-space: pre-wrap;\n",
       "}\n",
       "</style>\n",
       "<small>shape: (10, 3)</small><table border=\"1\" class=\"dataframe\"><thead><tr><th>pos</th><th>score</th><th>count</th></tr><tr><td>u64</td><td>u8</td><td>u64</td></tr></thead><tbody><tr><td>0</td><td>2</td><td>13</td></tr><tr><td>0</td><td>10</td><td>2</td></tr><tr><td>0</td><td>16</td><td>1</td></tr><tr><td>0</td><td>26</td><td>4</td></tr><tr><td>0</td><td>27</td><td>3</td></tr><tr><td>0</td><td>28</td><td>2</td></tr><tr><td>0</td><td>30</td><td>13</td></tr><tr><td>0</td><td>31</td><td>55</td></tr><tr><td>0</td><td>33</td><td>9</td></tr><tr><td>0</td><td>34</td><td>98</td></tr></tbody></table></div>"
      ],
      "text/plain": [
       "shape: (10, 3)\n",
       "┌─────┬───────┬───────┐\n",
       "│ pos ┆ score ┆ count │\n",
       "│ --- ┆ ---   ┆ ---   │\n",
       "│ u64 ┆ u8    ┆ u64   │\n",
       "╞═════╪═══════╪═══════╡\n",
       "│ 0   ┆ 2     ┆ 13    │\n",
       "│ 0   ┆ 10    ┆ 2     │\n",
       "│ 0   ┆ 16    ┆ 1     │\n",
       "│ 0   ┆ 26    ┆ 4     │\n",
       "│ 0   ┆ 27    ┆ 3     │\n",
       "│ 0   ┆ 28    ┆ 2     │\n",
       "│ 0   ┆ 30    ┆ 13    │\n",
       "│ 0   ┆ 31    ┆ 55    │\n",
       "│ 0   ┆ 33    ┆ 9     │\n",
       "│ 0   ┆ 34    ┆ 98    │\n",
       "└─────┴───────┴───────┘"
      ]
     },
     "execution_count": 5,
     "metadata": {},
     "output_type": "execute_result"
    }
   ],
   "source": [
    "quality_histogram = pb.sql(\n",
    "\"\"\"\n",
    "SELECT \n",
    "    pos, \n",
    "    score, \n",
    "    count \n",
    "FROM \n",
    "    quality_histogram('example', 'quality_scores')\n",
    "\"\"\").collect()\n",
    "\n",
    "quality_histogram.filter(pl.col(\"pos\") == 0).sort(\"score\")"
   ]
  },
  {
   "cell_type": "markdown",
   "id": "898a53e1",
   "metadata": {},
   "source": [
    "Description"
   ]
  },
  {
   "cell_type": "code",
   "execution_count": 6,
   "id": "2cf3808d",
   "metadata": {},
   "outputs": [
    {
     "data": {
      "application/vnd.jupyter.widget-view+json": {
       "model_id": "445108bb44954442a7034525a20d9a69",
       "version_major": 2,
       "version_minor": 0
      },
      "text/plain": [
       "0rows [00:00, ?rows/s]"
      ]
     },
     "metadata": {},
     "output_type": "display_data"
    },
    {
     "data": {
      "text/html": [
       "<div><style>\n",
       ".dataframe > thead > tr,\n",
       ".dataframe > tbody > tr {\n",
       "  text-align: right;\n",
       "  white-space: pre-wrap;\n",
       "}\n",
       "</style>\n",
       "<small>shape: (10, 3)</small><table border=\"1\" class=\"dataframe\"><thead><tr><th>pos</th><th>score</th><th>count</th></tr><tr><td>u64</td><td>u8</td><td>u64</td></tr></thead><tbody><tr><td>0</td><td>2</td><td>13</td></tr><tr><td>0</td><td>10</td><td>2</td></tr><tr><td>0</td><td>16</td><td>1</td></tr><tr><td>0</td><td>26</td><td>4</td></tr><tr><td>0</td><td>27</td><td>3</td></tr><tr><td>0</td><td>28</td><td>2</td></tr><tr><td>0</td><td>30</td><td>13</td></tr><tr><td>0</td><td>31</td><td>55</td></tr><tr><td>0</td><td>33</td><td>9</td></tr><tr><td>0</td><td>34</td><td>98</td></tr></tbody></table></div>"
      ],
      "text/plain": [
       "shape: (10, 3)\n",
       "┌─────┬───────┬───────┐\n",
       "│ pos ┆ score ┆ count │\n",
       "│ --- ┆ ---   ┆ ---   │\n",
       "│ u64 ┆ u8    ┆ u64   │\n",
       "╞═════╪═══════╪═══════╡\n",
       "│ 0   ┆ 2     ┆ 13    │\n",
       "│ 0   ┆ 10    ┆ 2     │\n",
       "│ 0   ┆ 16    ┆ 1     │\n",
       "│ 0   ┆ 26    ┆ 4     │\n",
       "│ 0   ┆ 27    ┆ 3     │\n",
       "│ 0   ┆ 28    ┆ 2     │\n",
       "│ 0   ┆ 30    ┆ 13    │\n",
       "│ 0   ┆ 31    ┆ 55    │\n",
       "│ 0   ┆ 33    ┆ 9     │\n",
       "│ 0   ┆ 34    ┆ 98    │\n",
       "└─────┴───────┴───────┘"
      ]
     },
     "execution_count": 6,
     "metadata": {},
     "output_type": "execute_result"
    }
   ],
   "source": [
    "quality_histogram_grouped = pb.sql(\n",
    "\"\"\"\n",
    "SELECT \n",
    "    pos, \n",
    "    score, \n",
    "    SUM(count) AS count \n",
    "FROM \n",
    "    quality_histogram('example', 'quality_scores') \n",
    "GROUP BY \n",
    "    pos, score\n",
    "\"\"\").collect()\n",
    "\n",
    "quality_histogram_grouped.filter(pl.col(\"pos\") == 0).sort(\"score\")"
   ]
  },
  {
   "cell_type": "markdown",
   "id": "62a7df81",
   "metadata": {},
   "source": [
    "### UDAF for Quality Stats from Quality Histograms"
   ]
  },
  {
   "cell_type": "markdown",
   "id": "fb1cfed9",
   "metadata": {},
   "source": [
    "Description"
   ]
  },
  {
   "cell_type": "code",
   "execution_count": 7,
   "id": "b21dcf73",
   "metadata": {},
   "outputs": [
    {
     "data": {
      "application/vnd.jupyter.widget-view+json": {
       "model_id": "249d608a36754836b62aef1f9285b4eb",
       "version_major": 2,
       "version_minor": 0
      },
      "text/plain": [
       "0rows [00:00, ?rows/s]"
      ]
     },
     "metadata": {},
     "output_type": "display_data"
    },
    {
     "data": {
      "text/html": [
       "<div><style>\n",
       ".dataframe > thead > tr,\n",
       ".dataframe > tbody > tr {\n",
       "  text-align: right;\n",
       "  white-space: pre-wrap;\n",
       "}\n",
       "</style>\n",
       "<small>shape: (101, 7)</small><table border=\"1\" class=\"dataframe\"><thead><tr><th>pos</th><th>avg</th><th>lower</th><th>q1</th><th>median</th><th>q3</th><th>upper</th></tr><tr><td>u64</td><td>f64</td><td>f64</td><td>f64</td><td>f64</td><td>f64</td><td>f64</td></tr></thead><tbody><tr><td>0</td><td>30.135</td><td>26.5</td><td>31.0</td><td>33.0</td><td>34.0</td><td>38.5</td></tr><tr><td>1</td><td>31.21</td><td>26.5</td><td>31.0</td><td>34.0</td><td>34.0</td><td>38.5</td></tr><tr><td>2</td><td>32.015</td><td>26.5</td><td>31.0</td><td>34.0</td><td>34.0</td><td>38.5</td></tr><tr><td>3</td><td>35.69</td><td>32.0</td><td>35.0</td><td>37.0</td><td>37.0</td><td>40.0</td></tr><tr><td>4</td><td>35.68</td><td>32.0</td><td>35.0</td><td>37.0</td><td>37.0</td><td>40.0</td></tr><tr><td>&hellip;</td><td>&hellip;</td><td>&hellip;</td><td>&hellip;</td><td>&hellip;</td><td>&hellip;</td><td>&hellip;</td></tr><tr><td>96</td><td>31.315</td><td>27.5</td><td>32.0</td><td>34.0</td><td>35.0</td><td>39.5</td></tr><tr><td>97</td><td>30.67</td><td>25.0</td><td>31.0</td><td>34.0</td><td>35.0</td><td>41.0</td></tr><tr><td>98</td><td>31.55</td><td>27.5</td><td>32.0</td><td>34.0</td><td>35.0</td><td>39.5</td></tr><tr><td>99</td><td>31.25</td><td>27.5</td><td>32.0</td><td>34.0</td><td>35.0</td><td>39.5</td></tr><tr><td>100</td><td>31.105</td><td>25.0</td><td>31.0</td><td>34.0</td><td>35.0</td><td>41.0</td></tr></tbody></table></div>"
      ],
      "text/plain": [
       "shape: (101, 7)\n",
       "┌─────┬────────┬───────┬──────┬────────┬──────┬───────┐\n",
       "│ pos ┆ avg    ┆ lower ┆ q1   ┆ median ┆ q3   ┆ upper │\n",
       "│ --- ┆ ---    ┆ ---   ┆ ---  ┆ ---    ┆ ---  ┆ ---   │\n",
       "│ u64 ┆ f64    ┆ f64   ┆ f64  ┆ f64    ┆ f64  ┆ f64   │\n",
       "╞═════╪════════╪═══════╪══════╪════════╪══════╪═══════╡\n",
       "│ 0   ┆ 30.135 ┆ 26.5  ┆ 31.0 ┆ 33.0   ┆ 34.0 ┆ 38.5  │\n",
       "│ 1   ┆ 31.21  ┆ 26.5  ┆ 31.0 ┆ 34.0   ┆ 34.0 ┆ 38.5  │\n",
       "│ 2   ┆ 32.015 ┆ 26.5  ┆ 31.0 ┆ 34.0   ┆ 34.0 ┆ 38.5  │\n",
       "│ 3   ┆ 35.69  ┆ 32.0  ┆ 35.0 ┆ 37.0   ┆ 37.0 ┆ 40.0  │\n",
       "│ 4   ┆ 35.68  ┆ 32.0  ┆ 35.0 ┆ 37.0   ┆ 37.0 ┆ 40.0  │\n",
       "│ …   ┆ …      ┆ …     ┆ …    ┆ …      ┆ …    ┆ …     │\n",
       "│ 96  ┆ 31.315 ┆ 27.5  ┆ 32.0 ┆ 34.0   ┆ 35.0 ┆ 39.5  │\n",
       "│ 97  ┆ 30.67  ┆ 25.0  ┆ 31.0 ┆ 34.0   ┆ 35.0 ┆ 41.0  │\n",
       "│ 98  ┆ 31.55  ┆ 27.5  ┆ 32.0 ┆ 34.0   ┆ 35.0 ┆ 39.5  │\n",
       "│ 99  ┆ 31.25  ┆ 27.5  ┆ 32.0 ┆ 34.0   ┆ 35.0 ┆ 39.5  │\n",
       "│ 100 ┆ 31.105 ┆ 25.0  ┆ 31.0 ┆ 34.0   ┆ 35.0 ┆ 41.0  │\n",
       "└─────┴────────┴───────┴──────┴────────┴──────┴───────┘"
      ]
     },
     "execution_count": 7,
     "metadata": {},
     "output_type": "execute_result"
    }
   ],
   "source": [
    "quality_stats = pb.sql(\n",
    "\"\"\"\n",
    "SELECT \n",
    "    pos, \n",
    "    stats.avg AS avg, \n",
    "    stats.lower AS lower, \n",
    "    stats.q1 AS q1,\n",
    "    stats.median AS median,\n",
    "    stats.q3 AS q3,\n",
    "    stats.upper AS upper\n",
    "FROM (\n",
    "    SELECT \n",
    "        pos, \n",
    "        quality_quartiles(score, count) AS stats \n",
    "    FROM (\n",
    "        SELECT \n",
    "            * \n",
    "        FROM \n",
    "            quality_histogram('example', 'quality_scores')\n",
    "    ) \n",
    "    GROUP BY \n",
    "        pos\n",
    "    )\n",
    "\"\"\").collect()\n",
    "\n",
    "quality_stats.sort(\"pos\")"
   ]
  },
  {
   "cell_type": "markdown",
   "id": "2ad44581",
   "metadata": {},
   "source": [
    "Description"
   ]
  },
  {
   "cell_type": "code",
   "execution_count": 8,
   "id": "9b6f0357",
   "metadata": {},
   "outputs": [
    {
     "data": {
      "application/vnd.jupyter.widget-view+json": {
       "model_id": "1bea9fbb71a24ddcb5665646bbc46975",
       "version_major": 2,
       "version_minor": 0
      },
      "text/plain": [
       "0rows [00:00, ?rows/s]"
      ]
     },
     "metadata": {},
     "output_type": "display_data"
    },
    {
     "data": {
      "text/html": [
       "<div><style>\n",
       ".dataframe > thead > tr,\n",
       ".dataframe > tbody > tr {\n",
       "  text-align: right;\n",
       "  white-space: pre-wrap;\n",
       "}\n",
       "</style>\n",
       "<small>shape: (35, 2)</small><table border=\"1\" class=\"dataframe\"><thead><tr><th>pos</th><th>avg</th></tr><tr><td>u64</td><td>f64</td></tr></thead><tbody><tr><td>0</td><td>30.135</td></tr><tr><td>1</td><td>31.21</td></tr><tr><td>2</td><td>32.015</td></tr><tr><td>69</td><td>33.7</td></tr><tr><td>70</td><td>33.565</td></tr><tr><td>&hellip;</td><td>&hellip;</td></tr><tr><td>96</td><td>31.315</td></tr><tr><td>97</td><td>30.67</td></tr><tr><td>98</td><td>31.55</td></tr><tr><td>99</td><td>31.25</td></tr><tr><td>100</td><td>31.105</td></tr></tbody></table></div>"
      ],
      "text/plain": [
       "shape: (35, 2)\n",
       "┌─────┬────────┐\n",
       "│ pos ┆ avg    │\n",
       "│ --- ┆ ---    │\n",
       "│ u64 ┆ f64    │\n",
       "╞═════╪════════╡\n",
       "│ 0   ┆ 30.135 │\n",
       "│ 1   ┆ 31.21  │\n",
       "│ 2   ┆ 32.015 │\n",
       "│ 69  ┆ 33.7   │\n",
       "│ 70  ┆ 33.565 │\n",
       "│ …   ┆ …      │\n",
       "│ 96  ┆ 31.315 │\n",
       "│ 97  ┆ 30.67  │\n",
       "│ 98  ┆ 31.55  │\n",
       "│ 99  ┆ 31.25  │\n",
       "│ 100 ┆ 31.105 │\n",
       "└─────┴────────┘"
      ]
     },
     "execution_count": 8,
     "metadata": {},
     "output_type": "execute_result"
    }
   ],
   "source": [
    "quality_stats_where_low_avg = pb.sql(\n",
    "\"\"\"\n",
    "SELECT \n",
    "    pos, \n",
    "    stats.avg AS avg\n",
    "FROM (\n",
    "    SELECT \n",
    "        pos, \n",
    "        quality_quartiles(score, count) AS stats \n",
    "    FROM (\n",
    "        SELECT \n",
    "            * \n",
    "        FROM \n",
    "            quality_histogram('example', 'quality_scores')\n",
    "    ) \n",
    "    GROUP BY \n",
    "        pos\n",
    "    )\n",
    "WHERE\n",
    "    stats.avg < 35\n",
    "\"\"\").collect()\n",
    "\n",
    "quality_stats_where_low_avg.sort(\"pos\")"
   ]
  },
  {
   "cell_type": "markdown",
   "id": "2d2c0033",
   "metadata": {},
   "source": [
    "### Base Sequence Quality Function"
   ]
  },
  {
   "cell_type": "markdown",
   "id": "ed7ceb13",
   "metadata": {},
   "source": [
    "Description"
   ]
  },
  {
   "cell_type": "markdown",
   "id": "2d89ff43",
   "metadata": {},
   "source": [
    "#### Supports different inputs"
   ]
  },
  {
   "cell_type": "markdown",
   "id": "c0bd4df5",
   "metadata": {},
   "source": [
    "* Supports polars.LazyFrame as input"
   ]
  },
  {
   "cell_type": "code",
   "execution_count": 9,
   "id": "f4e6c579",
   "metadata": {},
   "outputs": [
    {
     "data": {
      "application/vnd.jupyter.widget-view+json": {
       "model_id": "d0ade060b9934a53a099fe909c718395",
       "version_major": 2,
       "version_minor": 0
      },
      "text/plain": [
       "0rows [00:00, ?rows/s]"
      ]
     },
     "metadata": {},
     "output_type": "display_data"
    },
    {
     "data": {
      "text/plain": [
       "(shape: (10, 7)\n",
       " ┌─────┬────────┬───────┬──────┬────────┬──────┬───────┐\n",
       " │ pos ┆ avg    ┆ lower ┆ q1   ┆ median ┆ q3   ┆ upper │\n",
       " │ --- ┆ ---    ┆ ---   ┆ ---  ┆ ---    ┆ ---  ┆ ---   │\n",
       " │ u64 ┆ f64    ┆ f64   ┆ f64  ┆ f64    ┆ f64  ┆ f64   │\n",
       " ╞═════╪════════╪═══════╪══════╪════════╪══════╪═══════╡\n",
       " │ 0   ┆ 30.135 ┆ 26.5  ┆ 31.0 ┆ 33.0   ┆ 34.0 ┆ 38.5  │\n",
       " │ 1   ┆ 31.21  ┆ 26.5  ┆ 31.0 ┆ 34.0   ┆ 34.0 ┆ 38.5  │\n",
       " │ 2   ┆ 32.015 ┆ 26.5  ┆ 31.0 ┆ 34.0   ┆ 34.0 ┆ 38.5  │\n",
       " │ 3   ┆ 35.69  ┆ 32.0  ┆ 35.0 ┆ 37.0   ┆ 37.0 ┆ 40.0  │\n",
       " │ 4   ┆ 35.68  ┆ 32.0  ┆ 35.0 ┆ 37.0   ┆ 37.0 ┆ 40.0  │\n",
       " │ 5   ┆ 35.095 ┆ 32.0  ┆ 35.0 ┆ 35.0   ┆ 37.0 ┆ 40.0  │\n",
       " │ 6   ┆ 35.145 ┆ 32.0  ┆ 35.0 ┆ 35.0   ┆ 37.0 ┆ 40.0  │\n",
       " │ 7   ┆ 35.4   ┆ 32.0  ┆ 35.0 ┆ 36.0   ┆ 37.0 ┆ 40.0  │\n",
       " │ 8   ┆ 37.625 ┆ 34.0  ┆ 37.0 ┆ 39.0   ┆ 39.0 ┆ 42.0  │\n",
       " │ 9   ┆ 37.36  ┆ 34.0  ┆ 37.0 ┆ 39.0   ┆ 39.0 ┆ 42.0  │\n",
       " └─────┴────────┴───────┴──────┴────────┴──────┴───────┘,\n",
       " polars.dataframe.frame.DataFrame,\n",
       " polars.lazyframe.frame.LazyFrame)"
      ]
     },
     "execution_count": 9,
     "metadata": {},
     "output_type": "execute_result"
    }
   ],
   "source": [
    "x = pb.base_sequence_quality(example_data, \"quality_scores\")\n",
    "x.sort(\"pos\").limit(10), type(x), type(example_data)"
   ]
  },
  {
   "cell_type": "markdown",
   "id": "e9fb447c",
   "metadata": {},
   "source": [
    "* Supports polars.DataFrames as input"
   ]
  },
  {
   "cell_type": "code",
   "execution_count": 10,
   "id": "29eba8b6",
   "metadata": {},
   "outputs": [
    {
     "data": {
      "application/vnd.jupyter.widget-view+json": {
       "model_id": "beca982381374d68bd79165bf4617d82",
       "version_major": 2,
       "version_minor": 0
      },
      "text/plain": [
       "0rows [00:00, ?rows/s]"
      ]
     },
     "metadata": {},
     "output_type": "display_data"
    },
    {
     "data": {
      "text/plain": [
       "(shape: (10, 7)\n",
       " ┌─────┬────────┬───────┬──────┬────────┬──────┬───────┐\n",
       " │ pos ┆ avg    ┆ lower ┆ q1   ┆ median ┆ q3   ┆ upper │\n",
       " │ --- ┆ ---    ┆ ---   ┆ ---  ┆ ---    ┆ ---  ┆ ---   │\n",
       " │ u64 ┆ f64    ┆ f64   ┆ f64  ┆ f64    ┆ f64  ┆ f64   │\n",
       " ╞═════╪════════╪═══════╪══════╪════════╪══════╪═══════╡\n",
       " │ 0   ┆ 30.135 ┆ 26.5  ┆ 31.0 ┆ 33.0   ┆ 34.0 ┆ 38.5  │\n",
       " │ 1   ┆ 31.21  ┆ 26.5  ┆ 31.0 ┆ 34.0   ┆ 34.0 ┆ 38.5  │\n",
       " │ 2   ┆ 32.015 ┆ 26.5  ┆ 31.0 ┆ 34.0   ┆ 34.0 ┆ 38.5  │\n",
       " │ 3   ┆ 35.69  ┆ 32.0  ┆ 35.0 ┆ 37.0   ┆ 37.0 ┆ 40.0  │\n",
       " │ 4   ┆ 35.68  ┆ 32.0  ┆ 35.0 ┆ 37.0   ┆ 37.0 ┆ 40.0  │\n",
       " │ 5   ┆ 35.095 ┆ 32.0  ┆ 35.0 ┆ 35.0   ┆ 37.0 ┆ 40.0  │\n",
       " │ 6   ┆ 35.145 ┆ 32.0  ┆ 35.0 ┆ 35.0   ┆ 37.0 ┆ 40.0  │\n",
       " │ 7   ┆ 35.4   ┆ 32.0  ┆ 35.0 ┆ 36.0   ┆ 37.0 ┆ 40.0  │\n",
       " │ 8   ┆ 37.625 ┆ 34.0  ┆ 37.0 ┆ 39.0   ┆ 39.0 ┆ 42.0  │\n",
       " │ 9   ┆ 37.36  ┆ 34.0  ┆ 37.0 ┆ 39.0   ┆ 39.0 ┆ 42.0  │\n",
       " └─────┴────────┴───────┴──────┴────────┴──────┴───────┘,\n",
       " polars.dataframe.frame.DataFrame,\n",
       " polars.dataframe.frame.DataFrame)"
      ]
     },
     "execution_count": 10,
     "metadata": {},
     "output_type": "execute_result"
    }
   ],
   "source": [
    "example_polars_df = example_data.collect()\n",
    "x = pb.base_sequence_quality(example_polars_df, \"quality_scores\")\n",
    "x.sort(\"pos\").limit(10), type(x), type(example_polars_df)"
   ]
  },
  {
   "cell_type": "markdown",
   "id": "aed18955",
   "metadata": {},
   "source": [
    "* Supports pandas.DataFrame as input"
   ]
  },
  {
   "cell_type": "code",
   "execution_count": 11,
   "id": "e5a22652",
   "metadata": {},
   "outputs": [
    {
     "data": {
      "application/vnd.jupyter.widget-view+json": {
       "model_id": "8a7422f241bb4911933f283d46296b74",
       "version_major": 2,
       "version_minor": 0
      },
      "text/plain": [
       "0rows [00:00, ?rows/s]"
      ]
     },
     "metadata": {},
     "output_type": "display_data"
    },
    {
     "data": {
      "text/plain": [
       "(shape: (10, 7)\n",
       " ┌─────┬────────┬───────┬──────┬────────┬──────┬───────┐\n",
       " │ pos ┆ avg    ┆ lower ┆ q1   ┆ median ┆ q3   ┆ upper │\n",
       " │ --- ┆ ---    ┆ ---   ┆ ---  ┆ ---    ┆ ---  ┆ ---   │\n",
       " │ u64 ┆ f64    ┆ f64   ┆ f64  ┆ f64    ┆ f64  ┆ f64   │\n",
       " ╞═════╪════════╪═══════╪══════╪════════╪══════╪═══════╡\n",
       " │ 0   ┆ 30.135 ┆ 26.5  ┆ 31.0 ┆ 33.0   ┆ 34.0 ┆ 38.5  │\n",
       " │ 1   ┆ 31.21  ┆ 26.5  ┆ 31.0 ┆ 34.0   ┆ 34.0 ┆ 38.5  │\n",
       " │ 2   ┆ 32.015 ┆ 26.5  ┆ 31.0 ┆ 34.0   ┆ 34.0 ┆ 38.5  │\n",
       " │ 3   ┆ 35.69  ┆ 32.0  ┆ 35.0 ┆ 37.0   ┆ 37.0 ┆ 40.0  │\n",
       " │ 4   ┆ 35.68  ┆ 32.0  ┆ 35.0 ┆ 37.0   ┆ 37.0 ┆ 40.0  │\n",
       " │ 5   ┆ 35.095 ┆ 32.0  ┆ 35.0 ┆ 35.0   ┆ 37.0 ┆ 40.0  │\n",
       " │ 6   ┆ 35.145 ┆ 32.0  ┆ 35.0 ┆ 35.0   ┆ 37.0 ┆ 40.0  │\n",
       " │ 7   ┆ 35.4   ┆ 32.0  ┆ 35.0 ┆ 36.0   ┆ 37.0 ┆ 40.0  │\n",
       " │ 8   ┆ 37.625 ┆ 34.0  ┆ 37.0 ┆ 39.0   ┆ 39.0 ┆ 42.0  │\n",
       " │ 9   ┆ 37.36  ┆ 34.0  ┆ 37.0 ┆ 39.0   ┆ 39.0 ┆ 42.0  │\n",
       " └─────┴────────┴───────┴──────┴────────┴──────┴───────┘,\n",
       " polars.dataframe.frame.DataFrame,\n",
       " pandas.core.frame.DataFrame)"
      ]
     },
     "execution_count": 11,
     "metadata": {},
     "output_type": "execute_result"
    }
   ],
   "source": [
    "example_pandas = example_data.collect().to_pandas()\n",
    "x = pb.base_sequence_quality(example_pandas, \"quality_scores\")\n",
    "x.sort(\"pos\").limit(10), type(x), type(example_pandas)"
   ]
  },
  {
   "cell_type": "markdown",
   "id": "bacd7aa1",
   "metadata": {},
   "source": [
    "* Supports dataframe path or table name as input"
   ]
  },
  {
   "cell_type": "code",
   "execution_count": 12,
   "id": "d5275412",
   "metadata": {},
   "outputs": [
    {
     "data": {
      "text/plain": [
       "(shape: (10, 7)\n",
       " ┌─────┬────────┬───────┬──────┬────────┬──────┬───────┐\n",
       " │ pos ┆ avg    ┆ lower ┆ q1   ┆ median ┆ q3   ┆ upper │\n",
       " │ --- ┆ ---    ┆ ---   ┆ ---  ┆ ---    ┆ ---  ┆ ---   │\n",
       " │ u64 ┆ f64    ┆ f64   ┆ f64  ┆ f64    ┆ f64  ┆ f64   │\n",
       " ╞═════╪════════╪═══════╪══════╪════════╪══════╪═══════╡\n",
       " │ 0   ┆ 30.135 ┆ 26.5  ┆ 31.0 ┆ 33.0   ┆ 34.0 ┆ 38.5  │\n",
       " │ 1   ┆ 31.21  ┆ 26.5  ┆ 31.0 ┆ 34.0   ┆ 34.0 ┆ 38.5  │\n",
       " │ 2   ┆ 32.015 ┆ 26.5  ┆ 31.0 ┆ 34.0   ┆ 34.0 ┆ 38.5  │\n",
       " │ 3   ┆ 35.69  ┆ 32.0  ┆ 35.0 ┆ 37.0   ┆ 37.0 ┆ 40.0  │\n",
       " │ 4   ┆ 35.68  ┆ 32.0  ┆ 35.0 ┆ 37.0   ┆ 37.0 ┆ 40.0  │\n",
       " │ 5   ┆ 35.095 ┆ 32.0  ┆ 35.0 ┆ 35.0   ┆ 37.0 ┆ 40.0  │\n",
       " │ 6   ┆ 35.145 ┆ 32.0  ┆ 35.0 ┆ 35.0   ┆ 37.0 ┆ 40.0  │\n",
       " │ 7   ┆ 35.4   ┆ 32.0  ┆ 35.0 ┆ 36.0   ┆ 37.0 ┆ 40.0  │\n",
       " │ 8   ┆ 37.625 ┆ 34.0  ┆ 37.0 ┆ 39.0   ┆ 39.0 ┆ 42.0  │\n",
       " │ 9   ┆ 37.36  ┆ 34.0  ┆ 37.0 ┆ 39.0   ┆ 39.0 ┆ 42.0  │\n",
       " └─────┴────────┴───────┴──────┴────────┴──────┴───────┘,\n",
       " polars.dataframe.frame.DataFrame)"
      ]
     },
     "execution_count": 12,
     "metadata": {},
     "output_type": "execute_result"
    }
   ],
   "source": [
    "x = pb.base_sequence_quality(\"example\", \"quality_scores\")\n",
    "x.sort(\"pos\").limit(10), type(x)"
   ]
  },
  {
   "cell_type": "markdown",
   "id": "15361de3",
   "metadata": {},
   "source": [
    "#### And outputs"
   ]
  },
  {
   "cell_type": "markdown",
   "id": "f2b6340b",
   "metadata": {},
   "source": [
    "* Supports polars.DataFrame as output"
   ]
  },
  {
   "cell_type": "code",
   "execution_count": 13,
   "id": "fb224910",
   "metadata": {},
   "outputs": [
    {
     "data": {
      "text/plain": [
       "(shape: (10, 7)\n",
       " ┌─────┬────────┬───────┬──────┬────────┬──────┬───────┐\n",
       " │ pos ┆ avg    ┆ lower ┆ q1   ┆ median ┆ q3   ┆ upper │\n",
       " │ --- ┆ ---    ┆ ---   ┆ ---  ┆ ---    ┆ ---  ┆ ---   │\n",
       " │ u64 ┆ f64    ┆ f64   ┆ f64  ┆ f64    ┆ f64  ┆ f64   │\n",
       " ╞═════╪════════╪═══════╪══════╪════════╪══════╪═══════╡\n",
       " │ 0   ┆ 30.135 ┆ 26.5  ┆ 31.0 ┆ 33.0   ┆ 34.0 ┆ 38.5  │\n",
       " │ 1   ┆ 31.21  ┆ 26.5  ┆ 31.0 ┆ 34.0   ┆ 34.0 ┆ 38.5  │\n",
       " │ 2   ┆ 32.015 ┆ 26.5  ┆ 31.0 ┆ 34.0   ┆ 34.0 ┆ 38.5  │\n",
       " │ 3   ┆ 35.69  ┆ 32.0  ┆ 35.0 ┆ 37.0   ┆ 37.0 ┆ 40.0  │\n",
       " │ 4   ┆ 35.68  ┆ 32.0  ┆ 35.0 ┆ 37.0   ┆ 37.0 ┆ 40.0  │\n",
       " │ 5   ┆ 35.095 ┆ 32.0  ┆ 35.0 ┆ 35.0   ┆ 37.0 ┆ 40.0  │\n",
       " │ 6   ┆ 35.145 ┆ 32.0  ┆ 35.0 ┆ 35.0   ┆ 37.0 ┆ 40.0  │\n",
       " │ 7   ┆ 35.4   ┆ 32.0  ┆ 35.0 ┆ 36.0   ┆ 37.0 ┆ 40.0  │\n",
       " │ 8   ┆ 37.625 ┆ 34.0  ┆ 37.0 ┆ 39.0   ┆ 39.0 ┆ 42.0  │\n",
       " │ 9   ┆ 37.36  ┆ 34.0  ┆ 37.0 ┆ 39.0   ┆ 39.0 ┆ 42.0  │\n",
       " └─────┴────────┴───────┴──────┴────────┴──────┴───────┘,\n",
       " polars.dataframe.frame.DataFrame)"
      ]
     },
     "execution_count": 13,
     "metadata": {},
     "output_type": "execute_result"
    }
   ],
   "source": [
    "x = pb.base_sequence_quality(\"example\", \"quality_scores\", output_type=\"polars.DataFrame\")\n",
    "x.sort(\"pos\").limit(10), type(x)"
   ]
  },
  {
   "cell_type": "markdown",
   "id": "f0225427",
   "metadata": {},
   "source": [
    "* Supports pandas.DataFrame as output"
   ]
  },
  {
   "cell_type": "code",
   "execution_count": 14,
   "id": "b1760391",
   "metadata": {},
   "outputs": [
    {
     "data": {
      "text/plain": [
       "(     pos     avg  lower    q1  median    q3  upper\n",
       " 0      0  30.135   26.5  31.0    33.0  34.0   38.5\n",
       " 1      1  31.210   26.5  31.0    34.0  34.0   38.5\n",
       " 2      2  32.015   26.5  31.0    34.0  34.0   38.5\n",
       " 3      3  35.690   32.0  35.0    37.0  37.0   40.0\n",
       " 4      4  35.680   32.0  35.0    37.0  37.0   40.0\n",
       " ..   ...     ...    ...   ...     ...   ...    ...\n",
       " 96    96  31.315   27.5  32.0    34.0  35.0   39.5\n",
       " 97    97  30.670   25.0  31.0    34.0  35.0   41.0\n",
       " 98    98  31.550   27.5  32.0    34.0  35.0   39.5\n",
       " 99    99  31.250   27.5  32.0    34.0  35.0   39.5\n",
       " 100  100  31.105   25.0  31.0    34.0  35.0   41.0\n",
       " \n",
       " [101 rows x 7 columns],\n",
       " pandas.core.frame.DataFrame)"
      ]
     },
     "execution_count": 14,
     "metadata": {},
     "output_type": "execute_result"
    }
   ],
   "source": [
    "x = pb.base_sequence_quality(\"example\", \"quality_scores\", output_type=\"pandas.DataFrame\")\n",
    "x, type(x)"
   ]
  },
  {
   "cell_type": "markdown",
   "id": "c9c2f26d",
   "metadata": {},
   "source": [
    "### Visualization"
   ]
  },
  {
   "cell_type": "code",
   "execution_count": 15,
   "id": "346baf3e",
   "metadata": {},
   "outputs": [],
   "source": [
    "x = 3 # @TODO: add visualization of the results"
   ]
  },
  {
   "cell_type": "markdown",
   "id": "48aae662",
   "metadata": {},
   "source": [
    "## Benchmarks"
   ]
  },
  {
   "cell_type": "markdown",
   "id": "43134df0",
   "metadata": {},
   "source": [
    "### Reference"
   ]
  },
  {
   "cell_type": "markdown",
   "id": "1ab89541",
   "metadata": {},
   "source": [
    "description about reference"
   ]
  },
  {
   "cell_type": "code",
   "execution_count": 16,
   "id": "783612c4",
   "metadata": {},
   "outputs": [
    {
     "name": "stdout",
     "output_type": "stream",
     "text": [
      "42 s ± 988 ms per loop (mean ± std. dev. of 7 runs, 1 loop each)\n"
     ]
    }
   ],
   "source": [
    "%%timeit -n 1 -r 7\n",
    "subprocess.run([\"fqc\", \"-q\", str(bench_path)], stdout=subprocess.DEVNULL)"
   ]
  },
  {
   "cell_type": "markdown",
   "id": "03444270",
   "metadata": {},
   "source": [
    "### Implemented Method"
   ]
  },
  {
   "cell_type": "markdown",
   "id": "f91da28d",
   "metadata": {},
   "source": [
    "- Single partition"
   ]
  },
  {
   "cell_type": "code",
   "execution_count": 17,
   "id": "4cd1061c",
   "metadata": {},
   "outputs": [],
   "source": [
    "pb.set_option(\"datafusion.execution.target_partitions\", \"1\")"
   ]
  },
  {
   "cell_type": "code",
   "execution_count": 18,
   "id": "44bf858b",
   "metadata": {},
   "outputs": [
    {
     "name": "stdout",
     "output_type": "stream",
     "text": [
      "25.8 s ± 195 ms per loop (mean ± std. dev. of 7 runs, 1 loop each)\n"
     ]
    }
   ],
   "source": [
    "%%timeit -n 1 -r 7\n",
    "x = pb.base_sequence_quality(\"bench\", \"quality_scores\")"
   ]
  },
  {
   "cell_type": "markdown",
   "id": "cb1106da",
   "metadata": {},
   "source": [
    "- 2x partitions"
   ]
  },
  {
   "cell_type": "code",
   "execution_count": 19,
   "id": "3a61812c",
   "metadata": {},
   "outputs": [],
   "source": [
    "pb.set_option(\"datafusion.execution.target_partitions\", \"2\")"
   ]
  },
  {
   "cell_type": "code",
   "execution_count": 20,
   "id": "6f7af089",
   "metadata": {},
   "outputs": [
    {
     "name": "stdout",
     "output_type": "stream",
     "text": [
      "15.9 s ± 347 ms per loop (mean ± std. dev. of 7 runs, 1 loop each)\n"
     ]
    }
   ],
   "source": [
    "%%timeit -n 1 -r 7\n",
    "x = pb.base_sequence_quality(\"bench\", \"quality_scores\")"
   ]
  }
 ],
 "metadata": {
  "kernelspec": {
   "display_name": ".venv",
   "language": "python",
   "name": "python3"
  },
  "language_info": {
   "codemirror_mode": {
    "name": "ipython",
    "version": 3
   },
   "file_extension": ".py",
   "mimetype": "text/x-python",
   "name": "python",
   "nbconvert_exporter": "python",
   "pygments_lexer": "ipython3",
   "version": "3.12.3"
  }
 },
 "nbformat": 4,
 "nbformat_minor": 5
}
