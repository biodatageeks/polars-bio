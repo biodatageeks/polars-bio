{
 "cells": [
  {
   "cell_type": "markdown",
   "id": "9edb21ee44b4588d",
   "metadata": {},
   "source": [
    "### 1. How to read gnomAD VCF files from Google Cloud Storage or AWS S3\n",
    "\n",
    "#### Google Cloud Storage"
   ]
  },
  {
   "cell_type": "code",
   "id": "62a7b57c30bf54e2",
   "metadata": {
    "ExecuteTime": {
     "end_time": "2025-02-26T20:31:03.700497Z",
     "start_time": "2025-02-26T20:31:03.208236Z"
    }
   },
   "source": [
    "import polars_bio as pb\n",
    "import polars as pl"
   ],
   "outputs": [
    {
     "name": "stderr",
     "output_type": "stream",
     "text": [
      "INFO:polars_bio:Creating BioSessionContext\n"
     ]
    }
   ],
   "execution_count": 1
  },
  {
   "cell_type": "code",
   "id": "18e876b10c939ec",
   "metadata": {
    "ExecuteTime": {
     "end_time": "2025-02-26T20:31:05.990305Z",
     "start_time": "2025-02-26T20:31:05.988482Z"
    }
   },
   "source": [
    "gcs_vcf_path = (\n",
    "    \"gs://gcp-public-data--gnomad/release/4.1/genome_sv/gnomad.v4.1.sv.sites.vcf.gz\"\n",
    ")"
   ],
   "outputs": [],
   "execution_count": 2
  },
  {
   "cell_type": "code",
   "id": "be837bf8b4fa42c3",
   "metadata": {
    "ExecuteTime": {
     "end_time": "2025-02-26T09:42:54.567225Z",
     "start_time": "2025-02-26T09:42:52.961603Z"
    }
   },
   "source": [
    "pb.read_vcf(gcs_vcf_path).limit(3).collect()"
   ],
   "outputs": [
    {
     "name": "stderr",
     "output_type": "stream",
     "text": [
      "INFO:polars_bio:Table: gnomad_v4_1_sv_sites_gz registered for path: gs://gcp-public-data--gnomad/release/4.1/genome_sv/gnomad.v4.1.sv.sites.vcf.gz\n"
     ]
    },
    {
     "data": {
      "text/plain": [
       "shape: (3, 8)\n",
       "┌───────┬───────┬────────┬─────────────────────────────┬─────┬───────┬───────┬─────────────────────┐\n",
       "│ chrom ┆ start ┆ end    ┆ id                          ┆ ref ┆ alt   ┆ qual  ┆ filter              │\n",
       "│ ---   ┆ ---   ┆ ---    ┆ ---                         ┆ --- ┆ ---   ┆ ---   ┆ ---                 │\n",
       "│ str   ┆ u32   ┆ u32    ┆ str                         ┆ str ┆ str   ┆ f64   ┆ str                 │\n",
       "╞═══════╪═══════╪════════╪═════════════════════════════╪═════╪═══════╪═══════╪═════════════════════╡\n",
       "│ chr1  ┆ 10000 ┆ 295666 ┆ gnomAD-SV_v3_DUP_chr1_01c27 ┆ N   ┆ <DUP> ┆ 134.0 ┆ HIGH_NCR            │\n",
       "│       ┆       ┆        ┆ 81c                         ┆     ┆       ┆       ┆                     │\n",
       "│ chr1  ┆ 10434 ┆ 10434  ┆ gnomAD-SV_v3_BND_chr1_1a45f ┆ N   ┆ <BND> ┆ 260.0 ┆ HIGH_NCR;UNRESOLVED │\n",
       "│       ┆       ┆        ┆ 73a                         ┆     ┆       ┆       ┆                     │\n",
       "│ chr1  ┆ 10440 ┆ 10440  ┆ gnomAD-SV_v3_BND_chr1_3fa36 ┆ N   ┆ <BND> ┆ 198.0 ┆ HIGH_NCR;UNRESOLVED │\n",
       "│       ┆       ┆        ┆ 917                         ┆     ┆       ┆       ┆                     │\n",
       "└───────┴───────┴────────┴─────────────────────────────┴─────┴───────┴───────┴─────────────────────┘"
      ],
      "text/html": [
       "<div><style>\n",
       ".dataframe > thead > tr,\n",
       ".dataframe > tbody > tr {\n",
       "  text-align: right;\n",
       "  white-space: pre-wrap;\n",
       "}\n",
       "</style>\n",
       "<small>shape: (3, 8)</small><table border=\"1\" class=\"dataframe\"><thead><tr><th>chrom</th><th>start</th><th>end</th><th>id</th><th>ref</th><th>alt</th><th>qual</th><th>filter</th></tr><tr><td>str</td><td>u32</td><td>u32</td><td>str</td><td>str</td><td>str</td><td>f64</td><td>str</td></tr></thead><tbody><tr><td>&quot;chr1&quot;</td><td>10000</td><td>295666</td><td>&quot;gnomAD-SV_v3_DUP_chr1_01c2781c&quot;</td><td>&quot;N&quot;</td><td>&quot;&lt;DUP&gt;&quot;</td><td>134.0</td><td>&quot;HIGH_NCR&quot;</td></tr><tr><td>&quot;chr1&quot;</td><td>10434</td><td>10434</td><td>&quot;gnomAD-SV_v3_BND_chr1_1a45f73a&quot;</td><td>&quot;N&quot;</td><td>&quot;&lt;BND&gt;&quot;</td><td>260.0</td><td>&quot;HIGH_NCR;UNRESOLVED&quot;</td></tr><tr><td>&quot;chr1&quot;</td><td>10440</td><td>10440</td><td>&quot;gnomAD-SV_v3_BND_chr1_3fa36917&quot;</td><td>&quot;N&quot;</td><td>&quot;&lt;BND&gt;&quot;</td><td>198.0</td><td>&quot;HIGH_NCR;UNRESOLVED&quot;</td></tr></tbody></table></div>"
      ]
     },
     "execution_count": 16,
     "metadata": {},
     "output_type": "execute_result"
    }
   ],
   "execution_count": 16
  },
  {
   "cell_type": "markdown",
   "id": "34e7074ab7737e5f",
   "metadata": {},
   "source": "#### AWS S3"
  },
  {
   "cell_type": "code",
   "id": "ed76d621978bdfd4",
   "metadata": {
    "ExecuteTime": {
     "end_time": "2025-02-26T09:42:55.956910Z",
     "start_time": "2025-02-26T09:42:55.953948Z"
    }
   },
   "source": [
    "aws_s3_vcf_path = \"s3://gnomad-public-us-east-1/release/4.1/vcf/exomes/gnomad.exomes.v4.1.sites.chr21.vcf.bgz\""
   ],
   "outputs": [],
   "execution_count": 17
  },
  {
   "cell_type": "code",
   "id": "de7090a7791f700c",
   "metadata": {
    "ExecuteTime": {
     "end_time": "2025-02-26T09:43:01.325069Z",
     "start_time": "2025-02-26T09:42:57.740265Z"
    }
   },
   "source": [
    "pb.read_vcf(aws_s3_vcf_path).limit(3).collect()"
   ],
   "outputs": [
    {
     "name": "stderr",
     "output_type": "stream",
     "text": [
      "INFO:polars_bio:Table: gnomad_exomes_v4_1_sites_chr21_bgz registered for path: s3://gnomad-public-us-east-1/release/4.1/vcf/exomes/gnomad.exomes.v4.1.sites.chr21.vcf.bgz\n"
     ]
    },
    {
     "data": {
      "text/plain": [
       "shape: (3, 8)\n",
       "┌───────┬─────────┬─────────┬─────┬─────┬─────┬──────┬─────────────┐\n",
       "│ chrom ┆ start   ┆ end     ┆ id  ┆ ref ┆ alt ┆ qual ┆ filter      │\n",
       "│ ---   ┆ ---     ┆ ---     ┆ --- ┆ --- ┆ --- ┆ ---  ┆ ---         │\n",
       "│ str   ┆ u32     ┆ u32     ┆ str ┆ str ┆ str ┆ f64  ┆ str         │\n",
       "╞═══════╪═════════╪═════════╪═════╪═════╪═════╪══════╪═════════════╡\n",
       "│ chr21 ┆ 5031905 ┆ 5031905 ┆     ┆ C   ┆ A   ┆ 0.0  ┆ AC0;AS_VQSR │\n",
       "│ chr21 ┆ 5031905 ┆ 5031905 ┆     ┆ C   ┆ T   ┆ 0.0  ┆ AC0;AS_VQSR │\n",
       "│ chr21 ┆ 5031909 ┆ 5031909 ┆     ┆ T   ┆ C   ┆ 0.0  ┆ AC0;AS_VQSR │\n",
       "└───────┴─────────┴─────────┴─────┴─────┴─────┴──────┴─────────────┘"
      ],
      "text/html": [
       "<div><style>\n",
       ".dataframe > thead > tr,\n",
       ".dataframe > tbody > tr {\n",
       "  text-align: right;\n",
       "  white-space: pre-wrap;\n",
       "}\n",
       "</style>\n",
       "<small>shape: (3, 8)</small><table border=\"1\" class=\"dataframe\"><thead><tr><th>chrom</th><th>start</th><th>end</th><th>id</th><th>ref</th><th>alt</th><th>qual</th><th>filter</th></tr><tr><td>str</td><td>u32</td><td>u32</td><td>str</td><td>str</td><td>str</td><td>f64</td><td>str</td></tr></thead><tbody><tr><td>&quot;chr21&quot;</td><td>5031905</td><td>5031905</td><td>&quot;&quot;</td><td>&quot;C&quot;</td><td>&quot;A&quot;</td><td>0.0</td><td>&quot;AC0;AS_VQSR&quot;</td></tr><tr><td>&quot;chr21&quot;</td><td>5031905</td><td>5031905</td><td>&quot;&quot;</td><td>&quot;C&quot;</td><td>&quot;T&quot;</td><td>0.0</td><td>&quot;AC0;AS_VQSR&quot;</td></tr><tr><td>&quot;chr21&quot;</td><td>5031909</td><td>5031909</td><td>&quot;&quot;</td><td>&quot;T&quot;</td><td>&quot;C&quot;</td><td>0.0</td><td>&quot;AC0;AS_VQSR&quot;</td></tr></tbody></table></div>"
      ]
     },
     "execution_count": 18,
     "metadata": {},
     "output_type": "execute_result"
    }
   ],
   "execution_count": 18
  },
  {
   "cell_type": "markdown",
   "id": "e83ebde2199ac7c2",
   "metadata": {},
   "source": "### 2. How to specify additional VCF INFO fields to be parsed"
  },
  {
   "cell_type": "code",
   "id": "74c6011177d02267",
   "metadata": {
    "ExecuteTime": {
     "end_time": "2025-02-26T09:43:02.968761Z",
     "start_time": "2025-02-26T09:43:01.342599Z"
    }
   },
   "source": [
    "vcf_info_fields = [\"SVTYPE\", \"SVLEN\"]\n",
    "pb.read_vcf(gcs_vcf_path, info_fields=vcf_info_fields).limit(3).collect()"
   ],
   "outputs": [
    {
     "name": "stderr",
     "output_type": "stream",
     "text": [
      "INFO:polars_bio:Table: gnomad_v4_1_sv_sites_gz registered for path: gs://gcp-public-data--gnomad/release/4.1/genome_sv/gnomad.v4.1.sv.sites.vcf.gz\n"
     ]
    },
    {
     "data": {
      "text/plain": [
       "shape: (3, 10)\n",
       "┌───────┬───────┬────────┬─────────────────────┬───┬───────┬─────────────────────┬────────┬────────┐\n",
       "│ chrom ┆ start ┆ end    ┆ id                  ┆ … ┆ qual  ┆ filter              ┆ svtype ┆ svlen  │\n",
       "│ ---   ┆ ---   ┆ ---    ┆ ---                 ┆   ┆ ---   ┆ ---                 ┆ ---    ┆ ---    │\n",
       "│ str   ┆ u32   ┆ u32    ┆ str                 ┆   ┆ f64   ┆ str                 ┆ str    ┆ i32    │\n",
       "╞═══════╪═══════╪════════╪═════════════════════╪═══╪═══════╪═════════════════════╪════════╪════════╡\n",
       "│ chr1  ┆ 10000 ┆ 295666 ┆ gnomAD-SV_v3_DUP_ch ┆ … ┆ 134.0 ┆ HIGH_NCR            ┆ DUP    ┆ 285666 │\n",
       "│       ┆       ┆        ┆ r1_01c2781c         ┆   ┆       ┆                     ┆        ┆        │\n",
       "│ chr1  ┆ 10434 ┆ 10434  ┆ gnomAD-SV_v3_BND_ch ┆ … ┆ 260.0 ┆ HIGH_NCR;UNRESOLVED ┆ BND    ┆ -1     │\n",
       "│       ┆       ┆        ┆ r1_1a45f73a         ┆   ┆       ┆                     ┆        ┆        │\n",
       "│ chr1  ┆ 10440 ┆ 10440  ┆ gnomAD-SV_v3_BND_ch ┆ … ┆ 198.0 ┆ HIGH_NCR;UNRESOLVED ┆ BND    ┆ -1     │\n",
       "│       ┆       ┆        ┆ r1_3fa36917         ┆   ┆       ┆                     ┆        ┆        │\n",
       "└───────┴───────┴────────┴─────────────────────┴───┴───────┴─────────────────────┴────────┴────────┘"
      ],
      "text/html": [
       "<div><style>\n",
       ".dataframe > thead > tr,\n",
       ".dataframe > tbody > tr {\n",
       "  text-align: right;\n",
       "  white-space: pre-wrap;\n",
       "}\n",
       "</style>\n",
       "<small>shape: (3, 10)</small><table border=\"1\" class=\"dataframe\"><thead><tr><th>chrom</th><th>start</th><th>end</th><th>id</th><th>ref</th><th>alt</th><th>qual</th><th>filter</th><th>svtype</th><th>svlen</th></tr><tr><td>str</td><td>u32</td><td>u32</td><td>str</td><td>str</td><td>str</td><td>f64</td><td>str</td><td>str</td><td>i32</td></tr></thead><tbody><tr><td>&quot;chr1&quot;</td><td>10000</td><td>295666</td><td>&quot;gnomAD-SV_v3_DUP_chr1_01c2781c&quot;</td><td>&quot;N&quot;</td><td>&quot;&lt;DUP&gt;&quot;</td><td>134.0</td><td>&quot;HIGH_NCR&quot;</td><td>&quot;DUP&quot;</td><td>285666</td></tr><tr><td>&quot;chr1&quot;</td><td>10434</td><td>10434</td><td>&quot;gnomAD-SV_v3_BND_chr1_1a45f73a&quot;</td><td>&quot;N&quot;</td><td>&quot;&lt;BND&gt;&quot;</td><td>260.0</td><td>&quot;HIGH_NCR;UNRESOLVED&quot;</td><td>&quot;BND&quot;</td><td>-1</td></tr><tr><td>&quot;chr1&quot;</td><td>10440</td><td>10440</td><td>&quot;gnomAD-SV_v3_BND_chr1_3fa36917&quot;</td><td>&quot;N&quot;</td><td>&quot;&lt;BND&gt;&quot;</td><td>198.0</td><td>&quot;HIGH_NCR;UNRESOLVED&quot;</td><td>&quot;BND&quot;</td><td>-1</td></tr></tbody></table></div>"
      ]
     },
     "execution_count": 19,
     "metadata": {},
     "output_type": "execute_result"
    }
   ],
   "execution_count": 19
  },
  {
   "cell_type": "markdown",
   "id": "b42ad69ae7bc2c98",
   "metadata": {},
   "source": "### 3. How to spead up reading local VCF files with multiple threads"
  },
  {
   "metadata": {
    "ExecuteTime": {
     "end_time": "2025-02-26T09:48:50.783063Z",
     "start_time": "2025-02-26T09:48:06.701875Z"
    }
   },
   "cell_type": "code",
   "source": "! gsutil -m  cp  $gcs_vcf_path /tmp/gnomad.v4.1.sv.sites.vcf.gz &> /dev/null",
   "id": "7c1c7142557607a9",
   "outputs": [],
   "execution_count": 29
  },
  {
   "cell_type": "code",
   "id": "9580e8a1c528326a",
   "metadata": {
    "ExecuteTime": {
     "end_time": "2025-02-26T20:31:32.390402Z",
     "start_time": "2025-02-26T20:31:20.872831Z"
    }
   },
   "source": [
    "%%time\n",
    "pb.read_vcf(\"/tmp/gnomad.v4.1.sv.sites.vcf.gz\", thread_num=1).count().collect()"
   ],
   "outputs": [
    {
     "name": "stderr",
     "output_type": "stream",
     "text": [
      "INFO:polars_bio:Table: gnomad_v4_1_sv_sites_gz registered for path: /tmp/gnomad.v4.1.sv.sites.vcf.gz\n"
     ]
    },
    {
     "data": {
      "text/plain": [
       "0rows [00:00, ?rows/s]"
      ],
      "application/vnd.jupyter.widget-view+json": {
       "version_major": 2,
       "version_minor": 0,
       "model_id": "e0461791952f4fe1a20f153fd7226018"
      }
     },
     "metadata": {},
     "output_type": "display_data"
    },
    {
     "name": "stdout",
     "output_type": "stream",
     "text": [
      "CPU times: user 13.3 s, sys: 2.08 s, total: 15.4 s\n",
      "Wall time: 11.5 s\n"
     ]
    },
    {
     "data": {
      "text/plain": [
       "shape: (1, 8)\n",
       "┌─────────┬─────────┬─────────┬─────────┬─────────┬─────────┬─────────┬─────────┐\n",
       "│ chrom   ┆ start   ┆ end     ┆ id      ┆ ref     ┆ alt     ┆ qual    ┆ filter  │\n",
       "│ ---     ┆ ---     ┆ ---     ┆ ---     ┆ ---     ┆ ---     ┆ ---     ┆ ---     │\n",
       "│ u32     ┆ u32     ┆ u32     ┆ u32     ┆ u32     ┆ u32     ┆ u32     ┆ u32     │\n",
       "╞═════════╪═════════╪═════════╪═════════╪═════════╪═════════╪═════════╪═════════╡\n",
       "│ 2154486 ┆ 2154486 ┆ 2154486 ┆ 2154486 ┆ 2154486 ┆ 2154486 ┆ 2154486 ┆ 2154486 │\n",
       "└─────────┴─────────┴─────────┴─────────┴─────────┴─────────┴─────────┴─────────┘"
      ],
      "text/html": [
       "<div><style>\n",
       ".dataframe > thead > tr,\n",
       ".dataframe > tbody > tr {\n",
       "  text-align: right;\n",
       "  white-space: pre-wrap;\n",
       "}\n",
       "</style>\n",
       "<small>shape: (1, 8)</small><table border=\"1\" class=\"dataframe\"><thead><tr><th>chrom</th><th>start</th><th>end</th><th>id</th><th>ref</th><th>alt</th><th>qual</th><th>filter</th></tr><tr><td>u32</td><td>u32</td><td>u32</td><td>u32</td><td>u32</td><td>u32</td><td>u32</td><td>u32</td></tr></thead><tbody><tr><td>2154486</td><td>2154486</td><td>2154486</td><td>2154486</td><td>2154486</td><td>2154486</td><td>2154486</td><td>2154486</td></tr></tbody></table></div>"
      ]
     },
     "execution_count": 3,
     "metadata": {},
     "output_type": "execute_result"
    }
   ],
   "execution_count": 3
  },
  {
   "cell_type": "code",
   "id": "55fe81d89744d85c",
   "metadata": {
    "ExecuteTime": {
     "end_time": "2025-02-26T20:31:38.698952Z",
     "start_time": "2025-02-26T20:31:35.321655Z"
    }
   },
   "source": [
    "%%time\n",
    "pb.read_vcf(\"/tmp/gnomad.v4.1.sv.sites.vcf.gz\", thread_num=4).count().collect()"
   ],
   "outputs": [
    {
     "name": "stderr",
     "output_type": "stream",
     "text": [
      "INFO:polars_bio:Table: gnomad_v4_1_sv_sites_gz registered for path: /tmp/gnomad.v4.1.sv.sites.vcf.gz\n"
     ]
    },
    {
     "data": {
      "text/plain": [
       "0rows [00:00, ?rows/s]"
      ],
      "application/vnd.jupyter.widget-view+json": {
       "version_major": 2,
       "version_minor": 0,
       "model_id": "b2bce46a958d4d1f8efaf97869fa27eb"
      }
     },
     "metadata": {},
     "output_type": "display_data"
    },
    {
     "name": "stdout",
     "output_type": "stream",
     "text": [
      "CPU times: user 12.7 s, sys: 1.78 s, total: 14.5 s\n",
      "Wall time: 3.37 s\n"
     ]
    },
    {
     "data": {
      "text/plain": [
       "shape: (1, 8)\n",
       "┌─────────┬─────────┬─────────┬─────────┬─────────┬─────────┬─────────┬─────────┐\n",
       "│ chrom   ┆ start   ┆ end     ┆ id      ┆ ref     ┆ alt     ┆ qual    ┆ filter  │\n",
       "│ ---     ┆ ---     ┆ ---     ┆ ---     ┆ ---     ┆ ---     ┆ ---     ┆ ---     │\n",
       "│ u32     ┆ u32     ┆ u32     ┆ u32     ┆ u32     ┆ u32     ┆ u32     ┆ u32     │\n",
       "╞═════════╪═════════╪═════════╪═════════╪═════════╪═════════╪═════════╪═════════╡\n",
       "│ 2154486 ┆ 2154486 ┆ 2154486 ┆ 2154486 ┆ 2154486 ┆ 2154486 ┆ 2154486 ┆ 2154486 │\n",
       "└─────────┴─────────┴─────────┴─────────┴─────────┴─────────┴─────────┴─────────┘"
      ],
      "text/html": [
       "<div><style>\n",
       ".dataframe > thead > tr,\n",
       ".dataframe > tbody > tr {\n",
       "  text-align: right;\n",
       "  white-space: pre-wrap;\n",
       "}\n",
       "</style>\n",
       "<small>shape: (1, 8)</small><table border=\"1\" class=\"dataframe\"><thead><tr><th>chrom</th><th>start</th><th>end</th><th>id</th><th>ref</th><th>alt</th><th>qual</th><th>filter</th></tr><tr><td>u32</td><td>u32</td><td>u32</td><td>u32</td><td>u32</td><td>u32</td><td>u32</td><td>u32</td></tr></thead><tbody><tr><td>2154486</td><td>2154486</td><td>2154486</td><td>2154486</td><td>2154486</td><td>2154486</td><td>2154486</td><td>2154486</td></tr></tbody></table></div>"
      ]
     },
     "execution_count": 4,
     "metadata": {},
     "output_type": "execute_result"
    }
   ],
   "execution_count": 4
  },
  {
   "cell_type": "markdown",
   "id": "a0653250f02177b5",
   "metadata": {},
   "source": "### 4. How to perform an overlap operation on two remote VCF files in streaming mode"
  },
  {
   "cell_type": "code",
   "id": "d0cfb4eae86480ab",
   "metadata": {
    "ExecuteTime": {
     "end_time": "2025-02-26T20:31:43.980951Z",
     "start_time": "2025-02-26T20:31:43.978675Z"
    }
   },
   "source": [
    "vcf_1 = \"gs://gcp-public-data--gnomad/release/4.1/genome_sv/gnomad.v4.1.sv.sites.vcf.gz\"\n",
    "vcf_2 = \"gs://gcp-public-data--gnomad/release/4.1/vcf/exomes/gnomad.exomes.v4.1.sites.chr21.vcf.bgz\""
   ],
   "outputs": [],
   "execution_count": 5
  },
  {
   "cell_type": "code",
   "id": "42797448fff4b83",
   "metadata": {
    "ExecuteTime": {
     "end_time": "2025-02-26T20:31:46.177753Z",
     "start_time": "2025-02-26T20:31:46.175424Z"
    }
   },
   "source": [
    "vcf_read_options_1 = pb.VcfReadOptions(info_fields=[\"SVTYPE\", \"SVLEN\"], thread_num=1)\n",
    "read_options_1 = pb.ReadOptions(vcf_read_options=vcf_read_options_1)"
   ],
   "outputs": [],
   "execution_count": 6
  },
  {
   "cell_type": "code",
   "id": "45de34901b9a7701",
   "metadata": {
    "ExecuteTime": {
     "end_time": "2025-02-26T20:34:04.091685Z",
     "start_time": "2025-02-26T20:31:49.552714Z"
    }
   },
   "source": [
    "pb.overlap(vcf_1, vcf_2, streaming=True, read_options1=read_options_1).sink_csv(\n",
    "    \"/tmp/streaming_run.csv\"\n",
    ")"
   ],
   "outputs": [
    {
     "name": "stderr",
     "output_type": "stream",
     "text": [
      "INFO:polars_bio.operation:Running in streaming mode...\n",
      "INFO:polars_bio.operation:Running Overlap operation with algorithm Coitrees and 1 thread(s)...\n"
     ]
    }
   ],
   "execution_count": 7
  },
  {
   "cell_type": "code",
   "id": "d5fbf079ec4545a3",
   "metadata": {
    "ExecuteTime": {
     "end_time": "2025-02-26T20:34:10.760917Z",
     "start_time": "2025-02-26T20:34:09.946904Z"
    }
   },
   "source": [
    "pl.read_csv(\"/tmp/streaming_run.csv\").limit(3)"
   ],
   "outputs": [
    {
     "data": {
      "text/plain": [
       "shape: (3, 18)\n",
       "┌─────────┬─────────┬─────────┬─────────┬───┬───────┬───────┬────────┬─────────────┐\n",
       "│ chrom_1 ┆ start_1 ┆ end_1   ┆ chrom_2 ┆ … ┆ ref_2 ┆ alt_2 ┆ qual_2 ┆ filter_2    │\n",
       "│ ---     ┆ ---     ┆ ---     ┆ ---     ┆   ┆ ---   ┆ ---   ┆ ---    ┆ ---         │\n",
       "│ str     ┆ i64     ┆ i64     ┆ str     ┆   ┆ str   ┆ str   ┆ f64    ┆ str         │\n",
       "╞═════════╪═════════╪═════════╪═════════╪═══╪═══════╪═══════╪════════╪═════════════╡\n",
       "│ chr21   ┆ 5019150 ┆ 5047500 ┆ chr21   ┆ … ┆ C     ┆ A     ┆ 0.0    ┆ AC0;AS_VQSR │\n",
       "│ chr21   ┆ 5019150 ┆ 5047500 ┆ chr21   ┆ … ┆ C     ┆ T     ┆ 0.0    ┆ AC0;AS_VQSR │\n",
       "│ chr21   ┆ 5019150 ┆ 5047500 ┆ chr21   ┆ … ┆ T     ┆ C     ┆ 0.0    ┆ AC0;AS_VQSR │\n",
       "└─────────┴─────────┴─────────┴─────────┴───┴───────┴───────┴────────┴─────────────┘"
      ],
      "text/html": [
       "<div><style>\n",
       ".dataframe > thead > tr,\n",
       ".dataframe > tbody > tr {\n",
       "  text-align: right;\n",
       "  white-space: pre-wrap;\n",
       "}\n",
       "</style>\n",
       "<small>shape: (3, 18)</small><table border=\"1\" class=\"dataframe\"><thead><tr><th>chrom_1</th><th>start_1</th><th>end_1</th><th>chrom_2</th><th>start_2</th><th>end_2</th><th>id_1</th><th>ref_1</th><th>alt_1</th><th>qual_1</th><th>filter_1</th><th>svtype_1</th><th>svlen_1</th><th>id_2</th><th>ref_2</th><th>alt_2</th><th>qual_2</th><th>filter_2</th></tr><tr><td>str</td><td>i64</td><td>i64</td><td>str</td><td>i64</td><td>i64</td><td>str</td><td>str</td><td>str</td><td>f64</td><td>str</td><td>str</td><td>i64</td><td>str</td><td>str</td><td>str</td><td>f64</td><td>str</td></tr></thead><tbody><tr><td>&quot;chr21&quot;</td><td>5019150</td><td>5047500</td><td>&quot;chr21&quot;</td><td>5031905</td><td>5031905</td><td>&quot;gnomAD-SV_v3_DUP_chr21_029eb66…</td><td>&quot;N&quot;</td><td>&quot;&lt;DUP&gt;&quot;</td><td>34.0</td><td>&quot;PASS&quot;</td><td>&quot;DUP&quot;</td><td>28350</td><td>&quot;&quot;</td><td>&quot;C&quot;</td><td>&quot;A&quot;</td><td>0.0</td><td>&quot;AC0;AS_VQSR&quot;</td></tr><tr><td>&quot;chr21&quot;</td><td>5019150</td><td>5047500</td><td>&quot;chr21&quot;</td><td>5031905</td><td>5031905</td><td>&quot;gnomAD-SV_v3_DUP_chr21_029eb66…</td><td>&quot;N&quot;</td><td>&quot;&lt;DUP&gt;&quot;</td><td>34.0</td><td>&quot;PASS&quot;</td><td>&quot;DUP&quot;</td><td>28350</td><td>&quot;&quot;</td><td>&quot;C&quot;</td><td>&quot;T&quot;</td><td>0.0</td><td>&quot;AC0;AS_VQSR&quot;</td></tr><tr><td>&quot;chr21&quot;</td><td>5019150</td><td>5047500</td><td>&quot;chr21&quot;</td><td>5031909</td><td>5031909</td><td>&quot;gnomAD-SV_v3_DUP_chr21_029eb66…</td><td>&quot;N&quot;</td><td>&quot;&lt;DUP&gt;&quot;</td><td>34.0</td><td>&quot;PASS&quot;</td><td>&quot;DUP&quot;</td><td>28350</td><td>&quot;&quot;</td><td>&quot;T&quot;</td><td>&quot;C&quot;</td><td>0.0</td><td>&quot;AC0;AS_VQSR&quot;</td></tr></tbody></table></div>"
      ]
     },
     "execution_count": 8,
     "metadata": {},
     "output_type": "execute_result"
    }
   ],
   "execution_count": 8
  }
 ],
 "metadata": {
  "kernelspec": {
   "display_name": "Python 3",
   "language": "python",
   "name": "python3"
  },
  "language_info": {
   "codemirror_mode": {
    "name": "ipython",
    "version": 2
   },
   "file_extension": ".py",
   "mimetype": "text/x-python",
   "name": "python",
   "nbconvert_exporter": "python",
   "pygments_lexer": "ipython2",
   "version": "2.7.6"
  }
 },
 "nbformat": 4,
 "nbformat_minor": 5
}
