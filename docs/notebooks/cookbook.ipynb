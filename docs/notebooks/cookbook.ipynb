{
 "cells": [
  {
   "cell_type": "markdown",
   "id": "9edb21ee44b4588d",
   "metadata": {},
   "source": [
    "### 1. How to read gnomAD VCF files from Google Cloud Storage or AWS S3\n",
    "\n",
    "#### Google Cloud Storage"
   ]
  },
  {
   "cell_type": "code",
   "execution_count": null,
   "id": "62a7b57c30bf54e2",
   "metadata": {},
   "outputs": [],
   "source": [
    "import polars_bio as pb"
   ]
  },
  {
   "cell_type": "code",
   "execution_count": null,
   "id": "18e876b10c939ec",
   "metadata": {},
   "outputs": [],
   "source": [
    "gcs_vcf_path = (\n",
    "    \"gs://gcp-public-data--gnomad/release/4.1/genome_sv/gnomad.v4.1.sv.sites.vcf.gz\"\n",
    ")"
   ]
  },
  {
   "cell_type": "code",
   "execution_count": null,
   "id": "be837bf8b4fa42c3",
   "metadata": {},
   "outputs": [],
   "source": [
    "pb.read_vcf(gcs_vcf_path).limit(3).collect()"
   ]
  },
  {
   "cell_type": "markdown",
   "id": "34e7074ab7737e5f",
   "metadata": {},
   "source": "#### AWS S3"
  },
  {
   "cell_type": "code",
   "execution_count": null,
   "id": "ed76d621978bdfd4",
   "metadata": {},
   "outputs": [],
   "source": [
    "aws_s3_vcf_path = \"s3://gnomad-public-us-east-1/release/4.1/vcf/exomes/gnomad.exomes.v4.1.sites.chr21.vcf.bgz\""
   ]
  },
  {
   "cell_type": "code",
   "execution_count": null,
   "id": "de7090a7791f700c",
   "metadata": {},
   "outputs": [],
   "source": [
    "pb.read_vcf(aws_s3_vcf_path).limit(3).collect()"
   ]
  },
  {
   "cell_type": "markdown",
   "id": "e83ebde2199ac7c2",
   "metadata": {},
   "source": "### 2. How to specify additional VCF INFO fields to be parsed"
  },
  {
   "cell_type": "code",
   "execution_count": null,
   "id": "74c6011177d02267",
   "metadata": {},
   "outputs": [],
   "source": [
    "vcf_info_fields = [\"SVTYPE\", \"SVLEN\"]"
   ]
  }
 ],
 "metadata": {
  "kernelspec": {
   "display_name": "Python 3",
   "language": "python",
   "name": "python3"
  },
  "language_info": {
   "codemirror_mode": {
    "name": "ipython",
    "version": 2
   },
   "file_extension": ".py",
   "mimetype": "text/x-python",
   "name": "python",
   "nbconvert_exporter": "python",
   "pygments_lexer": "ipython2",
   "version": "2.7.6"
  }
 },
 "nbformat": 4,
 "nbformat_minor": 5
}
