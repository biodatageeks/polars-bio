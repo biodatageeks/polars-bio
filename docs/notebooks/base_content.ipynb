{
 "cells": [
  {
   "cell_type": "markdown",
   "metadata": {},
   "source": [
    "# Analiza zawartości zasad w sekwencjach FASTQ\n",
    "\n",
    "Ten notebook pokazuje jak:\n",
    "- sparsować plik FASTQ do DataFrame Polars,\n",
    "- wywołać funkcję Rust analizującą zawartość zasad na każdej pozycji,\n",
    "- zwizualizować wynik."
   ]
  },
  {
   "cell_type": "code",
   "execution_count": null,
   "metadata": {},
   "outputs": [],
   "source": [
    "# Importy\n",
    "import polars as pl\n",
    "from polars_bio.base_content import base_sequence_content, plot_base_content"
   ]
  },
  {
   "cell_type": "markdown",
   "metadata": {},
   "source": [
    "## Wczytaj przykładowy plik FASTQ i przygotuj DataFrame\n",
    "\n",
    "Zakładamy, że plik `example.fastq` znajduje się w katalogu wyżej (`../example.fastq`)."
   ]
  },
  {
   "cell_type": "code",
   "execution_count": null,
   "metadata": {},
   "outputs": [],
   "source": [
    "from polars_bio.io import read_fastq\n",
    "\n",
    "fastq_path = \"../example.fastq\"\n",
    "df = read_fastq(fastq_path)\n",
    "df.head()\n"
   ]
  },
  {
   "cell_type": "markdown",
   "metadata": {},
   "source": [
    "## Analiza zawartości zasad na każdej pozycji\n",
    "\n",
    "Wywołujemy funkcję Rust przez Python, która zwraca proporcje zasad A, T, G, C na każdej pozycji."
   ]
  },
  {
   "cell_type": "code",
   "execution_count": null,
   "metadata": {},
   "outputs": [],
   "source": [
    "base_content_df = base_sequence_content(df)\n",
    "base_content_df.head()"
   ]
  },
  {
   "cell_type": "markdown",
   "metadata": {},
   "source": [
    "## Wizualizacja zawartości zasad\n",
    "\n",
    "Wykres pokazuje proporcje zasad na każdej pozycji w odczytach."
   ]
  },
  {
   "cell_type": "code",
   "execution_count": null,
   "metadata": {},
   "outputs": [],
   "source": [
    "plot_base_content(base_content_df)"
   ]
  }
 ],
 "metadata": {
  "kernelspec": {
   "display_name": "Python 3",
   "language": "python",
   "name": "python3"
  },
  "language_info": {
   "name": "python"
  }
 },
 "nbformat": 4,
 "nbformat_minor": 2
}
