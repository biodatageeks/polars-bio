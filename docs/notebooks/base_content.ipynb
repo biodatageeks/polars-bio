{
 "cells": [
  {
   "cell_type": "markdown",
   "metadata": {},
   "source": [
    "# Analiza zawartości zasad w sekwencjach FASTQ\n",
    "\n",
    "Ten notebook pokazuje jak:\n",
    "- sparsować plik FASTQ do DataFrame Polars,\n",
    "- wywołać funkcję Rust analizującą zawartość zasad na każdej pozycji,\n",
    "- zwizualizować wynik."
   ]
  },
  {
   "cell_type": "code",
   "metadata": {},
   "source": [
    "# Importy\n",
    "import polars as pl\n",
    "from polars_bio.base_content import base_sequence_content, plot_base_content"
   ],
   "execution_count": null,
   "outputs": []
  },
  {
   "cell_type": "markdown",
   "metadata": {},
   "source": [
    "## Wczytaj przykładowy plik FASTQ i przygotuj DataFrame\n",
    "\n",
    "Zakładamy, że plik `example.fastq` znajduje się w katalogu wyżej (`../example.fastq`)."
   ]
  },
  {
   "cell_type": "code",
   "metadata": {},
   "source": [
    "from pathlib import Path\n",
    "\n",
    "def read_fastq_sequences(path):\n",
    "    \"\"\"\n",
    "    Prosty parser FASTQ: zwraca listę sekwencji nukleotydowych.\n",
    "    \"\"\"\n",
    "    sequences = []\n",
    "    with open(path) as f:\n",
    "        while True:\n",
    "            header = f.readline()\n",
    "            if not header:\n",
    "                break\n",
    "            seq = f.readline().strip()\n",
    "            plus = f.readline()\n",
    "            qual = f.readline()\n",
    "            if seq:\n",
    "                sequences.append(seq)\n",
    "    return sequences\n",
    "\n",
    "fastq_path = Path(\"../example.fastq\")\n",
    "sequences = read_fastq_sequences(fastq_path)\n",
    "\n",
    "# Tworzymy DataFrame Polars\n",
    "df = pl.DataFrame({\"sequence\": sequences})\n",
    "df.head()"
   ],
   "execution_count": null,
   "outputs": []
  },
  {
   "cell_type": "markdown",
   "metadata": {},
   "source": [
    "## Analiza zawartości zasad na każdej pozycji\n",
    "\n",
    "Wywołujemy funkcję Rust przez Python, która zwraca proporcje zasad A, T, G, C na każdej pozycji."
   ]
  },
  {
   "cell_type": "code",
   "metadata": {},
   "source": [
    "base_content_df = base_sequence_content(df)\n",
    "base_content_df.head()"
   ],
   "execution_count": null,
   "outputs": []
  },
  {
   "cell_type": "markdown",
   "metadata": {},
   "source": [
    "## Wizualizacja zawartości zasad\n",
    "\n",
    "Wykres pokazuje proporcje zasad na każdej pozycji w odczytach."
   ]
  },
  {
   "cell_type": "code",
   "metadata": {},
   "source": [
    "plot_base_content(base_content_df)"
   ],
   "execution_count": null,
   "outputs": []
  }
 ],
 "metadata": {
  "kernelspec": {
   "display_name": "Python 3",
   "language": "python",
   "name": "python3"
  },
  "language_info": {
   "name": "python"
  }
 },
 "nbformat": 4,
 "nbformat_minor": 2
}