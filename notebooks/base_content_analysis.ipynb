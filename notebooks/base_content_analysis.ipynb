{
 "cells": [
  {
   "cell_type": "markdown",
   "metadata": {},
   "source": [
    "# DNA Base Sequence Content Analysis\n",
    "\n",
    "This notebook demonstrates how to analyze and visualize the distribution of nucleotide bases in DNA sequence data using Polars and matplotlib."
   ]
  },
  {
   "cell_type": "markdown",
   "metadata": {},
   "source": [
    "## 0. Setup Environment\n",
    "\n",
    "Before we begin our analysis, we should clean up any temporary files created by DataFusion/Apache Arrow from previous runs. These temporary catalogs can accumulate over time as they are created each time we run queries."
   ]
  },
  {
   "cell_type": "code",
   "execution_count": null,
   "metadata": {},
   "outputs": [],
   "source": [
    "import os\n",
    "import shutil\n",
    "\n",
    "def cleanTMP():\n",
    "    tmp_path = os.path.join(os.getcwd(), 'tmp')\n",
    "    if os.path.exists(tmp_path):\n",
    "        print(f\"Usuwanie folderu tymczasowego: {tmp_path}\")\n",
    "        shutil.rmtree(tmp_path, ignore_errors=True)\n",
    "        print(\"Folder tymczasowy usunięty.\")\n",
    "    else:\n",
    "        print(\"Folder tymczasowy nie istnieje - brak potrzeby czyszczenia.\")\n",
    "\n",
    "cleanTMP()"
   ]
  },
  {
   "cell_type": "markdown",
   "metadata": {},
   "source": [
    "## 1. Create Sample DNA Sequence Data\n",
    "\n",
    "Let's import the necessary libraries for our analysis."
   ]
  },
  {
   "cell_type": "code",
   "execution_count": null,
   "metadata": {},
   "outputs": [],
   "source": [
    "import polars as pl\n",
    "import matplotlib.pyplot as plt\n",
    "import polars_bio as pb\n",
    "from polars_bio.quality_control_op import base_sequence_content\n",
    "from polars_bio.quality_control_viz import plot_base_content\n",
    "\n",
    "# Set matplotlib style for better visualizations\n",
    "plt.style.use('ggplot')\n",
    "%matplotlib inline"
   ]
  },
  {
   "cell_type": "markdown",
   "metadata": {},
   "source": [
    "Now we'll create a simple example dataset with DNA sequences."
   ]
  },
  {
   "cell_type": "code",
   "execution_count": null,
   "metadata": {},
   "outputs": [],
   "source": [
    "short_sequences = pl.DataFrame({\n",
    "    \"sequence\": [\"ATGC\", \"AAGC\", \"ATTC\", \"GTCC\"]\n",
    "})"
   ]
  },
  {
   "cell_type": "markdown",
   "metadata": {},
   "source": [
    "## 2. Analyze Base Sequence Content\n",
    "\n",
    "Now we'll use the `base_sequence_content` function to analyze the distribution of bases at each position."
   ]
  },
  {
   "cell_type": "code",
   "execution_count": null,
   "metadata": {},
   "outputs": [],
   "source": [
    "result = base_sequence_content(short_sequences)\n",
    "print(result)"
   ]
  },
  {
   "cell_type": "markdown",
   "metadata": {},
   "source": [
    "## 3. Visualize Base Distribution\n",
    "\n",
    "Let's visualize the distribution of bases at each position using our custom plotting function."
   ]
  },
  {
   "cell_type": "code",
   "execution_count": null,
   "metadata": {},
   "outputs": [],
   "source": [
    "plot_base_content(result, figsize=(10, 6))"
   ]
  },
  {
   "cell_type": "markdown",
   "metadata": {},
   "source": [
    "## 4. Creating More Realistic Data\n",
    "\n",
    "Generate a more realistic dataset with longer sequences to better visualize base content distribution."
   ]
  },
  {
   "cell_type": "code",
   "execution_count": null,
   "metadata": {},
   "outputs": [],
   "source": [
    "import random\n",
    "\n",
    "def generate_dna(length, n_freq=0.05):\n",
    "    bases = ['A', 'C', 'G', 'T']\n",
    "    sequence = []\n",
    "    for _ in range(length):\n",
    "        if random.random() < n_freq:\n",
    "            sequence.append('N')\n",
    "        else:\n",
    "            sequence.append(random.choice(bases))\n",
    "    return ''.join(sequence)\n",
    "\n",
    "random.seed(42)\n",
    "num_sequences = 100\n",
    "seq_length = 100\n",
    "\n",
    "sequences = [generate_dna(seq_length) for _ in range(num_sequences)]\n",
    "df_sequences = pl.DataFrame({\"sequence\": sequences})\n",
    "\n",
    "df_sequences.head()"
   ]
  },
  {
   "cell_type": "markdown",
   "metadata": {},
   "source": [
    "Analyze base content on our larger dataset"
   ]
  },
  {
   "cell_type": "code",
   "execution_count": null,
   "metadata": {},
   "outputs": [],
   "source": [
    "result_large = base_sequence_content(df_sequences)\n",
    "result_large.head()"
   ]
  },
  {
   "cell_type": "markdown",
   "metadata": {},
   "source": [
    "Plot the base content distribution for our larger dataset"
   ]
  },
  {
   "cell_type": "code",
   "execution_count": null,
   "metadata": {},
   "outputs": [],
   "source": [
    "plot_base_content(\n",
    "  result_large,\n",
    "  figsize=(12, 7),\n",
    "  title='Base Distribution Across Sequence Positions'\n",
    ")"
   ]
  },
  {
   "cell_type": "markdown",
   "metadata": {},
   "source": [
    "# 5. Processing Real FASTQ Data\n",
    "\n",
    "5.1 Tesing with FASTQ file directly using file path"
   ]
  },
  {
   "cell_type": "code",
   "execution_count": null,
   "metadata": {},
   "outputs": [],
   "source": [
    "fastq_path = \"../tests/data/quality_control/example.fastq\"\n",
    "\n",
    "# pb.ctx.set_option(\"datafusion.execution.target_partitions\", \"8\")\n",
    "\n",
    "fastq_results = pb.base_sequence_content(fastq_path)\n",
    "\n",
    "print(f\"Processed FASTQ file directly from path: {fastq_path}\")\n",
    "print(\"Base content analysis results (first 10 positions):\")\n",
    "print(fastq_results.head(10))\n",
    "\n",
    "max_a = fastq_results[\"a_count\"].max() if \"a_count\" in fastq_results.columns else 0\n",
    "max_t = fastq_results[\"t_count\"].max() if \"t_count\" in fastq_results.columns else 0\n",
    "max_g = fastq_results[\"g_count\"].max() if \"g_count\" in fastq_results.columns else 0\n",
    "max_c = fastq_results[\"c_count\"].max() if \"c_count\" in fastq_results.columns else 0\n",
    "max_n = fastq_results[\"n_count\"].max() if \"n_count\" in fastq_results.columns else 0\n",
    "\n",
    "print(f\"\\nMaximum counts - A: {max_a}, T: {max_t}, G: {max_g}, C: {max_c}, N: {max_n}\")\n",
    "\n",
    "plot_base_content(\n",
    "    fastq_results, \n",
    "    figsize=(14, 8), \n",
    "    title='Base Distribution in FASTQ Sequences'\n",
    ")"
   ]
  },
  {
   "cell_type": "markdown",
   "metadata": {},
   "source": [
    "5.2 Testing with LazyFrame Input"
   ]
  },
  {
   "cell_type": "code",
   "execution_count": null,
   "metadata": {},
   "outputs": [],
   "source": [
    "lazy_sequences = df_sequences.lazy()\n",
    "print(f\"Type of input: {type(lazy_sequences)}\")\n",
    "\n",
    "result_lazy = base_sequence_content(lazy_sequences)\n",
    "print(\"Result from LazyFrame input:\")\n",
    "print(result_lazy.head())\n",
    "\n",
    "plot_base_content(\n",
    "    result_lazy,\n",
    "    figsize=(12, 7),\n",
    "    title='Base Distribution (From LazyFrame Input)'\n",
    ")"
   ]
  },
  {
   "cell_type": "markdown",
   "metadata": {},
   "source": [
    "5.3 Testing with Pandas DataFrame Input"
   ]
  },
  {
   "cell_type": "code",
   "execution_count": null,
   "metadata": {},
   "outputs": [],
   "source": [
    "import pandas as pd\n",
    "pandas_sequences = df_sequences.to_pandas()\n",
    "print(f\"Type of input: {type(pandas_sequences)}\")\n",
    "\n",
    "result_pandas = base_sequence_content(pandas_sequences)\n",
    "print(\"Result from pandas DataFrame input:\")\n",
    "print(result_pandas.head())\n",
    "\n",
    "plot_base_content(\n",
    "    result_pandas,\n",
    "    figsize=(12, 7),\n",
    "    title='Base Distribution (From Pandas DataFrame Input)'\n",
    ")"
   ]
  },
  {
   "cell_type": "markdown",
   "metadata": {},
   "source": [
    "5.4 Testing with Parquet file Input"
   ]
  },
  {
   "cell_type": "code",
   "execution_count": null,
   "metadata": {},
   "outputs": [],
   "source": [
    "parquet_file_path = \"tmp.parquet\"\n",
    "df_sequences.write_parquet(parquet_file_path)\n",
    "\n",
    "result_parquet = base_sequence_content(parquet_file_path)\n",
    "print(\"Result from Parquet file input:\")\n",
    "print(result_parquet.head())\n",
    "\n",
    "plot_base_content(\n",
    "    result_parquet,\n",
    "    figsize=(12, 7),\n",
    "    title=\"Base Distribution (From Parquet file input)\"\n",
    ")"
   ]
  },
  {
   "cell_type": "markdown",
   "metadata": {},
   "source": [
    "# 6. Comparison fastq-rc library with our implementation\n",
    "\n",
    "⚠️ **CAUTION**: The performance comparison in the next cell is designed to work only on Linux-based systems. The benchmark uses `subprocess.run()` with shell commands to execute the `fqc` tool, which may not be available or may behave differently on other operating systems like Windows or macOS."
   ]
  },
  {
   "cell_type": "code",
   "execution_count": null,
   "metadata": {},
   "outputs": [],
   "source": [
    "import time\n",
    "import subprocess\n",
    "\n",
    "test_fastq_path = \"../tests/data/quality_control/example.fastq\"\n",
    "\n",
    "def measure_time(description, func, *args, **kwargs):\n",
    "    print(f\"Uruchamiam: {description}\")\n",
    "    start_time = time.time()\n",
    "    result = func(*args, **kwargs)\n",
    "    end_time = time.time()\n",
    "    elapsed = end_time - start_time\n",
    "    print(f\"Czas wykonania: {elapsed:.4f}s\")\n",
    "    print(\"-----------------------------\")\n",
    "    return result\n",
    "\n",
    "def run_fqc():\n",
    "    cmd = f\"fqc -q {test_fastq_path} > /dev/null\"\n",
    "    try:\n",
    "        subprocess.run(cmd, shell=True, check=True)\n",
    "        return True\n",
    "    except Exception as e:\n",
    "        print(f\"Error running fqc: {e}\")\n",
    "        return False\n",
    "\n",
    "def run_polars_bio_analysis():\n",
    "    try:\n",
    "        pb.base_sequence_content(test_fastq_path)\n",
    "        return True\n",
    "    except Exception as e:\n",
    "        print(f\"Error running base_sequence_content: {e}\")\n",
    "        return False\n",
    "\n",
    "measure_time(f\"fqc implementation\", run_fqc)\n",
    "measure_time(\"polars-bio implementation\", run_polars_bio_analysis)\n",
    "print(\"Comparison complete. Review execution times above.\")"
   ]
  },
  {
   "cell_type": "markdown",
   "metadata": {},
   "source": [
    "# 7. Clean up tmp files\n",
    "\n",
    "Clean up temporary files created during the analysis"
   ]
  },
  {
   "cell_type": "code",
   "execution_count": null,
   "metadata": {},
   "outputs": [],
   "source": [
    "cleanTMP()"
   ]
  }
 ],
 "metadata": {
  "kernelspec": {
   "display_name": "venv",
   "language": "python",
   "name": "python3"
  },
  "language_info": {
   "codemirror_mode": {
    "name": "ipython",
    "version": 3
   },
   "file_extension": ".py",
   "mimetype": "text/x-python",
   "name": "python",
   "nbconvert_exporter": "python",
   "pygments_lexer": "ipython3",
   "version": "3.13.3"
  }
 },
 "nbformat": 4,
 "nbformat_minor": 4
}
