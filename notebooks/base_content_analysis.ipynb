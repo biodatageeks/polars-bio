{
 "cells": [
  {
   "cell_type": "markdown",
   "metadata": {},
   "source": [
    "# DNA Base Sequence Content Analysis\n",
    "\n",
    "This notebook demonstrates how to analyze and visualize the distribution of nucleotide bases in DNA sequence data using Polars and matplotlib."
   ]
  },
  {
   "cell_type": "markdown",
   "metadata": {},
   "source": [
    "## 0. Setup Environment\n",
    "\n",
    "Before we begin our analysis, we should clean up any temporary files created by DataFusion/Apache Arrow from previous runs. These temporary catalogs can accumulate over time as they are created each time we run queries."
   ]
  },
  {
   "cell_type": "code",
   "execution_count": null,
   "metadata": {},
   "outputs": [],
   "source": [
    "import os\n",
    "import shutil\n",
    "\n",
    "def cleanTMP():\n",
    "    tmp_path = os.path.join(os.getcwd(), 'tmp')\n",
    "    if os.path.exists(tmp_path):\n",
    "        print(f\"Usuwanie folderu tymczasowego: {tmp_path}\")\n",
    "        shutil.rmtree(tmp_path, ignore_errors=True)\n",
    "        print(\"Folder tymczasowy usunięty.\")\n",
    "    else:\n",
    "        print(\"Folder tymczasowy nie istnieje - brak potrzeby czyszczenia.\")\n",
    "\n",
    "cleanTMP()"
   ]
  },
  {
   "cell_type": "markdown",
   "metadata": {},
   "source": [
    "## 1. Create Sample DNA Sequence Data\n",
    "\n",
    "Let's import the necessary libraries for our analysis."
   ]
  },
  {
   "cell_type": "code",
   "execution_count": null,
   "metadata": {},
   "outputs": [],
   "source": [
    "import polars as pl\n",
    "import matplotlib.pyplot as plt\n",
    "from polars_bio.quality_control_op import base_sequence_content\n",
    "from polars_bio.quality_control_viz import plot_base_content\n",
    "\n",
    "# Set matplotlib style for better visualizations\n",
    "plt.style.use('ggplot')\n",
    "%matplotlib inline"
   ]
  },
  {
   "cell_type": "markdown",
   "metadata": {},
   "source": [
    "Now we'll create a simple example dataset with DNA sequences."
   ]
  },
  {
   "cell_type": "code",
   "execution_count": null,
   "metadata": {},
   "outputs": [],
   "source": [
    "short_sequences = pl.DataFrame({\n",
    "    \"sequence\": [\"ATGC\", \"AAGC\", \"ATTC\", \"GTCC\"]\n",
    "})"
   ]
  },
  {
   "cell_type": "markdown",
   "metadata": {},
   "source": [
    "## 2. Analyze Base Sequence Content\n",
    "\n",
    "Now we'll use the `base_sequence_content` function to analyze the distribution of bases at each position."
   ]
  },
  {
   "cell_type": "code",
   "execution_count": null,
   "metadata": {},
   "outputs": [],
   "source": [
    "result = base_sequence_content(short_sequences)\n",
    "print(result)"
   ]
  },
  {
   "cell_type": "markdown",
   "metadata": {},
   "source": [
    "## 3. Visualize Base Distribution\n",
    "\n",
    "Let's visualize the distribution of bases at each position using our custom plotting function."
   ]
  },
  {
   "cell_type": "code",
   "execution_count": null,
   "metadata": {},
   "outputs": [],
   "source": [
    "plot_base_content(result, figsize=(10, 6))"
   ]
  },
  {
   "cell_type": "markdown",
   "metadata": {},
   "source": [
    "## 4. Creating More Realistic Data\n",
    "\n",
    "Generate a more realistic dataset with longer sequences to better visualize base content distribution."
   ]
  },
  {
   "cell_type": "code",
   "execution_count": null,
   "metadata": {},
   "outputs": [],
   "source": [
    "import random\n",
    "\n",
    "def generate_dna(length, n_freq=0.05):\n",
    "    bases = ['A', 'C', 'G', 'T']\n",
    "    sequence = []\n",
    "    for _ in range(length):\n",
    "        if random.random() < n_freq:\n",
    "            sequence.append('N')\n",
    "        else:\n",
    "            sequence.append(random.choice(bases))\n",
    "    return ''.join(sequence)\n",
    "\n",
    "random.seed(42)\n",
    "num_sequences = 100\n",
    "seq_length = 100\n",
    "\n",
    "sequences = [generate_dna(seq_length) for _ in range(num_sequences)]\n",
    "df_sequences = pl.DataFrame({\"sequence\": sequences})\n",
    "\n",
    "df_sequences.head()"
   ]
  },
  {
   "cell_type": "markdown",
   "metadata": {},
   "source": [
    "Analyze base content on our larger dataset"
   ]
  },
  {
   "cell_type": "code",
   "execution_count": null,
   "metadata": {},
   "outputs": [],
   "source": [
    "result_large = base_sequence_content(df_sequences)\n",
    "result_large.head()"
   ]
  },
  {
   "cell_type": "markdown",
   "metadata": {},
   "source": [
    "Plot the base content distribution for our larger dataset"
   ]
  },
  {
   "cell_type": "code",
   "execution_count": null,
   "metadata": {},
   "outputs": [],
   "source": [
    "plot_base_content(\n",
    "  result_large,\n",
    "  figsize=(12, 7),\n",
    "  title='Base Distribution Across Sequence Positions'\n",
    ")"
   ]
  },
  {
   "cell_type": "markdown",
   "metadata": {},
   "source": [
    "# 5. Processing Real FASTQ Data\n",
    "\n",
    "Extract sequences from the FASTQ file"
   ]
  },
  {
   "cell_type": "code",
   "execution_count": null,
   "metadata": {},
   "outputs": [],
   "source": [
    "fastq_path = \"./example.fastq\"\n",
    "\n",
    "def extract_sequences_from_fastq(file_path):\n",
    "    sequences = []\n",
    "    with open(file_path, 'r') as file:\n",
    "        lines = file.readlines()\n",
    "        for i in range(0, len(lines), 4):\n",
    "            if i+1 < len(lines):\n",
    "                sequence = lines[i+1].strip()\n",
    "                sequences.append(sequence)\n",
    "    return sequences\n",
    "\n",
    "sequences = extract_sequences_from_fastq(fastq_path)\n",
    "\n",
    "fastq_df = pl.DataFrame({\"sequence\": sequences})\n",
    "\n",
    "print(f\"Loaded {len(fastq_df)} sequences from FASTQ file\")\n",
    "print(\"\\nFirst 5 sequences:\")\n",
    "print(fastq_df.head(5))"
   ]
  },
  {
   "cell_type": "markdown",
   "metadata": {},
   "source": [
    "Process the sequences with base content analysis function"
   ]
  },
  {
   "cell_type": "code",
   "execution_count": null,
   "metadata": {},
   "outputs": [],
   "source": [
    "fastq_results = base_sequence_content(fastq_df)\n",
    "\n",
    "print(\"Base content analysis results (first 10 positions):\")\n",
    "print(fastq_results.head(10))\n",
    "\n",
    "max_a = fastq_results[\"a_count\"].max()\n",
    "max_t = fastq_results[\"t_count\"].max()\n",
    "max_g = fastq_results[\"g_count\"].max()\n",
    "max_c = fastq_results[\"c_count\"].max()\n",
    "max_n = fastq_results[\"n_count\"].max() if \"n_count\" in fastq_results.columns else 0\n",
    "\n",
    "print(f\"\\nMaximum counts - A: {max_a}, T: {max_t}, G: {max_g}, C: {max_c}, N: {max_n}\")"
   ]
  },
  {
   "cell_type": "markdown",
   "metadata": {},
   "source": [
    "Visualize Base Distribution in FASTQ Data"
   ]
  },
  {
   "cell_type": "code",
   "execution_count": null,
   "metadata": {},
   "outputs": [],
   "source": [
    "plot_base_content(\n",
    "    fastq_results, \n",
    "    figsize=(14, 8), \n",
    "    title='Base Distribution in FASTQ Sequences'\n",
    ")"
   ]
  },
  {
   "cell_type": "markdown",
   "metadata": {},
   "source": [
    "# 6. Clean up tmp files\n",
    "\n",
    "Clean up temporary files created during the analysis"
   ]
  },
  {
   "cell_type": "code",
   "execution_count": null,
   "metadata": {},
   "outputs": [],
   "source": [
    "cleanTMP()"
   ]
  }
 ],
 "metadata": {
  "kernelspec": {
   "display_name": "venv",
   "language": "python",
   "name": "python3"
  },
  "language_info": {
   "codemirror_mode": {
    "name": "ipython",
    "version": 3
   },
   "file_extension": ".py",
   "mimetype": "text/x-python",
   "name": "python",
   "nbconvert_exporter": "python",
   "pygments_lexer": "ipython3",
   "version": "3.13.0"
  }
 },
 "nbformat": 4,
 "nbformat_minor": 4
}
