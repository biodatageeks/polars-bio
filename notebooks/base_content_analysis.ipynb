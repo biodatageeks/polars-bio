{
 "cells": [
  {
   "cell_type": "markdown",
   "metadata": {},
   "source": [
    "# DNA Base Sequence Content Analysis\n",
    "\n",
    "This notebook demonstrates how to analyze and visualize the distribution of nucleotide bases in DNA sequence data using Polars and matplotlib."
   ]
  },
  {
   "cell_type": "markdown",
   "metadata": {},
   "source": [
    "## 0. Setup Environment\n",
    "\n",
    "Before we begin our analysis, we should clean up any temporary files created by DataFusion/Apache Arrow from previous runs. These temporary catalogs can accumulate over time as they are created each time we run queries."
   ]
  },
  {
   "cell_type": "code",
   "execution_count": null,
   "metadata": {},
   "outputs": [],
   "source": [
    "import os\n",
    "import shutil\n",
    "\n",
    "def cleanTMP():\n",
    "    tmp_path = os.path.join(os.getcwd(), 'tmp')\n",
    "    if os.path.exists(tmp_path):\n",
    "        print(f\"Usuwanie folderu tymczasowego: {tmp_path}\")\n",
    "        shutil.rmtree(tmp_path, ignore_errors=True)\n",
    "        print(\"Folder tymczasowy usunięty.\")\n",
    "    else:\n",
    "        print(\"Folder tymczasowy nie istnieje - brak potrzeby czyszczenia.\")\n",
    "\n",
    "cleanTMP()"
   ]
  },
  {
   "cell_type": "markdown",
   "metadata": {},
   "source": [
    "## 1. Create Sample DNA Sequence Data\n",
    "\n",
    "Let's import the necessary libraries for our analysis."
   ]
  },
  {
   "cell_type": "code",
   "execution_count": null,
   "metadata": {},
   "outputs": [],
   "source": [
    "import polars as pl\n",
    "import matplotlib.pyplot as plt\n",
    "from polars_bio.quality_control_op import base_sequence_content\n",
    "from polars_bio.quality_control_viz import plot_base_content\n",
    "\n",
    "# Set matplotlib style for better visualizations\n",
    "plt.style.use('ggplot')\n",
    "%matplotlib inline"
   ]
  },
  {
   "cell_type": "markdown",
   "metadata": {},
   "source": [
    "Now we'll create a simple example dataset with DNA sequences."
   ]
  },
  {
   "cell_type": "code",
   "execution_count": null,
   "metadata": {},
   "outputs": [],
   "source": [
    "# Simple example with short sequences\n",
    "short_sequences = pl.DataFrame({\n",
    "    \"sequence\": [\"ATGC\", \"AAGC\", \"ATTC\", \"GTCC\"]\n",
    "})"
   ]
  },
  {
   "cell_type": "markdown",
   "metadata": {},
   "source": [
    "## 2. Analyze Base Sequence Content\n",
    "\n",
    "Now we'll use the `base_sequence_content` function to analyze the distribution of bases at each position."
   ]
  },
  {
   "cell_type": "code",
   "execution_count": null,
   "metadata": {},
   "outputs": [],
   "source": [
    "# Calculate base content at each position\n",
    "result = base_sequence_content(short_sequences)\n",
    "print(result)"
   ]
  },
  {
   "cell_type": "markdown",
   "metadata": {},
   "source": [
    "## 3. Visualize Base Distribution\n",
    "\n",
    "Let's visualize the distribution of bases at each position using our custom plotting function."
   ]
  },
  {
   "cell_type": "code",
   "execution_count": null,
   "metadata": {},
   "outputs": [],
   "source": [
    "# Plot the base content distribution for our simple example\n",
    "plot_base_content(result, figsize=(10, 6))"
   ]
  },
  {
   "cell_type": "markdown",
   "metadata": {},
   "source": [
    "## 4. Creating More Realistic Data\n",
    "\n",
    "Let's generate a more realistic dataset with longer sequences to better visualize base content distribution."
   ]
  },
  {
   "cell_type": "code",
   "execution_count": null,
   "metadata": {},
   "outputs": [],
   "source": [
    "import random\n",
    "\n",
    "# Function to generate random DNA sequence\n",
    "def generate_dna(length, n_freq=0.05):\n",
    "    bases = ['A', 'C', 'G', 'T']\n",
    "    sequence = []\n",
    "    for _ in range(length):\n",
    "        if random.random() < n_freq:\n",
    "            sequence.append('N')  # Add some Ns with a small frequency\n",
    "        else:\n",
    "            sequence.append(random.choice(bases))\n",
    "    return ''.join(sequence)\n",
    "\n",
    "# Generate 100 random sequences of length 100\n",
    "random.seed(42)  # For reproducibility\n",
    "num_sequences = 100\n",
    "seq_length = 100\n",
    "\n",
    "sequences = [generate_dna(seq_length) for _ in range(num_sequences)]\n",
    "df_sequences = pl.DataFrame({\"sequence\": sequences})\n",
    "\n",
    "# Look at the first few sequences\n",
    "df_sequences.head()"
   ]
  },
  {
   "cell_type": "code",
   "execution_count": null,
   "metadata": {},
   "outputs": [],
   "source": [
    "# Analyze base content on our larger dataset\n",
    "result_large = base_sequence_content(df_sequences)\n",
    "result_large.head()"
   ]
  },
  {
   "cell_type": "code",
   "execution_count": null,
   "metadata": {},
   "outputs": [],
   "source": [
    "# Plot the base content distribution for our larger dataset\n",
    "plot_base_content(result_large, figsize=(12, 7), title='Base Distribution Across Sequence Positions')"
   ]
  },
  {
   "cell_type": "markdown",
   "metadata": {},
   "source": [
    "Clean up temporary files created during the analysis"
   ]
  },
  {
   "cell_type": "code",
   "execution_count": null,
   "metadata": {},
   "outputs": [],
   "source": [
    "cleanTMP()"
   ]
  }
 ],
 "metadata": {
  "kernelspec": {
   "display_name": "venv",
   "language": "python",
   "name": "python3"
  },
  "language_info": {
   "codemirror_mode": {
    "name": "ipython",
    "version": 3
   },
   "file_extension": ".py",
   "mimetype": "text/x-python",
   "name": "python",
   "nbconvert_exporter": "python",
   "pygments_lexer": "ipython3",
   "version": "3.13.3"
  }
 },
 "nbformat": 4,
 "nbformat_minor": 4
}
