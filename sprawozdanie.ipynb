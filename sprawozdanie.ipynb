{
 "cells": [
  {
   "cell_type": "markdown",
   "id": "1b84e9d0",
   "metadata": {},
   "source": [
    "## TBD Projekt 2\n",
    "Zespół 13: \n",
    "- Filip Misztal \n",
    "- Wiktor Niemirski \n",
    "- Stanisław Moska\n"
   ]
  },
  {
   "cell_type": "markdown",
   "id": "51ca55df",
   "metadata": {},
   "source": [
    "### Cel projektu\n",
    "Rozbudowano bibliotekę polars-bio o operację k-merów, zliczającą ich częstość w genomach z plików FASTQ. Implementację przeprowadzono w Rust."
   ]
  },
  {
   "cell_type": "markdown",
   "id": "df9ec629",
   "metadata": {},
   "source": [
    "Imports"
   ]
  },
  {
   "cell_type": "code",
   "execution_count": null,
   "id": "28d96494",
   "metadata": {
    "vscode": {
     "languageId": "plaintext"
    }
   },
   "outputs": [],
   "source": []
  },
  {
   "cell_type": "markdown",
   "id": "6a261afc",
   "metadata": {},
   "source": [
    "Ładowanie danych"
   ]
  },
  {
   "cell_type": "code",
   "execution_count": null,
   "id": "a0eee86d",
   "metadata": {
    "vscode": {
     "languageId": "plaintext"
    }
   },
   "outputs": [],
   "source": []
  },
  {
   "cell_type": "markdown",
   "id": "6f14f4a9",
   "metadata": {},
   "source": [
    "K-mers"
   ]
  },
  {
   "cell_type": "code",
   "execution_count": null,
   "id": "05a7dce5",
   "metadata": {
    "vscode": {
     "languageId": "plaintext"
    }
   },
   "outputs": [],
   "source": []
  },
  {
   "cell_type": "markdown",
   "id": "a48b63fd",
   "metadata": {},
   "source": [
    "Testy poprawności działania"
   ]
  },
  {
   "cell_type": "code",
   "execution_count": null,
   "id": "de4107ff",
   "metadata": {
    "vscode": {
     "languageId": "plaintext"
    }
   },
   "outputs": [],
   "source": []
  },
  {
   "cell_type": "markdown",
   "id": "c28470ee",
   "metadata": {},
   "source": [
    "Testy szybkości działania"
   ]
  },
  {
   "cell_type": "markdown",
   "id": "ccc86ca7",
   "metadata": {},
   "source": []
  },
  {
   "cell_type": "markdown",
   "id": "f29bab22",
   "metadata": {},
   "source": [
    "Wyniki"
   ]
  }
 ],
 "metadata": {
  "language_info": {
   "name": "python"
  }
 },
 "nbformat": 4,
 "nbformat_minor": 5
}
