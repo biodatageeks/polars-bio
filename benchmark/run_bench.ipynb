{
 "cells": [
  {
   "cell_type": "markdown",
   "id": "eb072f632cedbed3",
   "metadata": {},
   "source": "## Install dependencies"
  },
  {
   "cell_type": "code",
   "execution_count": null,
   "id": "initial_id",
   "metadata": {
    "collapsed": true
   },
   "outputs": [],
   "source": [
    "!pip install --force-reinstall bioframe==0.7.2 pyarrow fastparquet pyranges==0.1.2 pybedtools==0.10.0 git+https://gitlab.com/gtamazian/pygenomics.git"
   ]
  },
  {
   "cell_type": "markdown",
   "id": "11ecf3f76791210",
   "metadata": {},
   "source": "## Setup the environment\n"
  },
  {
   "cell_type": "code",
   "execution_count": 2,
   "id": "bc154f4724028a04",
   "metadata": {
    "ExecuteTime": {
     "end_time": "2024-12-11T23:03:32.669988Z",
     "start_time": "2024-12-11T23:03:32.666563Z"
    }
   },
   "outputs": [
    {
     "name": "stdout",
     "output_type": "stream",
     "text": [
      "env: BENCH_DATA_ROOT=/Users/mwiewior/research/git/openstack-bdg-runners/ansible/roles/gha_runner/files/databio\n",
      "env: SEQUILA_CLI=/Users/mwiewior/CLionProjects/sequila-native/target/release/sequila-cli\n"
     ]
    }
   ],
   "source": [
    "%env BENCH_DATA_ROOT=/Users/mwiewior/research/git/openstack-bdg-runners/ansible/roles/gha_runner/files/databio\n",
    "%env SEQUILA_CLI=/Users/mwiewior/CLionProjects/sequila-native/target/release/sequila-cli"
   ]
  },
  {
   "cell_type": "code",
   "execution_count": 3,
   "id": "ae490515180f0af4",
   "metadata": {
    "ExecuteTime": {
     "end_time": "2024-12-11T23:03:35.427474Z",
     "start_time": "2024-12-11T23:03:35.425418Z"
    }
   },
   "outputs": [],
   "source": [
    "import os\n",
    "BENCH_DATA_ROOT= os.getenv('BENCH_DATA_ROOT', '/data/bench_data/databio/')"
   ]
  },
  {
   "cell_type": "code",
   "execution_count": null,
   "id": "4ade8155f7bea44b",
   "metadata": {},
   "outputs": [],
   "source": [
    "import pandas as pd"
   ]
  },
  {
   "cell_type": "code",
   "execution_count": null,
   "id": "3621a226d6b36e61",
   "metadata": {},
   "outputs": [],
   "source": [
    "df_0=pd.read_parquet(f'{BENCH_DATA_ROOT}/chainRn4/', engine='pyarrow')\n",
    "df_1=pd.read_parquet(f'{BENCH_DATA_ROOT}/fBrain-DS14718/', engine='pyarrow')\n",
    "df_3=pd.read_parquet(f'{BENCH_DATA_ROOT}/chainOrnAna1/', engine='pyarrow')\n",
    "df_7=pd.read_parquet(f'{BENCH_DATA_ROOT}/ex-anno/', engine='pyarrow')\n",
    "df_8=pd.read_parquet(f'{BENCH_DATA_ROOT}/ex-rna/', engine='pyarrow')"
   ]
  },
  {
   "cell_type": "code",
   "execution_count": null,
   "id": "90831b206d78970a",
   "metadata": {},
   "outputs": [],
   "source": [
    "import bioframe as bf\n",
    "\n",
    "bf.overlap(df_0, df_1,cols1=('contig','pos_start','pos_end'), cols2=('contig','pos_start','pos_end'), how=\"inner\").count()"
   ]
  },
  {
   "cell_type": "code",
   "execution_count": 4,
   "id": "7a7e25a918672b12",
   "metadata": {
    "ExecuteTime": {
     "end_time": "2024-12-11T23:03:38.690900Z",
     "start_time": "2024-12-11T23:03:38.455518Z"
    }
   },
   "outputs": [
    {
     "name": "stdout",
     "output_type": "stream",
     "text": [
      "0 row(s) fetched. \n",
      "Elapsed 0.018 seconds.\n",
      "\n",
      "0 row(s) fetched. \n",
      "Elapsed 0.000 seconds.\n",
      "\n",
      "0 row(s) fetched. \n",
      "Elapsed 0.000 seconds.\n",
      "\n",
      "0 row(s) fetched. \n",
      "Elapsed 0.000 seconds.\n",
      "\n",
      "0 row(s) fetched. \n",
      "Elapsed 0.000 seconds.\n",
      "\n",
      "0 row(s) fetched. \n",
      "Elapsed 0.009 seconds.\n",
      "\n",
      "0 row(s) fetched. \n",
      "Elapsed 0.000 seconds.\n",
      "\n",
      "+-----------------+\n",
      "| count(Int64(1)) |\n",
      "+-----------------+\n",
      "| 320955          |\n",
      "+-----------------+\n",
      "1 row(s) fetched. \n",
      "Elapsed 0.138 seconds.\n",
      "\n"
     ]
    }
   ],
   "source": [
    "%%bash\n",
    "$SEQUILA_CLI --file queries/0-1.sql"
   ]
  },
  {
   "cell_type": "code",
   "execution_count": null,
   "id": "fcb27a787b8b7c97",
   "metadata": {},
   "outputs": [],
   "source": [
    "bf.overlap(df_0, df_3,cols1=('contig','pos_start','pos_end'), cols2=('contig','pos_start','pos_end'), how=\"inner\").count()"
   ]
  },
  {
   "cell_type": "code",
   "execution_count": null,
   "id": "186b1e6fca447dc7",
   "metadata": {},
   "outputs": [],
   "source": [
    "%%bash\n",
    "$SEQUILA_CLI --file queries/0-3.sql"
   ]
  },
  {
   "cell_type": "code",
   "execution_count": null,
   "id": "74d31db9ac48f44f",
   "metadata": {},
   "outputs": [],
   "source": [
    "bf.overlap(df_0, df_8,cols1=('contig','pos_start','pos_end'), cols2=('contig','pos_start','pos_end'), how=\"inner\").count()"
   ]
  },
  {
   "cell_type": "code",
   "execution_count": null,
   "id": "bd5a331edde24cb1",
   "metadata": {},
   "outputs": [],
   "source": [
    "%%bash\n",
    "$SEQUILA_CLI --file queries/0-8.sql"
   ]
  },
  {
   "cell_type": "code",
   "execution_count": null,
   "id": "d35eb67e7a3a3822",
   "metadata": {},
   "outputs": [],
   "source": [
    "bf.overlap(df_7, df_8,cols1=('contig','pos_start','pos_end'), cols2=('contig','pos_start','pos_end'), how=\"inner\").count()"
   ]
  },
  {
   "cell_type": "code",
   "execution_count": null,
   "id": "d480fbb838b5a255",
   "metadata": {},
   "outputs": [],
   "source": [
    "%%bash\n",
    "$SEQUILA_CLI --file queries/7-8.sql"
   ]
  },
  {
   "cell_type": "markdown",
   "id": "958f97c5c7016f52",
   "metadata": {},
   "source": "### pyranges"
  },
  {
   "cell_type": "code",
   "execution_count": null,
   "id": "ab270537110baba2",
   "metadata": {},
   "outputs": [],
   "source": [
    "import pyranges as pr\n",
    "\n",
    "def df2pr(df):\n",
    "    return pr.PyRanges(\n",
    "        chromosomes=df.contig,\n",
    "        starts=df.pos_start,\n",
    "        ends=df.pos_end,\n",
    "    )"
   ]
  },
  {
   "cell_type": "code",
   "execution_count": null,
   "id": "920fc6c0e98b23d4",
   "metadata": {},
   "outputs": [],
   "source": [
    "df_0_pr = df2pr(df_0)\n",
    "df_1_pr = df2pr(df_1)\n",
    "df_3_pr = df2pr(df_3)\n",
    "df_7_pr = df2pr(df_7)\n",
    "df_8_pr = df2pr(df_8)"
   ]
  },
  {
   "cell_type": "code",
   "execution_count": null,
   "id": "f57a68d0ca3e6894",
   "metadata": {},
   "outputs": [],
   "source": [
    "len(df_0_pr.join(df_1_pr))"
   ]
  },
  {
   "cell_type": "code",
   "execution_count": null,
   "id": "61d44780f5eed493",
   "metadata": {},
   "outputs": [],
   "source": [
    "len(df_0_pr.join(df_3_pr))"
   ]
  },
  {
   "cell_type": "code",
   "execution_count": null,
   "id": "3bad2681af94f295",
   "metadata": {},
   "outputs": [],
   "source": [
    "len(df_0_pr.join(df_8_pr))"
   ]
  },
  {
   "cell_type": "code",
   "execution_count": null,
   "id": "673b2468c4418264",
   "metadata": {},
   "outputs": [],
   "source": [
    "len(df_7_pr.join(df_8_pr))"
   ]
  },
  {
   "cell_type": "markdown",
   "id": "1eb620562954f9c3",
   "metadata": {},
   "source": "### pybedtools"
  },
  {
   "cell_type": "code",
   "execution_count": null,
   "id": "8838e8e4ff90fc0f",
   "metadata": {},
   "outputs": [],
   "source": [
    "import pybedtools\n"
   ]
  },
  {
   "cell_type": "code",
   "execution_count": null,
   "id": "998842945f3e529a",
   "metadata": {},
   "outputs": [],
   "source": [
    "df_0_bed = pybedtools.BedTool.from_dataframe(df_0)\n",
    "df_1_bed = pybedtools.BedTool.from_dataframe(df_1)\n",
    "df_3_bed = pybedtools.BedTool.from_dataframe(df_3)\n",
    "df_7_bed = pybedtools.BedTool.from_dataframe(df_7)\n",
    "df_8_bed = pybedtools.BedTool.from_dataframe(df_8)"
   ]
  },
  {
   "cell_type": "code",
   "execution_count": null,
   "id": "78ca9b3a2e476162",
   "metadata": {},
   "outputs": [],
   "source": [
    "df_0_bed.intersect(df_1_bed).count()"
   ]
  },
  {
   "cell_type": "code",
   "execution_count": null,
   "id": "45f3fa54c1ac185d",
   "metadata": {},
   "outputs": [],
   "source": [
    "df_0_bed.intersect(df_3_bed).count()"
   ]
  },
  {
   "cell_type": "code",
   "execution_count": null,
   "id": "e04aee9aa177d52c",
   "metadata": {},
   "outputs": [],
   "source": [
    "df_0_bed.intersect(df_8_bed).count()"
   ]
  },
  {
   "cell_type": "code",
   "execution_count": null,
   "id": "af842070d00c48db",
   "metadata": {},
   "outputs": [],
   "source": [
    "df_7_bed.intersect(df_8_bed).count()"
   ]
  },
  {
   "cell_type": "markdown",
   "id": "7808a7e53de88910",
   "metadata": {},
   "source": "### pygenomics"
  },
  {
   "cell_type": "code",
   "execution_count": null,
   "id": "3438785aa2066da2",
   "metadata": {},
   "outputs": [],
   "source": [
    "from pygenomics.interval import GenomicBase\n",
    "import itertools\n"
   ]
  },
  {
   "cell_type": "code",
   "execution_count": null,
   "id": "23807573c7e55fc1",
   "metadata": {},
   "outputs": [],
   "source": [
    "df_0_pg = GenomicBase([(r.contig, r.pos_start, r.pos_end) for r in df_0.itertuples()])"
   ]
  },
  {
   "cell_type": "code",
   "execution_count": null,
   "id": "d7fe544b1190fbd",
   "metadata": {},
   "outputs": [],
   "source": [
    "df_1_pg = GenomicBase([(r.contig, r.pos_start, r.pos_end) for r in df_1.itertuples()])"
   ]
  },
  {
   "cell_type": "code",
   "execution_count": null,
   "id": "3401359170ce0752",
   "metadata": {},
   "outputs": [],
   "source": [
    "df_7_pg = GenomicBase([(r.contig, r.pos_start, r.pos_end) for r in df_7.itertuples()])"
   ]
  },
  {
   "cell_type": "code",
   "execution_count": null,
   "id": "787ca4a4c8162110",
   "metadata": {},
   "outputs": [],
   "source": [
    "df_1_a = df_1.values.tolist()\n",
    "df_3_a = df_3.values.tolist()\n",
    "df_8_a = df_8.values.tolist()\n",
    "\n"
   ]
  },
  {
   "cell_type": "code",
   "execution_count": null,
   "id": "7dc826a7e22d234c",
   "metadata": {},
   "outputs": [],
   "source": [
    "df_1_a[1]"
   ]
  },
  {
   "cell_type": "code",
   "execution_count": null,
   "id": "22d742fe4f7a5581",
   "metadata": {},
   "outputs": [],
   "source": [
    "len(list(itertools.chain.from_iterable([df_0_pg.find_all((r[0], r[1], r[2])) for r in df_1_a])))"
   ]
  },
  {
   "cell_type": "code",
   "execution_count": null,
   "id": "6b776729965815f2",
   "metadata": {},
   "outputs": [],
   "source": [
    "#slower than array\n",
    "#len(list(itertools.chain.from_iterable([df_0_pg.find_all((r.contig, r.pos_start, r.pos_end)) for r in df_3.itertuples()])))\n"
   ]
  },
  {
   "cell_type": "code",
   "execution_count": null,
   "id": "2c1e2dd48f2406e1",
   "metadata": {},
   "outputs": [],
   "source": [
    "len(list(itertools.chain.from_iterable([df_0_pg.find_all((r[0], r[1], r[2])) for r in df_3_a])))"
   ]
  },
  {
   "cell_type": "code",
   "execution_count": null,
   "id": "5f1194dc906f8944",
   "metadata": {},
   "outputs": [],
   "source": [
    "len(list(itertools.chain.from_iterable([df_0_pg.find_all((r[0], r[1], r[2])) for r in df_8_a])))"
   ]
  },
  {
   "cell_type": "code",
   "execution_count": null,
   "id": "79a036041cdbc3b3",
   "metadata": {},
   "outputs": [],
   "source": [
    "len(list(itertools.chain.from_iterable([df_7_pg.find_all((r.contig, r.pos_start, r.pos_end)) for r in df_8.itertuples()])))"
   ]
  },
  {
   "cell_type": "code",
   "execution_count": null,
   "id": "37203b78de5f8e3b",
   "metadata": {},
   "outputs": [],
   "source": [
    "len(list(itertools.chain.from_iterable([df_7_pg.find_all((r[0], r[1], r[2])) for r in df_8_a ])))"
   ]
  },
  {
   "cell_type": "code",
   "execution_count": null,
   "id": "9d637ac58bcbc60e",
   "metadata": {},
   "outputs": [],
   "source": []
  },
  {
   "cell_type": "markdown",
   "id": "2d7c7ab26897912",
   "metadata": {},
   "source": ""
  },
  {
   "cell_type": "code",
   "id": "f77062ce640cc526",
   "metadata": {
    "ExecuteTime": {
     "end_time": "2024-12-13T15:23:49.587766Z",
     "start_time": "2024-12-13T15:23:49.239179Z"
    }
   },
   "source": [
    "import matplotlib.pyplot as plt\n",
    "import numpy as np\n",
    "def plot_metrics(metrics, labels, title):\n",
    "    x = np.arange(len(labels))  # the label locations\n",
    "    width = 0.10  # the width of the bars\n",
    "    fig, ax = plt.subplots()\n",
    "    k = 0\n",
    "    for m in metrics:\n",
    "        ax.bar(\n",
    "            x + width * k,\n",
    "            [metrics[m][\"0-1\"], metrics[m][\"0-3\"], metrics[m][\"0-8\"], metrics[m][\"7-8\"]],\n",
    "            width,\n",
    "            label=m,\n",
    "        )\n",
    "        k += 1\n",
    "    ax.set_xticks(x)\n",
    "    ax.set_xticklabels(labels)\n",
    "    ax.set_ylabel(\"Time [s]\")\n",
    "    ax.set_title(title)\n",
    "    ax.legend(loc=\"upper center\", bbox_to_anchor=(0.5, -0.05), shadow=True, ncol=4)\n",
    "    ax.grid(True)\n",
    "    fig.set_size_inches(10, 5)\n",
    "    plt.show()"
   ],
   "outputs": [],
   "execution_count": 5
  },
  {
   "cell_type": "code",
   "execution_count": null,
   "id": "75aba28753e4572c",
   "metadata": {},
   "outputs": [],
   "source": [
    "#pygenomic uses ge/lte for comparison - results differ\n",
    "\n",
    "metrics = {\n",
    "    \"seq-native\":       {\"0-1\": 0.144, \"0-3\": 9.425, \"0-8\": 3.374, \"7-8\": 4.756},\n",
    "    \"polars-bio-nat-pl-lf\" :     {\"0-1\": 0.164, \"0-3\": 9.248, \"0-8\": 3.470, \"7-8\": 5.090},\n",
    "    \"polars-bio-nat-pl-df\" :   {\"0-1\": 0.145, \"0-3\": 24.668, \"0-8\": 4.210, \"7-8\": 6.698},\n",
    "    \"polars-bio-nat-pd-df\" :   {\"0-1\": 0.150, \"0-3\": 41.995, \"0-8\": 6.392, \"7-8\": 10.639},\n",
    "    \"Bioframe\":             {\"0-1\": 0.559, \"0-3\": 196.0, \"0-8\": 21.128, \"7-8\": 41.103},\n",
    "    \"PyRanges\":             {\"0-1\": 0.135, \"0-3\": 92.0, \"0-8\": 10.629, \"7-8\": 19.461},\n",
    "    \"PyBedTools\":           {\"0-1\": 1.512, \"0-3\": 2029.0, \"0-8\": 350.0, \"7-8\": 611.0},\n",
    "    \"PyGenomics\":           {\"0-1\": 1.579, \"0-3\": 487.0, \"0-8\": 153.0, \"7-8\": 193},\n",
    "}\n",
    "plot_metrics(\n",
    "    metrics, [\"0-1\", \"0-3\", \"0-8\",\"7-8\"], \"Overlap performance comparison\"\n",
    ")"
   ]
  },
  {
   "cell_type": "code",
   "id": "657a85d9bf76f15c",
   "metadata": {
    "ExecuteTime": {
     "end_time": "2024-12-13T15:24:43.293282Z",
     "start_time": "2024-12-13T15:24:43.236555Z"
    }
   },
   "source": [
    "metrics = {\n",
    "    \"polars-bio-pl-df--pl-lf\" :     {\"0-1\": 0.147, \"0-3\": 44.942, \"0-8\": 6.096, \"7-8\": 9.522},\n",
    "    \"polars-bio-pd-df--pl-lf\" :   {\"0-1\": 0.177, \"0-3\": 43.369, \"0-8\": 6.241, \"7-8\": 9.688},\n",
    "    \"polars-bio-pd-df--pd-df\" :   {\"0-1\": 0.175 , \"0-3\": 51.226 , \"0-8\": 7.435 , \"7-8\": 11.756 },\n",
    "}\n",
    "plot_metrics(\n",
    "    metrics, [\"0-1\", \"0-3\", \"0-8\",\"7-8\"], \"Overlap performance comparison between DataFrames\"\n",
    ")"
   ],
   "outputs": [
    {
     "data": {
      "text/plain": [
       "<Figure size 1000x500 with 1 Axes>"
      ],
      "image/png": "[encoded data removed]"
     },
     "metadata": {},
     "output_type": "display_data"
    }
   ],
   "execution_count": 8
  },
  {
   "metadata": {},
   "cell_type": "code",
   "outputs": [],
   "execution_count": null,
   "source": "",
   "id": "d67c2ecce87533b8"
  }
 ],
 "metadata": {
  "kernelspec": {
   "display_name": "Python 3",
   "language": "python",
   "name": "python3"
  },
  "language_info": {
   "codemirror_mode": {
    "name": "ipython",
    "version": 2
   },
   "file_extension": ".py",
   "mimetype": "text/x-python",
   "name": "python",
   "nbconvert_exporter": "python",
   "pygments_lexer": "ipython2",
   "version": "2.7.6"
  }
 },
 "nbformat": 4,
 "nbformat_minor": 5
}
