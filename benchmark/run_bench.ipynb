{
 "cells": [
  {
   "metadata": {},
   "cell_type": "markdown",
   "source": "## Install dependencies",
   "id": "eb072f632cedbed3"
  },
  {
   "metadata": {
    "collapsed": true,
    "ExecuteTime": {
     "end_time": "2024-12-01T16:52:27.461042Z",
     "start_time": "2024-12-01T16:52:13.376657Z"
    }
   },
   "cell_type": "code",
   "source": "!pip install --force-reinstall bioframe==0.7.2 pyarrow fastparquet pyranges",
   "id": "initial_id",
   "outputs": [
    {
     "name": "stdout",
     "output_type": "stream",
     "text": [
      "\u001B[33mDEPRECATION: Loading egg at /Users/mwiewior/.pyenv/versions/miniconda3-latest/lib/python3.12/site-packages/six-1.16.0-py3.12.egg is deprecated. pip 24.3 will enforce this behaviour change. A possible replacement is to use pip for package installation.. Discussion can be found at https://github.com/pypa/pip/issues/12330\u001B[0m\u001B[33m\r\n",
      "\u001B[0m\u001B[33mDEPRECATION: Loading egg at /Users/mwiewior/.pyenv/versions/miniconda3-latest/lib/python3.12/site-packages/bllipparser-2021.11.7-py3.12-macosx-11.1-arm64.egg is deprecated. pip 24.3 will enforce this behaviour change. A possible replacement is to use pip for package installation.. Discussion can be found at https://github.com/pypa/pip/issues/12330\u001B[0m\u001B[33m\r\n",
      "\u001B[0m\u001B[33mDEPRECATION: Loading egg at /Users/mwiewior/.pyenv/versions/miniconda3-latest/lib/python3.12/site-packages/owl2vec_star-0.2.1-py3.12.egg is deprecated. pip 24.3 will enforce this behaviour change. A possible replacement is to use pip for package installation.. Discussion can be found at https://github.com/pypa/pip/issues/12330\u001B[0m\u001B[33m\r\n",
      "\u001B[0mCollecting bioframe==0.7.2\r\n",
      "  Using cached bioframe-0.7.2-py2.py3-none-any.whl.metadata (7.3 kB)\r\n",
      "Collecting pyarrow\r\n",
      "  Using cached pyarrow-18.1.0-cp312-cp312-macosx_12_0_arm64.whl.metadata (3.3 kB)\r\n",
      "Collecting fastparquet\r\n",
      "  Using cached fastparquet-2024.11.0-cp312-cp312-macosx_11_0_arm64.whl.metadata (4.2 kB)\r\n",
      "Collecting pyranges\r\n",
      "  Using cached pyranges-0.1.2-py3-none-any.whl.metadata (3.6 kB)\r\n",
      "Collecting matplotlib (from bioframe==0.7.2)\r\n",
      "  Using cached matplotlib-3.9.3-cp312-cp312-macosx_11_0_arm64.whl.metadata (11 kB)\r\n",
      "Collecting numpy<2,>=1.10 (from bioframe==0.7.2)\r\n",
      "  Using cached numpy-1.26.4-cp312-cp312-macosx_11_0_arm64.whl.metadata (61 kB)\r\n",
      "Collecting pandas>=1.3 (from bioframe==0.7.2)\r\n",
      "  Using cached pandas-2.2.3-cp312-cp312-macosx_11_0_arm64.whl.metadata (89 kB)\r\n",
      "Collecting pyyaml (from bioframe==0.7.2)\r\n",
      "  Using cached PyYAML-6.0.2-cp312-cp312-macosx_11_0_arm64.whl.metadata (2.1 kB)\r\n",
      "Collecting requests (from bioframe==0.7.2)\r\n",
      "  Using cached requests-2.32.3-py3-none-any.whl.metadata (4.6 kB)\r\n",
      "Collecting cramjam>=2.3 (from fastparquet)\r\n",
      "  Using cached cramjam-2.9.0-cp312-cp312-macosx_11_0_arm64.whl.metadata (4.9 kB)\r\n",
      "Collecting fsspec (from fastparquet)\r\n",
      "  Using cached fsspec-2024.10.0-py3-none-any.whl.metadata (11 kB)\r\n",
      "Collecting packaging (from fastparquet)\r\n",
      "  Using cached packaging-24.2-py3-none-any.whl.metadata (3.2 kB)\r\n",
      "Collecting ncls>=0.0.63 (from pyranges)\r\n",
      "  Using cached ncls-0.0.68-cp312-cp312-macosx_11_0_arm64.whl\r\n",
      "Collecting tabulate (from pyranges)\r\n",
      "  Using cached tabulate-0.9.0-py3-none-any.whl.metadata (34 kB)\r\n",
      "Collecting sorted-nearest>=0.0.33 (from pyranges)\r\n",
      "  Using cached sorted_nearest-0.0.39-cp312-cp312-macosx_11_0_arm64.whl\r\n",
      "Collecting natsort (from pyranges)\r\n",
      "  Using cached natsort-8.4.0-py3-none-any.whl.metadata (21 kB)\r\n",
      "Collecting python-dateutil>=2.8.2 (from pandas>=1.3->bioframe==0.7.2)\r\n",
      "  Using cached python_dateutil-2.9.0.post0-py2.py3-none-any.whl.metadata (8.4 kB)\r\n",
      "Collecting pytz>=2020.1 (from pandas>=1.3->bioframe==0.7.2)\r\n",
      "  Using cached pytz-2024.2-py2.py3-none-any.whl.metadata (22 kB)\r\n",
      "Collecting tzdata>=2022.7 (from pandas>=1.3->bioframe==0.7.2)\r\n",
      "  Using cached tzdata-2024.2-py2.py3-none-any.whl.metadata (1.4 kB)\r\n",
      "Collecting contourpy>=1.0.1 (from matplotlib->bioframe==0.7.2)\r\n",
      "  Using cached contourpy-1.3.1-cp312-cp312-macosx_11_0_arm64.whl.metadata (5.4 kB)\r\n",
      "Collecting cycler>=0.10 (from matplotlib->bioframe==0.7.2)\r\n",
      "  Using cached cycler-0.12.1-py3-none-any.whl.metadata (3.8 kB)\r\n",
      "Collecting fonttools>=4.22.0 (from matplotlib->bioframe==0.7.2)\r\n",
      "  Using cached fonttools-4.55.0-cp312-cp312-macosx_10_13_universal2.whl.metadata (164 kB)\r\n",
      "Collecting kiwisolver>=1.3.1 (from matplotlib->bioframe==0.7.2)\r\n",
      "  Using cached kiwisolver-1.4.7-cp312-cp312-macosx_11_0_arm64.whl.metadata (6.3 kB)\r\n",
      "Collecting pillow>=8 (from matplotlib->bioframe==0.7.2)\r\n",
      "  Using cached pillow-11.0.0-cp312-cp312-macosx_11_0_arm64.whl.metadata (9.1 kB)\r\n",
      "Collecting pyparsing>=2.3.1 (from matplotlib->bioframe==0.7.2)\r\n",
      "  Using cached pyparsing-3.2.0-py3-none-any.whl.metadata (5.0 kB)\r\n",
      "Collecting charset-normalizer<4,>=2 (from requests->bioframe==0.7.2)\r\n",
      "  Using cached charset_normalizer-3.4.0-cp312-cp312-macosx_11_0_arm64.whl.metadata (34 kB)\r\n",
      "Collecting idna<4,>=2.5 (from requests->bioframe==0.7.2)\r\n",
      "  Using cached idna-3.10-py3-none-any.whl.metadata (10 kB)\r\n",
      "Collecting urllib3<3,>=1.21.1 (from requests->bioframe==0.7.2)\r\n",
      "  Using cached urllib3-2.2.3-py3-none-any.whl.metadata (6.5 kB)\r\n",
      "Collecting certifi>=2017.4.17 (from requests->bioframe==0.7.2)\r\n",
      "  Using cached certifi-2024.8.30-py3-none-any.whl.metadata (2.2 kB)\r\n",
      "Collecting six>=1.5 (from python-dateutil>=2.8.2->pandas>=1.3->bioframe==0.7.2)\r\n",
      "  Using cached six-1.16.0-py2.py3-none-any.whl.metadata (1.8 kB)\r\n",
      "Using cached bioframe-0.7.2-py2.py3-none-any.whl (151 kB)\r\n",
      "Using cached pyarrow-18.1.0-cp312-cp312-macosx_12_0_arm64.whl (29.5 MB)\r\n",
      "Using cached fastparquet-2024.11.0-cp312-cp312-macosx_11_0_arm64.whl (685 kB)\r\n",
      "Using cached pyranges-0.1.2-py3-none-any.whl (1.5 MB)\r\n",
      "Using cached cramjam-2.9.0-cp312-cp312-macosx_11_0_arm64.whl (1.9 MB)\r\n",
      "Using cached numpy-1.26.4-cp312-cp312-macosx_11_0_arm64.whl (13.7 MB)\r\n",
      "Using cached pandas-2.2.3-cp312-cp312-macosx_11_0_arm64.whl (11.4 MB)\r\n",
      "Using cached fsspec-2024.10.0-py3-none-any.whl (179 kB)\r\n",
      "Using cached matplotlib-3.9.3-cp312-cp312-macosx_11_0_arm64.whl (7.8 MB)\r\n",
      "Using cached packaging-24.2-py3-none-any.whl (65 kB)\r\n",
      "Using cached natsort-8.4.0-py3-none-any.whl (38 kB)\r\n",
      "Using cached PyYAML-6.0.2-cp312-cp312-macosx_11_0_arm64.whl (173 kB)\r\n",
      "Using cached requests-2.32.3-py3-none-any.whl (64 kB)\r\n",
      "Using cached tabulate-0.9.0-py3-none-any.whl (35 kB)\r\n",
      "Using cached certifi-2024.8.30-py3-none-any.whl (167 kB)\r\n",
      "Using cached charset_normalizer-3.4.0-cp312-cp312-macosx_11_0_arm64.whl (119 kB)\r\n",
      "Using cached contourpy-1.3.1-cp312-cp312-macosx_11_0_arm64.whl (255 kB)\r\n",
      "Using cached cycler-0.12.1-py3-none-any.whl (8.3 kB)\r\n",
      "Using cached fonttools-4.55.0-cp312-cp312-macosx_10_13_universal2.whl (2.8 MB)\r\n",
      "Using cached idna-3.10-py3-none-any.whl (70 kB)\r\n",
      "Using cached kiwisolver-1.4.7-cp312-cp312-macosx_11_0_arm64.whl (63 kB)\r\n",
      "Using cached pillow-11.0.0-cp312-cp312-macosx_11_0_arm64.whl (3.0 MB)\r\n",
      "Using cached pyparsing-3.2.0-py3-none-any.whl (106 kB)\r\n",
      "Using cached python_dateutil-2.9.0.post0-py2.py3-none-any.whl (229 kB)\r\n",
      "Using cached pytz-2024.2-py2.py3-none-any.whl (508 kB)\r\n",
      "Using cached tzdata-2024.2-py2.py3-none-any.whl (346 kB)\r\n",
      "Using cached urllib3-2.2.3-py3-none-any.whl (126 kB)\r\n",
      "Using cached six-1.16.0-py2.py3-none-any.whl (11 kB)\r\n",
      "Installing collected packages: pytz, urllib3, tzdata, tabulate, six, pyyaml, pyparsing, pyarrow, pillow, packaging, numpy, natsort, kiwisolver, idna, fsspec, fonttools, cycler, cramjam, charset-normalizer, certifi, sorted-nearest, requests, python-dateutil, ncls, contourpy, pandas, matplotlib, pyranges, fastparquet, bioframe\r\n",
      "  Attempting uninstall: pytz\r\n",
      "    Found existing installation: pytz 2024.1\r\n",
      "    Uninstalling pytz-2024.1:\r\n",
      "      Successfully uninstalled pytz-2024.1\r\n",
      "  Attempting uninstall: urllib3\r\n",
      "    Found existing installation: urllib3 2.2.2\r\n",
      "    Uninstalling urllib3-2.2.2:\r\n",
      "      Successfully uninstalled urllib3-2.2.2\r\n",
      "  Attempting uninstall: tzdata\r\n",
      "    Found existing installation: tzdata 2024.1\r\n",
      "    Uninstalling tzdata-2024.1:\r\n",
      "      Successfully uninstalled tzdata-2024.1\r\n",
      "  Attempting uninstall: tabulate\r\n",
      "    Found existing installation: tabulate 0.9.0\r\n",
      "    Uninstalling tabulate-0.9.0:\r\n",
      "      Successfully uninstalled tabulate-0.9.0\r\n",
      "  Attempting uninstall: six\r\n",
      "    Found existing installation: six 1.16.0\r\n",
      "    Uninstalling six-1.16.0:\r\n",
      "      Successfully uninstalled six-1.16.0\r\n",
      "  Attempting uninstall: pyyaml\r\n",
      "    Found existing installation: PyYAML 6.0.2\r\n",
      "    Uninstalling PyYAML-6.0.2:\r\n",
      "      Successfully uninstalled PyYAML-6.0.2\r\n",
      "  Attempting uninstall: pyparsing\r\n",
      "    Found existing installation: pyparsing 2.4.7\r\n",
      "    Uninstalling pyparsing-2.4.7:\r\n",
      "      Successfully uninstalled pyparsing-2.4.7\r\n",
      "  Attempting uninstall: pyarrow\r\n",
      "    Found existing installation: pyarrow 17.0.0\r\n",
      "    Uninstalling pyarrow-17.0.0:\r\n",
      "      Successfully uninstalled pyarrow-17.0.0\r\n",
      "  Attempting uninstall: pillow\r\n",
      "    Found existing installation: pillow 10.4.0\r\n",
      "    Uninstalling pillow-10.4.0:\r\n",
      "      Successfully uninstalled pillow-10.4.0\r\n",
      "  Attempting uninstall: packaging\r\n",
      "    Found existing installation: packaging 23.2\r\n",
      "    Uninstalling packaging-23.2:\r\n",
      "      Successfully uninstalled packaging-23.2\r\n",
      "  Attempting uninstall: numpy\r\n",
      "    Found existing installation: numpy 1.26.4\r\n",
      "    Uninstalling numpy-1.26.4:\r\n",
      "      Successfully uninstalled numpy-1.26.4\r\n",
      "  Attempting uninstall: natsort\r\n",
      "    Found existing installation: natsort 8.4.0\r\n",
      "    Uninstalling natsort-8.4.0:\r\n",
      "      Successfully uninstalled natsort-8.4.0\r\n",
      "  Attempting uninstall: kiwisolver\r\n",
      "    Found existing installation: kiwisolver 1.4.5\r\n",
      "    Uninstalling kiwisolver-1.4.5:\r\n",
      "      Successfully uninstalled kiwisolver-1.4.5\r\n",
      "  Attempting uninstall: idna\r\n",
      "    Found existing installation: idna 3.7\r\n",
      "    Uninstalling idna-3.7:\r\n",
      "      Successfully uninstalled idna-3.7\r\n",
      "  Attempting uninstall: fsspec\r\n",
      "    Found existing installation: fsspec 2024.6.1\r\n",
      "    Uninstalling fsspec-2024.6.1:\r\n",
      "      Successfully uninstalled fsspec-2024.6.1\r\n",
      "  Attempting uninstall: fonttools\r\n",
      "    Found existing installation: fonttools 4.53.1\r\n",
      "    Uninstalling fonttools-4.53.1:\r\n",
      "      Successfully uninstalled fonttools-4.53.1\r\n",
      "  Attempting uninstall: cycler\r\n",
      "    Found existing installation: cycler 0.12.1\r\n",
      "    Uninstalling cycler-0.12.1:\r\n",
      "      Successfully uninstalled cycler-0.12.1\r\n",
      "  Attempting uninstall: cramjam\r\n",
      "    Found existing installation: cramjam 2.9.0\r\n",
      "    Uninstalling cramjam-2.9.0:\r\n",
      "      Successfully uninstalled cramjam-2.9.0\r\n",
      "  Attempting uninstall: charset-normalizer\r\n",
      "    Found existing installation: charset-normalizer 2.0.4\r\n",
      "    Uninstalling charset-normalizer-2.0.4:\r\n",
      "      Successfully uninstalled charset-normalizer-2.0.4\r\n",
      "  Attempting uninstall: certifi\r\n",
      "    Found existing installation: certifi 2024.7.4\r\n",
      "    Uninstalling certifi-2024.7.4:\r\n",
      "      Successfully uninstalled certifi-2024.7.4\r\n",
      "  Attempting uninstall: sorted-nearest\r\n",
      "    Found existing installation: sorted_nearest 0.0.39\r\n",
      "    Uninstalling sorted_nearest-0.0.39:\r\n",
      "      Successfully uninstalled sorted_nearest-0.0.39\r\n",
      "  Attempting uninstall: requests\r\n",
      "    Found existing installation: requests 2.32.2\r\n",
      "    Uninstalling requests-2.32.2:\r\n",
      "      Successfully uninstalled requests-2.32.2\r\n",
      "  Attempting uninstall: python-dateutil\r\n",
      "    Found existing installation: python-dateutil 2.9.0.post0\r\n",
      "    Uninstalling python-dateutil-2.9.0.post0:\r\n",
      "      Successfully uninstalled python-dateutil-2.9.0.post0\r\n",
      "  Attempting uninstall: ncls\r\n",
      "    Found existing installation: ncls 0.0.68\r\n",
      "    Uninstalling ncls-0.0.68:\r\n",
      "      Successfully uninstalled ncls-0.0.68\r\n",
      "  Attempting uninstall: contourpy\r\n",
      "    Found existing installation: contourpy 1.3.0\r\n",
      "    Uninstalling contourpy-1.3.0:\r\n",
      "      Successfully uninstalled contourpy-1.3.0\r\n",
      "  Attempting uninstall: pandas\r\n",
      "    Found existing installation: pandas 2.2.2\r\n",
      "    Uninstalling pandas-2.2.2:\r\n",
      "      Successfully uninstalled pandas-2.2.2\r\n",
      "  Attempting uninstall: matplotlib\r\n",
      "    Found existing installation: matplotlib 3.9.2\r\n",
      "    Uninstalling matplotlib-3.9.2:\r\n",
      "      Successfully uninstalled matplotlib-3.9.2\r\n",
      "  Attempting uninstall: pyranges\r\n",
      "    Found existing installation: pyranges 0.1.2\r\n",
      "    Uninstalling pyranges-0.1.2:\r\n",
      "      Successfully uninstalled pyranges-0.1.2\r\n",
      "  Attempting uninstall: fastparquet\r\n",
      "    Found existing installation: fastparquet 2024.11.0\r\n",
      "    Uninstalling fastparquet-2024.11.0:\r\n",
      "      Successfully uninstalled fastparquet-2024.11.0\r\n",
      "  Attempting uninstall: bioframe\r\n",
      "    Found existing installation: bioframe 0.7.2\r\n",
      "    Uninstalling bioframe-0.7.2:\r\n",
      "      Successfully uninstalled bioframe-0.7.2\r\n",
      "\u001B[31mERROR: pip's dependency resolver does not currently take into account all the packages that are installed. This behaviour is the source of the following dependency conflicts.\r\n",
      "datasets 3.0.1 requires fsspec[http]<=2024.6.1,>=2023.1.0, but you have fsspec 2024.10.0 which is incompatible.\r\n",
      "owl2vec-star 0.2.1 requires pyparsing==2.4.7, but you have pyparsing 3.2.0 which is incompatible.\r\n",
      "owl2vec-star 0.2.1 requires scikit-learn~=0.24.2, but you have scikit-learn 1.5.1 which is incompatible.\u001B[0m\u001B[31m\r\n",
      "\u001B[0mSuccessfully installed bioframe-0.7.2 certifi-2024.8.30 charset-normalizer-3.4.0 contourpy-1.3.1 cramjam-2.9.0 cycler-0.12.1 fastparquet-2024.11.0 fonttools-4.55.0 fsspec-2024.10.0 idna-3.10 kiwisolver-1.4.7 matplotlib-3.9.3 natsort-8.4.0 ncls-0.0.68 numpy-1.26.4 packaging-24.2 pandas-2.2.3 pillow-11.0.0 pyarrow-18.1.0 pyparsing-3.2.0 pyranges-0.1.2 python-dateutil-2.9.0.post0 pytz-2024.2 pyyaml-6.0.2 requests-2.32.3 six-1.16.0 sorted-nearest-0.0.39 tabulate-0.9.0 tzdata-2024.2 urllib3-2.2.3\r\n"
     ]
    }
   ],
   "execution_count": 46
  },
  {
   "metadata": {},
   "cell_type": "markdown",
   "source": "## Setup the environment\n",
   "id": "11ecf3f76791210"
  },
  {
   "metadata": {
    "ExecuteTime": {
     "end_time": "2024-12-01T16:20:47.293135Z",
     "start_time": "2024-12-01T16:20:47.289714Z"
    }
   },
   "cell_type": "code",
   "source": [
    "%env BENCH_DATA_ROOT=/Users/mwiewior/research/git/openstack-bdg-runners/ansible/roles/gha_runner/files/databio\n",
    "%env SEQUILA_CLI=/Users/mwiewior/CLionProjects/sequila-native/target/release/sequila-cli"
   ],
   "id": "bc154f4724028a04",
   "outputs": [
    {
     "name": "stdout",
     "output_type": "stream",
     "text": [
      "env: BENCH_DATA_ROOT=/Users/mwiewior/research/git/openstack-bdg-runners/ansible/roles/gha_runner/files/databio\n",
      "env: SEQUILA_CLI=/Users/mwiewior/CLionProjects/sequila-native/target/release/sequila-cli\n"
     ]
    }
   ],
   "execution_count": 27
  },
  {
   "metadata": {
    "ExecuteTime": {
     "end_time": "2024-12-01T15:42:25.440415Z",
     "start_time": "2024-12-01T15:42:25.438809Z"
    }
   },
   "cell_type": "code",
   "source": [
    "import os\n",
    "BENCH_DATA_ROOT= os.getenv('BENCH_DATA_ROOT', '/data/bench_data/databio/')"
   ],
   "id": "ae490515180f0af4",
   "outputs": [],
   "execution_count": 2
  },
  {
   "metadata": {
    "ExecuteTime": {
     "end_time": "2024-12-01T15:42:26.753404Z",
     "start_time": "2024-12-01T15:42:26.577607Z"
    }
   },
   "cell_type": "code",
   "source": "import pandas as pd",
   "id": "4ade8155f7bea44b",
   "outputs": [],
   "execution_count": 3
  },
  {
   "metadata": {
    "ExecuteTime": {
     "end_time": "2024-12-01T15:58:49.667869Z",
     "start_time": "2024-12-01T15:58:49.397528Z"
    }
   },
   "cell_type": "code",
   "source": [
    "df_0=pd.read_parquet(f'{BENCH_DATA_ROOT}/chainRn4/', engine='pyarrow')\n",
    "df_1=pd.read_parquet(f'{BENCH_DATA_ROOT}/fBrain-DS14718/', engine='pyarrow')\n",
    "df_3=pd.read_parquet(f'{BENCH_DATA_ROOT}/chainOrnAna1/', engine='pyarrow')\n",
    "df_7=pd.read_parquet(f'{BENCH_DATA_ROOT}/ex-anno/', engine='pyarrow')\n",
    "df_8=pd.read_parquet(f'{BENCH_DATA_ROOT}/ex-rna/', engine='pyarrow')"
   ],
   "id": "3621a226d6b36e61",
   "outputs": [],
   "execution_count": 23
  },
  {
   "metadata": {
    "ExecuteTime": {
     "end_time": "2024-12-01T15:52:31.708904Z",
     "start_time": "2024-12-01T15:52:31.149515Z"
    }
   },
   "cell_type": "code",
   "source": [
    "import bioframe as bf\n",
    "\n",
    "bf.overlap(df_0, df_1,cols1=('contig','pos_start','pos_end'), cols2=('contig','pos_start','pos_end'), how=\"inner\").count()"
   ],
   "id": "90831b206d78970a",
   "outputs": [
    {
     "data": {
      "text/plain": [
       "contig        320955\n",
       "pos_start     320955\n",
       "pos_end       320955\n",
       "contig_       320955\n",
       "pos_start_    320955\n",
       "pos_end_      320955\n",
       "dtype: int64"
      ]
     },
     "execution_count": 19,
     "metadata": {},
     "output_type": "execute_result"
    }
   ],
   "execution_count": 19
  },
  {
   "metadata": {
    "ExecuteTime": {
     "end_time": "2024-12-01T16:49:06.590676Z",
     "start_time": "2024-12-01T16:49:06.446532Z"
    }
   },
   "cell_type": "code",
   "source": [
    "%%bash\n",
    "$SEQUILA_CLI --file queries/0-1.sql"
   ],
   "id": "7a7e25a918672b12",
   "outputs": [
    {
     "name": "stdout",
     "output_type": "stream",
     "text": [
      "0 row(s) fetched. \n",
      "Elapsed 0.000 seconds.\n",
      "\n",
      "0 row(s) fetched. \n",
      "Elapsed 0.000 seconds.\n",
      "\n",
      "0 row(s) fetched. \n",
      "Elapsed 0.000 seconds.\n",
      "\n",
      "0 row(s) fetched. \n",
      "Elapsed 0.000 seconds.\n",
      "\n",
      "0 row(s) fetched. \n",
      "Elapsed 0.000 seconds.\n",
      "\n",
      "0 row(s) fetched. \n",
      "Elapsed 0.001 seconds.\n",
      "\n",
      "0 row(s) fetched. \n",
      "Elapsed 0.001 seconds.\n",
      "\n",
      "+-----------------+\n",
      "| count(Int64(1)) |\n",
      "+-----------------+\n",
      "| 320955          |\n",
      "+-----------------+\n",
      "1 row(s) fetched. \n",
      "Elapsed 0.114 seconds.\n",
      "\n"
     ]
    }
   ],
   "execution_count": 43
  },
  {
   "metadata": {
    "ExecuteTime": {
     "end_time": "2024-12-01T15:55:51.536915Z",
     "start_time": "2024-12-01T15:52:35.481548Z"
    }
   },
   "cell_type": "code",
   "source": "bf.overlap(df_0, df_3,cols1=('contig','pos_start','pos_end'), cols2=('contig','pos_start','pos_end'), how=\"inner\").count()",
   "id": "fcb27a787b8b7c97",
   "outputs": [
    {
     "data": {
      "text/plain": [
       "contig        1086692495\n",
       "pos_start     1086692495\n",
       "pos_end       1086692495\n",
       "contig_       1086692495\n",
       "pos_start_    1086692495\n",
       "pos_end_      1086692495\n",
       "dtype: int64"
      ]
     },
     "execution_count": 20,
     "metadata": {},
     "output_type": "execute_result"
    }
   ],
   "execution_count": 20
  },
  {
   "metadata": {
    "ExecuteTime": {
     "end_time": "2024-12-01T17:13:28.628992Z",
     "start_time": "2024-12-01T17:13:19.203685Z"
    }
   },
   "cell_type": "code",
   "source": [
    "%%bash\n",
    "$SEQUILA_CLI --file queries/0-3.sql"
   ],
   "id": "186b1e6fca447dc7",
   "outputs": [
    {
     "name": "stdout",
     "output_type": "stream",
     "text": [
      "0 row(s) fetched. \n",
      "Elapsed 0.000 seconds.\n",
      "\n",
      "0 row(s) fetched. \n",
      "Elapsed 0.000 seconds.\n",
      "\n",
      "0 row(s) fetched. \n",
      "Elapsed 0.000 seconds.\n",
      "\n",
      "0 row(s) fetched. \n",
      "Elapsed 0.000 seconds.\n",
      "\n",
      "0 row(s) fetched. \n",
      "Elapsed 0.000 seconds.\n",
      "\n",
      "0 row(s) fetched. \n",
      "Elapsed 0.001 seconds.\n",
      "\n",
      "0 row(s) fetched. \n",
      "Elapsed 0.000 seconds.\n",
      "\n",
      "+-----------------+\n",
      "| count(Int64(1)) |\n",
      "+-----------------+\n",
      "| 1086692495      |\n",
      "+-----------------+\n",
      "1 row(s) fetched. \n",
      "Elapsed 9.343 seconds.\n",
      "\n"
     ]
    }
   ],
   "execution_count": 71
  },
  {
   "metadata": {
    "ExecuteTime": {
     "end_time": "2024-12-01T15:57:26.436465Z",
     "start_time": "2024-12-01T15:57:05.248641Z"
    }
   },
   "cell_type": "code",
   "source": "bf.overlap(df_0, df_8,cols1=('contig','pos_start','pos_end'), cols2=('contig','pos_start','pos_end'), how=\"inner\").count()",
   "id": "74d31db9ac48f44f",
   "outputs": [
    {
     "data": {
      "text/plain": [
       "contig        164196784\n",
       "pos_start     164196784\n",
       "pos_end       164196784\n",
       "contig_       164196784\n",
       "pos_start_    164196784\n",
       "pos_end_      164196784\n",
       "dtype: int64"
      ]
     },
     "execution_count": 22,
     "metadata": {},
     "output_type": "execute_result"
    }
   ],
   "execution_count": 22
  },
  {
   "metadata": {
    "ExecuteTime": {
     "end_time": "2024-12-01T16:47:42.059401Z",
     "start_time": "2024-12-01T16:47:38.684800Z"
    }
   },
   "cell_type": "code",
   "source": [
    "%%bash\n",
    "$SEQUILA_CLI --file queries/0-8.sql"
   ],
   "id": "bd5a331edde24cb1",
   "outputs": [
    {
     "name": "stdout",
     "output_type": "stream",
     "text": [
      "0 row(s) fetched. \n",
      "Elapsed 0.001 seconds.\n",
      "\n",
      "0 row(s) fetched. \n",
      "Elapsed 0.000 seconds.\n",
      "\n",
      "0 row(s) fetched. \n",
      "Elapsed 0.000 seconds.\n",
      "\n",
      "0 row(s) fetched. \n",
      "Elapsed 0.000 seconds.\n",
      "\n",
      "0 row(s) fetched. \n",
      "Elapsed 0.000 seconds.\n",
      "\n",
      "0 row(s) fetched. \n",
      "Elapsed 0.001 seconds.\n",
      "\n",
      "0 row(s) fetched. \n",
      "Elapsed 0.001 seconds.\n",
      "\n",
      "+-----------------+\n",
      "| count(Int64(1)) |\n",
      "+-----------------+\n",
      "| 164196784       |\n",
      "+-----------------+\n",
      "1 row(s) fetched. \n",
      "Elapsed 3.341 seconds.\n",
      "\n"
     ]
    }
   ],
   "execution_count": 40
  },
  {
   "metadata": {
    "ExecuteTime": {
     "end_time": "2024-12-01T15:59:53.795182Z",
     "start_time": "2024-12-01T15:59:12.692053Z"
    }
   },
   "cell_type": "code",
   "source": "bf.overlap(df_7, df_8,cols1=('contig','pos_start','pos_end'), cols2=('contig','pos_start','pos_end'), how=\"inner\").count()",
   "id": "d35eb67e7a3a3822",
   "outputs": [
    {
     "data": {
      "text/plain": [
       "contig        307184634\n",
       "pos_start     307184634\n",
       "pos_end       307184634\n",
       "contig_       307184634\n",
       "pos_start_    307184634\n",
       "pos_end_      307184634\n",
       "dtype: int64"
      ]
     },
     "execution_count": 24,
     "metadata": {},
     "output_type": "execute_result"
    }
   ],
   "execution_count": 24
  },
  {
   "metadata": {
    "ExecuteTime": {
     "end_time": "2024-12-01T16:48:25.877832Z",
     "start_time": "2024-12-01T16:48:21.120932Z"
    }
   },
   "cell_type": "code",
   "source": [
    "%%bash\n",
    "$SEQUILA_CLI --file queries/7-8.sql"
   ],
   "id": "d480fbb838b5a255",
   "outputs": [
    {
     "name": "stdout",
     "output_type": "stream",
     "text": [
      "0 row(s) fetched. \n",
      "Elapsed 0.001 seconds.\n",
      "\n",
      "0 row(s) fetched. \n",
      "Elapsed 0.000 seconds.\n",
      "\n",
      "0 row(s) fetched. \n",
      "Elapsed 0.000 seconds.\n",
      "\n",
      "0 row(s) fetched. \n",
      "Elapsed 0.000 seconds.\n",
      "\n",
      "0 row(s) fetched. \n",
      "Elapsed 0.000 seconds.\n",
      "\n",
      "0 row(s) fetched. \n",
      "Elapsed 0.002 seconds.\n",
      "\n",
      "0 row(s) fetched. \n",
      "Elapsed 0.001 seconds.\n",
      "\n",
      "+-----------------+\n",
      "| count(Int64(1)) |\n",
      "+-----------------+\n",
      "| 307184634       |\n",
      "+-----------------+\n",
      "1 row(s) fetched. \n",
      "Elapsed 4.722 seconds.\n",
      "\n"
     ]
    }
   ],
   "execution_count": 41
  },
  {
   "metadata": {
    "ExecuteTime": {
     "end_time": "2024-12-01T16:59:31.404985Z",
     "start_time": "2024-12-01T16:59:31.402508Z"
    }
   },
   "cell_type": "code",
   "source": [
    "import pyranges as pr\n",
    "\n",
    "def df2pr(df):\n",
    "    return pr.PyRanges(\n",
    "        chromosomes=df.contig,\n",
    "        starts=df.pos_start,\n",
    "        ends=df.pos_end,\n",
    "    )"
   ],
   "id": "ab270537110baba2",
   "outputs": [],
   "execution_count": 49
  },
  {
   "metadata": {
    "ExecuteTime": {
     "end_time": "2024-12-01T17:02:11.281611Z",
     "start_time": "2024-12-01T17:02:09.871708Z"
    }
   },
   "cell_type": "code",
   "source": [
    "df_0_pr = df2pr(df_0)\n",
    "df_1_pr = df2pr(df_1)\n",
    "df_3_pr = df2pr(df_3)\n",
    "df_7_pr = df2pr(df_7)\n",
    "df_8_pr = df2pr(df_8)"
   ],
   "id": "920fc6c0e98b23d4",
   "outputs": [],
   "execution_count": 54
  },
  {
   "metadata": {
    "ExecuteTime": {
     "end_time": "2024-12-01T17:02:29.542683Z",
     "start_time": "2024-12-01T17:02:29.407336Z"
    }
   },
   "cell_type": "code",
   "source": "len(df_0_pr.join(df_1_pr))",
   "id": "f57a68d0ca3e6894",
   "outputs": [
    {
     "data": {
      "text/plain": [
       "320955"
      ]
     },
     "execution_count": 55,
     "metadata": {},
     "output_type": "execute_result"
    }
   ],
   "execution_count": 55
  },
  {
   "metadata": {
    "ExecuteTime": {
     "end_time": "2024-12-01T17:04:13.763919Z",
     "start_time": "2024-12-01T17:02:41.109483Z"
    }
   },
   "cell_type": "code",
   "source": "len(df_0_pr.join(df_3_pr))",
   "id": "61d44780f5eed493",
   "outputs": [
    {
     "data": {
      "text/plain": [
       "1086692495"
      ]
     },
     "execution_count": 56,
     "metadata": {},
     "output_type": "execute_result"
    }
   ],
   "execution_count": 56
  },
  {
   "metadata": {
    "ExecuteTime": {
     "end_time": "2024-12-01T17:05:23.183830Z",
     "start_time": "2024-12-01T17:05:12.554010Z"
    }
   },
   "cell_type": "code",
   "source": "len(df_0_pr.join(df_8_pr))",
   "id": "3bad2681af94f295",
   "outputs": [
    {
     "data": {
      "text/plain": [
       "164196784"
      ]
     },
     "execution_count": 57,
     "metadata": {},
     "output_type": "execute_result"
    }
   ],
   "execution_count": 57
  },
  {
   "metadata": {
    "ExecuteTime": {
     "end_time": "2024-12-01T17:06:05.677588Z",
     "start_time": "2024-12-01T17:05:46.216382Z"
    }
   },
   "cell_type": "code",
   "source": "len(df_7_pr.join(df_8_pr))",
   "id": "673b2468c4418264",
   "outputs": [
    {
     "data": {
      "text/plain": [
       "307184634"
      ]
     },
     "execution_count": 58,
     "metadata": {},
     "output_type": "execute_result"
    }
   ],
   "execution_count": 58
  },
  {
   "metadata": {
    "ExecuteTime": {
     "end_time": "2024-12-01T17:28:46.978407Z",
     "start_time": "2024-12-01T17:28:46.975437Z"
    }
   },
   "cell_type": "code",
   "source": [
    "import matplotlib.pyplot as plt\n",
    "import numpy as np\n",
    "def plot_metrics(metrics, labels, title):\n",
    "    x = np.arange(len(labels))  # the label locations\n",
    "    width = 0.10  # the width of the bars\n",
    "    fig, ax = plt.subplots()\n",
    "    k = 0\n",
    "    for m in metrics:\n",
    "        ax.bar(\n",
    "            x + width * k,\n",
    "            [metrics[m][\"0-1\"], metrics[m][\"0-3\"], metrics[m][\"0-8\"], metrics[m][\"7-8\"]],\n",
    "            width,\n",
    "            label=m,\n",
    "        )\n",
    "        k += 1\n",
    "    ax.set_xticks(x)\n",
    "    ax.set_xticklabels(labels)\n",
    "    ax.set_ylabel(\"Time [s]\")\n",
    "    ax.set_title(title)\n",
    "    ax.legend(loc=\"upper center\", bbox_to_anchor=(0.5, -0.05), shadow=True, ncol=4)\n",
    "    ax.grid(True)\n",
    "    fig.set_size_inches(10, 5)\n",
    "    plt.show()"
   ],
   "id": "f77062ce640cc526",
   "outputs": [],
   "execution_count": 84
  },
  {
   "metadata": {
    "ExecuteTime": {
     "end_time": "2024-12-01T17:30:56.258695Z",
     "start_time": "2024-12-01T17:30:56.198545Z"
    }
   },
   "cell_type": "code",
   "source": [
    "metrics = {\n",
    "    \"Sequila-native\": {\"0-1\": 0.144, \"0-3\": 9.425, \"0-8\": 3.374, \"7-8\": 4.756},\n",
    "    \"Bioframe\": {\"0-1\": 0.559, \"0-3\": 196.0, \"0-8\": 21.128, \"7-8\": 41.103},\n",
    "    \"PyRanges\": {\"0-1\": 0.135, \"0-3\": 92.0, \"0-8\": 10.629, \"7-8\": 19.461},\n",
    "}\n",
    "plot_metrics(\n",
    "    metrics, [\"0-1\", \"0-3\", \"0-8\",\"7-8\"], \"Overlap performance comparison\"\n",
    ")"
   ],
   "id": "75aba28753e4572c",
   "outputs": [
    {
     "data": {
      "text/plain": [
       "<Figure size 1000x500 with 1 Axes>"
      ],
      "image/png": "[encoded data removed]"
     },
     "metadata": {},
     "output_type": "display_data"
    }
   ],
   "execution_count": 86
  },
  {
   "metadata": {},
   "cell_type": "code",
   "outputs": [],
   "execution_count": null,
   "source": "",
   "id": "a68d62f399e4f74b"
  }
 ],
 "metadata": {
  "kernelspec": {
   "display_name": "Python 3",
   "language": "python",
   "name": "python3"
  },
  "language_info": {
   "codemirror_mode": {
    "name": "ipython",
    "version": 2
   },
   "file_extension": ".py",
   "mimetype": "text/x-python",
   "name": "python",
   "nbconvert_exporter": "python",
   "pygments_lexer": "ipython2",
   "version": "2.7.6"
  }
 },
 "nbformat": 4,
 "nbformat_minor": 5
}
